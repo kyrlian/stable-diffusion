{
 "cells": [
  {
   "attachments": {},
   "cell_type": "markdown",
   "metadata": {},
   "source": [
    "## Install requirements"
   ]
  },
  {
   "cell_type": "code",
   "execution_count": null,
   "metadata": {},
   "outputs": [],
   "source": [
    "!python.exe -m pip install --upgrade pip"
   ]
  },
  {
   "cell_type": "code",
   "execution_count": null,
   "metadata": {},
   "outputs": [],
   "source": [
    "%pip install -r requirements-torch-windows.txt -U\n",
    "%pip install -r requirements.txt -U"
   ]
  },
  {
   "attachments": {},
   "cell_type": "markdown",
   "metadata": {},
   "source": [
    "## Init stable diffusion"
   ]
  },
  {
   "cell_type": "code",
   "execution_count": null,
   "metadata": {},
   "outputs": [],
   "source": [
    "from diffusers import StableDiffusionPipeline, DPMSolverMultistepScheduler\n",
    "import torch\n",
    "\n",
    "def initdiffusionpipeline(model_id):\n",
    "    # Use the DPMSolverMultistepScheduler (DPM-Solver++) scheduler here instead\n",
    "    pipe = StableDiffusionPipeline.from_pretrained(model_id, torch_dtype=torch.float16)\n",
    "    pipe.scheduler = DPMSolverMultistepScheduler.from_config(pipe.scheduler.config)\n",
    "    pipe = pipe.to(\"cuda\")\n",
    "    return pipe\n",
    "\n",
    "#diffusionpipeline=initdiffusionpipeline(\"stabilityai/stable-diffusion-2-1\")\n",
    "#diffusionpipeline=initdiffusionpipeline(\"dreamlike-art/dreamlike-diffusion-1.0\")\n",
    "diffusionpipeline=initdiffusionpipeline(\"runwayml/stable-diffusion-v1-5\")\n"
   ]
  },
  {
   "cell_type": "code",
   "execution_count": null,
   "metadata": {},
   "outputs": [],
   "source": [
    "import re\n",
    "def saveimage(image, prompt, seed, postfix=\"\"):\n",
    "    cleanprompt = re.sub(\"( |,)\", '-', prompt)\n",
    "    fname = f\"images/{cleanprompt}-{seed}-{postfix}.png\"\n",
    "    image.save(fname)\n",
    "    print(fname)\n",
    "    display(image)\n",
    "    #image.show() # open outside"
   ]
  },
  {
   "cell_type": "code",
   "execution_count": null,
   "metadata": {},
   "outputs": [],
   "source": [
    "def generate(prompt,nbimages=1,seed=42):\n",
    "    images = []\n",
    "    for i in range(nbimages):\n",
    "        generator = torch.Generator(\"cuda\").manual_seed(seed+i)\n",
    "        image = diffusionpipeline(prompt,num_images_per_prompt=1, generator=generator).images[0]\n",
    "        saveimage(image, prompt, seed+i)\n",
    "        images.append(image)\n",
    "    #images = diffusionpipeline(prompt,num_images_per_prompt=nbimages, generator=generator).images\n",
    "    return images"
   ]
  },
  {
   "cell_type": "code",
   "execution_count": null,
   "metadata": {},
   "outputs": [],
   "source": [
    "def expand(metaprompt):\n",
    "    promptlist=[\"\"]\n",
    "    for part in metaprompt.split(\"/\"):\n",
    "        newpromptlist=[]\n",
    "        for variation in part.split(\"|\"):\n",
    "            for partialprompt in promptlist:\n",
    "                newpromptlist.append(partialprompt+variation) # combine\n",
    "        promptlist=newpromptlist.copy() #ensure its a copy\n",
    "    return promptlist"
   ]
  },
  {
   "attachments": {},
   "cell_type": "markdown",
   "metadata": {},
   "source": [
    "## Run"
   ]
  },
  {
   "cell_type": "code",
   "execution_count": null,
   "metadata": {},
   "outputs": [],
   "source": [
    "prompt=\"photo of a /kraken|octopus|creature/ lurking in the deep green blue sea, deep blue shadows and sun rays, undersea jungle, high definition rendering\"\n",
    "prompts=expand(prompt)\n",
    "for p in prompts:\n",
    "    print(p)\n",
    "    generate(p)\n",
    "    "
   ]
  }
 ],
 "metadata": {
  "kernelspec": {
   "display_name": "Python 3",
   "language": "python",
   "name": "python3"
  },
  "language_info": {
   "codemirror_mode": {
    "name": "ipython",
    "version": 3
   },
   "file_extension": ".py",
   "mimetype": "text/x-python",
   "name": "python",
   "nbconvert_exporter": "python",
   "pygments_lexer": "ipython3",
   "version": "3.11.3"
  },
  "orig_nbformat": 4
 },
 "nbformat": 4,
 "nbformat_minor": 2
}

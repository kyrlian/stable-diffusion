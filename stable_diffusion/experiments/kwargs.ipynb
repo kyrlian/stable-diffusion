{
 "cells": [
  {
   "cell_type": "code",
   "execution_count": 2,
   "metadata": {},
   "outputs": [],
   "source": [
    "def second(a, b, c):\n",
    "    print(f\"{a} {b} {c}\")"
   ]
  },
  {
   "cell_type": "code",
   "execution_count": 6,
   "metadata": {},
   "outputs": [],
   "source": [
    "def forwarder(to, a, **kwargs):\n",
    "    print(f\"b:{kwargs['b']}\")\n",
    "    to(a, **kwargs)"
   ]
  },
  {
   "cell_type": "code",
   "execution_count": 7,
   "metadata": {},
   "outputs": [
    {
     "name": "stdout",
     "output_type": "stream",
     "text": [
      "1 2 3\n",
      "b:2\n",
      "2 2 3\n",
      "b:2\n",
      "3 2 3\n"
     ]
    }
   ],
   "source": [
    "kwargs = {'b': 2, 'c':3}\n",
    "second(1, **kwargs)\n",
    "forwarder(second, 2, **kwargs)\n",
    "forwarder(second, 3, **{'b': 2, 'c':3})"
   ]
  }
 ],
 "metadata": {
  "kernelspec": {
   "display_name": "Python 3",
   "language": "python",
   "name": "python3"
  },
  "language_info": {
   "codemirror_mode": {
    "name": "ipython",
    "version": 3
   },
   "file_extension": ".py",
   "mimetype": "text/x-python",
   "name": "python",
   "nbconvert_exporter": "python",
   "pygments_lexer": "ipython3",
   "version": "3.11.3"
  },
  "orig_nbformat": 4
 },
 "nbformat": 4,
 "nbformat_minor": 2
}

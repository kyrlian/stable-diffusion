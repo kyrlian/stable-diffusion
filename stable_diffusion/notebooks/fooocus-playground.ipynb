{
 "cells": [
  {
   "cell_type": "markdown",
   "metadata": {},
   "source": [
    "# Fooocus playground"
   ]
  },
  {
   "cell_type": "markdown",
   "metadata": {},
   "source": [
    "## Init"
   ]
  },
  {
   "cell_type": "code",
   "execution_count": 1,
   "metadata": {},
   "outputs": [
    {
     "name": "stdout",
     "output_type": "stream",
     "text": [
      "e:\\docs\\coding\\python\\stable-diffusion\n",
      "704×1408 : 1/2, 704×1344 : 11/21, 768×1344 : 4/7, 768×1280 : 3/5, 832×1216 : 13/19, 832×1152 : 13/18, 896×1152 : 7/9, 896×1088 : 14/17, 960×1088 : 15/17, 960×1024 : 15/16, 1024×1024 : 1, 1024×960 : 16/15, 1088×960 : 17/15, 1088×896 : 17/14, 1152×896 : 9/7, 1152×832 : 18/13, 1216×832 : 19/13, 1280×768 : 5/3, 1344×768 : 7/4, 1344×704 : 21/11, 1408×704 : 2, 1472×704 : 23/11, 1536×640 : 12/5, 1600×640 : 5/2, 1664×576 : 26/9, 1728×576 : 3, ['Fooocus V2', 'Default (Slightly Cinematic)', 'SAI 3D Model', 'SAI Analog Film', 'SAI Anime', 'SAI Cinematic', 'SAI Comic Book', 'SAI Craft Clay', 'SAI Digital Art', 'SAI Enhance', 'SAI Fantasy Art', 'SAI Isometric', 'SAI Line Art', 'SAI Lowpoly', 'SAI Neonpunk', 'SAI Origami', 'SAI Photographic', 'SAI Pixel Art', 'SAI Texture', 'Ads Advertising', 'Ads Automotive', 'Ads Corporate', 'Ads Fashion Editorial', 'Ads Food Photography', 'Ads Luxury', 'Ads Real Estate', 'Ads Retail', 'Artstyle Abstract', 'Artstyle Abstract Expressionism', 'Artstyle Art Deco', 'Artstyle Art Nouveau', 'Artstyle Constructivist', 'Artstyle Cubist', 'Artstyle Expressionist', 'Artstyle Graffiti', 'Artstyle Hyperrealism', 'Artstyle Impressionist', 'Artstyle Pointillism', 'Artstyle Pop Art', 'Artstyle Psychedelic', 'Artstyle Renaissance', 'Artstyle Steampunk', 'Artstyle Surrealist', 'Artstyle Typography', 'Artstyle Watercolor', 'Futuristic Biomechanical', 'Futuristic Biomechanical Cyberpunk', 'Futuristic Cybernetic', 'Futuristic Cybernetic Robot', 'Futuristic Cyberpunk Cityscape', 'Futuristic Futuristic', 'Futuristic Retro Cyberpunk', 'Futuristic Retro Futurism', 'Futuristic Sci Fi', 'Futuristic Vaporwave', 'Game Bubble Bobble', 'Game Cyberpunk Game', 'Game Fighting Game', 'Game Gta', 'Game Mario', 'Game Minecraft', 'Game Pokemon', 'Game Retro Arcade', 'Game Retro Game', 'Game Rpg Fantasy Game', 'Game Strategy Game', 'Game Streetfighter', 'Game Zelda', 'Misc Architectural', 'Misc Disco', 'Misc Dreamscape', 'Misc Dystopian', 'Misc Fairy Tale', 'Misc Gothic', 'Misc Grunge', 'Misc Horror', 'Misc Kawaii', 'Misc Lovecraftian', 'Misc Macabre', 'Misc Manga', 'Misc Metropolis', 'Misc Minimalist', 'Misc Monochrome', 'Misc Nautical', 'Misc Space', 'Misc Stained Glass', 'Misc Techwear Fashion', 'Misc Tribal', 'Misc Zentangle', 'Papercraft Collage', 'Papercraft Flat Papercut', 'Papercraft Kirigami', 'Papercraft Paper Mache', 'Papercraft Paper Quilling', 'Papercraft Papercut Collage', 'Papercraft Papercut Shadow Box', 'Papercraft Stacked Papercut', 'Papercraft Thick Layered Papercut', 'Photo Alien', 'Photo Film Noir', 'Photo Hdr', 'Photo Long Exposure', 'Photo Neon Noir', 'Photo Silhouette', 'Photo Tilt Shift', 'Cinematic Diva', 'Abstract Expressionism', 'Academia', 'Action Figure', 'Adorable 3D Character', 'Adorable Kawaii', 'Art Deco', 'Art Nouveau', 'Astral Aura', 'Avant Garde', 'Baroque', 'Bauhaus Style Poster', 'Blueprint Schematic Drawing', 'Caricature', 'Cel Shaded Art', 'Character Design Sheet', 'Classicism Art', 'Color Field Painting', 'Colored Pencil Art', 'Conceptual Art', 'Constructivism', 'Cubism', 'Dadaism', 'Dark Fantasy', 'Dark Moody Atmosphere', 'Dmt Art Style', 'Doodle Art', 'Double Exposure', 'Dripping Paint Splatter Art', 'Expressionism', 'Faded Polaroid Photo', 'Fauvism', 'Flat 2d Art', 'Fortnite Art Style', 'Futurism', 'Glitchcore', 'Glo Fi', 'Googie Art Style', 'Graffiti Art', 'Harlem Renaissance Art', 'High Fashion', 'Idyllic', 'Impressionism', 'Infographic Drawing', 'Ink Dripping Drawing', 'Japanese Ink Drawing', 'Knolling Photography', 'Light Cheery Atmosphere', 'Logo Design', 'Luxurious Elegance', 'Macro Photography', 'Mandola Art', 'Marker Drawing', 'Medievalism', 'Minimalism', 'Neo Baroque', 'Neo Byzantine', 'Neo Futurism', 'Neo Impressionism', 'Neo Rococo', 'Neoclassicism', 'Op Art', 'Ornate And Intricate', 'Pencil Sketch Drawing', 'Pop Art 2', 'Rococo', 'Silhouette Art', 'Simple Vector Art', 'Sketchup', 'Steampunk 2', 'Surrealism', 'Suprematism', 'Terragen', 'Tranquil Relaxing Atmosphere', 'Sticker Designs', 'Vibrant Rim Light', 'Volumetric Lighting', 'Watercolor 2', 'Whimsical And Playful']\n",
      "Loaded as API: http://127.0.0.1:7860/ ✔\n",
      "size: 1472×704, style: ['Fooocus V2'], performance: Speed, nbimages: 1, seed: None, sharpness: 0\n"
     ]
    }
   ],
   "source": [
    "%cd ..\n",
    "from utils_prompt import expand, progress\n",
    "from utils_quote import getquote\n",
    "from utils_fooocus import fooocusClient\n",
    "fooocusClient.list_sizes()\n",
    "fooocusClient.lists_styles()\n",
    "fc = fooocusClient()\n",
    "print(fc.info())"
   ]
  },
  {
   "cell_type": "markdown",
   "metadata": {},
   "source": [
    "## Sunrise / Sunset"
   ]
  },
  {
   "cell_type": "code",
   "execution_count": 2,
   "metadata": {},
   "outputs": [
    {
     "name": "stdout",
     "output_type": "stream",
     "text": [
      "size: 1472×704, style: ['Fooocus V2'], performance: Speed, nbimages: 1, seed: None, sharpness: 0\n",
      "Generating: Sunset on the alps with a few cloud, award wining photography\n",
      "Generating: Sunrise on the alps with a few cloud, award wining photography\n",
      "Generating: Sunset on the kilimandjaro with a few cloud, award wining photography\n",
      "Generating: Sunrise on the kilimandjaro with a few cloud, award wining photography\n"
     ]
    }
   ],
   "source": [
    "fc.generate_all(expand(\"/Sunset|Sunrise/ on the /alps|kilimandjaro/ with a few cloud, award wining photography\"), **{'size':'1472x704'})"
   ]
  },
  {
   "cell_type": "markdown",
   "metadata": {},
   "source": [
    "## Progressive prompt "
   ]
  },
  {
   "cell_type": "code",
   "execution_count": null,
   "metadata": {},
   "outputs": [],
   "source": [
    "fc.set_size(\"1472x704\")\n",
    "fc.generate_all(progress([\n",
    "    \"A cat walking\",\n",
    "    \"in the mist\",\n",
    "    \"in a cyberpunk city\",\n",
    "]))"
   ]
  },
  {
   "cell_type": "markdown",
   "metadata": {},
   "source": [
    "## Test Quality"
   ]
  },
  {
   "cell_type": "code",
   "execution_count": null,
   "metadata": {},
   "outputs": [],
   "source": [
    "fc.set_size(\"1472x704\")\n",
    "fc.seed=534\n",
    "fc.generate(\"in the mist\",performance='Quality')\n",
    "fc.generate(\"in the mist\",performance='Speed')"
   ]
  },
  {
   "cell_type": "markdown",
   "metadata": {},
   "source": [
    "## Best of"
   ]
  },
  {
   "cell_type": "code",
   "execution_count": null,
   "metadata": {},
   "outputs": [],
   "source": [
    "fc.generate([\n",
    "    \"Sunset\",\n",
    "    \"Sunrise\",\n",
    "    \"in the mist\"\n",
    "],**{'size':'1472x704','performance':'Quality'})"
   ]
  },
  {
   "cell_type": "markdown",
   "metadata": {},
   "source": [
    "## Explore fooocus styles"
   ]
  },
  {
   "cell_type": "code",
   "execution_count": null,
   "metadata": {},
   "outputs": [],
   "source": [
    "prompt = \"a cat walking in the sky\"\n",
    "fc.set_size(\"1472x704\")\n",
    "for style in fooocusClient.styles:\n",
    "    fc.generate(prompt, style=style)"
   ]
  },
  {
   "cell_type": "markdown",
   "metadata": {},
   "source": [
    "## Explore aituts prompt styles\n",
    "https://aituts.com/sdxl-prompts/"
   ]
  },
  {
   "cell_type": "code",
   "execution_count": null,
   "metadata": {},
   "outputs": [],
   "source": [
    "from utils_prompt import aituts_style_list, generate_prompt_aituts\n",
    "prompt = \"a cat walking in the sky\"\n",
    "fc.set_size(\"1472x704\")\n",
    "for style in aituts_style_list:\n",
    "    pos,neg = generate_prompt_aituts(style, prompt)\n",
    "    fc.generate([pos],negative_prompt=neg)"
   ]
  },
  {
   "cell_type": "markdown",
   "metadata": {},
   "source": [
    "## Landscapes"
   ]
  },
  {
   "cell_type": "code",
   "execution_count": null,
   "metadata": {},
   "outputs": [],
   "source": [
    "prompt = \"/Sunset|Sunrise/ on the /alps|kilimandjaro|sea|beach|hills|snow|city/ with a few cloud, award wining photography\"\n",
    "prompts = expand(prompt)\n",
    "fc.set_size(\"1472x704\")\n",
    "for style in fooocusClient.styles:\n",
    "    fc.generate(prompts, styles=[style], wait=False)"
   ]
  },
  {
   "cell_type": "markdown",
   "metadata": {},
   "source": [
    "## Quote"
   ]
  },
  {
   "cell_type": "code",
   "execution_count": 6,
   "metadata": {},
   "outputs": [
    {
     "name": "stdout",
     "output_type": "stream",
     "text": [
      "It is the power of the mind to be unconquerable.\n",
      "None are more hopelessly enslaved than those who falsely believe they are free.\n",
      "Remember, hope is a good thing, maybe the best of things.\n",
      "Surrender to what is. Let go of what was. Have faith in what will be.\n",
      "Blessed is he who expects nothing, for he shall never be disappointed.\n",
      "The golden opportunity you are seeking is within yourself.\n",
      "Dreams are the royal road to the unconscious. \n",
      "There are no limitations to the mind except those we acknowledge...\n",
      "It is the mark of an educated mind to be able to entertain a thought without accepting it.\n",
      "To improve is to change, so to be perfect is to change often.\n"
     ]
    }
   ],
   "source": [
    "for i in range(10):\n",
    "    q = getquote()\n",
    "    print(q)\n",
    "    j = fc.generate(q, styles=[\"Default (Slightly Cinematic)\"], performance=\"Quality\")\n"
   ]
  }
 ],
 "metadata": {
  "kernelspec": {
   "display_name": "Python 3",
   "language": "python",
   "name": "python3"
  },
  "language_info": {
   "codemirror_mode": {
    "name": "ipython",
    "version": 3
   },
   "file_extension": ".py",
   "mimetype": "text/x-python",
   "name": "python",
   "nbconvert_exporter": "python",
   "pygments_lexer": "ipython3",
   "version": "3.11.3"
  },
  "orig_nbformat": 4
 },
 "nbformat": 4,
 "nbformat_minor": 2
}

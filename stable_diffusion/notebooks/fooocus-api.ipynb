{
 "cells": [
  {
   "cell_type": "markdown",
   "metadata": {},
   "source": [
    "# Gradio Fooocus API"
   ]
  },
  {
   "cell_type": "markdown",
   "metadata": {},
   "source": [
    "- https://github.com/lllyasviel/Fooocus\n",
    "- https://www.gradio.app/docs/client"
   ]
  },
  {
   "cell_type": "markdown",
   "metadata": {},
   "source": [
    "## Prepare"
   ]
  },
  {
   "cell_type": "code",
   "execution_count": 5,
   "metadata": {},
   "outputs": [
    {
     "name": "stdout",
     "output_type": "stream",
     "text": [
      "Defaulting to user installation because normal site-packages is not writeable\n",
      "Requirement already satisfied: diffusers in c:\\users\\key\\appdata\\roaming\\python\\python311\\site-packages (from -r ../requirements.txt (line 1)) (0.21.4)\n",
      "Requirement already satisfied: transformers in c:\\users\\key\\appdata\\roaming\\python\\python311\\site-packages (from -r ../requirements.txt (line 2)) (4.34.1)\n",
      "Requirement already satisfied: accelerate in c:\\users\\key\\appdata\\roaming\\python\\python311\\site-packages (from -r ../requirements.txt (line 3)) (0.23.0)\n",
      "Requirement already satisfied: scipy in c:\\users\\key\\appdata\\roaming\\python\\python311\\site-packages (from -r ../requirements.txt (line 4)) (1.11.3)\n",
      "Requirement already satisfied: safetensors in c:\\users\\key\\appdata\\roaming\\python\\python311\\site-packages (from -r ../requirements.txt (line 5)) (0.4.0)\n",
      "Requirement already satisfied: invisible_watermark in c:\\users\\key\\appdata\\roaming\\python\\python311\\site-packages (from -r ../requirements.txt (line 6)) (0.2.0)\n",
      "Requirement already satisfied: gradio_client in c:\\users\\key\\appdata\\roaming\\python\\python311\\site-packages (from -r ../requirements.txt (line 7)) (0.6.1)\n",
      "Requirement already satisfied: ipywidgets in c:\\users\\key\\appdata\\roaming\\python\\python311\\site-packages (from -r ../requirements.txt (line 8)) (8.1.1)\n",
      "Requirement already satisfied: Pillow in c:\\users\\key\\appdata\\roaming\\python\\python311\\site-packages (from diffusers->-r ../requirements.txt (line 1)) (9.3.0)\n",
      "Requirement already satisfied: filelock in c:\\users\\key\\appdata\\roaming\\python\\python311\\site-packages (from diffusers->-r ../requirements.txt (line 1)) (3.9.0)\n",
      "Requirement already satisfied: huggingface-hub>=0.13.2 in c:\\users\\key\\appdata\\roaming\\python\\python311\\site-packages (from diffusers->-r ../requirements.txt (line 1)) (0.16.4)\n",
      "Requirement already satisfied: importlib-metadata in c:\\users\\key\\appdata\\roaming\\python\\python311\\site-packages (from diffusers->-r ../requirements.txt (line 1)) (6.6.0)\n",
      "Requirement already satisfied: numpy in c:\\users\\key\\appdata\\roaming\\python\\python311\\site-packages (from diffusers->-r ../requirements.txt (line 1)) (1.24.1)\n",
      "Requirement already satisfied: regex!=2019.12.17 in c:\\users\\key\\appdata\\roaming\\python\\python311\\site-packages (from diffusers->-r ../requirements.txt (line 1)) (2023.5.5)\n",
      "Requirement already satisfied: requests in c:\\users\\key\\appdata\\roaming\\python\\python311\\site-packages (from diffusers->-r ../requirements.txt (line 1)) (2.31.0)\n",
      "Requirement already satisfied: packaging>=20.0 in c:\\users\\key\\appdata\\roaming\\python\\python311\\site-packages (from transformers->-r ../requirements.txt (line 2)) (23.1)\n",
      "Requirement already satisfied: pyyaml>=5.1 in c:\\users\\key\\appdata\\roaming\\python\\python311\\site-packages (from transformers->-r ../requirements.txt (line 2)) (6.0)\n",
      "Requirement already satisfied: tokenizers<0.15,>=0.14 in c:\\users\\key\\appdata\\roaming\\python\\python311\\site-packages (from transformers->-r ../requirements.txt (line 2)) (0.14.1)\n",
      "Requirement already satisfied: tqdm>=4.27 in c:\\users\\key\\appdata\\roaming\\python\\python311\\site-packages (from transformers->-r ../requirements.txt (line 2)) (4.65.0)\n",
      "Requirement already satisfied: psutil in c:\\users\\key\\appdata\\roaming\\python\\python311\\site-packages (from accelerate->-r ../requirements.txt (line 3)) (5.9.5)\n",
      "Requirement already satisfied: torch>=1.10.0 in c:\\users\\key\\appdata\\roaming\\python\\python311\\site-packages (from accelerate->-r ../requirements.txt (line 3)) (2.0.1+cu117)\n",
      "Requirement already satisfied: PyWavelets>=1.1.1 in c:\\users\\key\\appdata\\roaming\\python\\python311\\site-packages (from invisible_watermark->-r ../requirements.txt (line 6)) (1.4.1)\n",
      "Requirement already satisfied: opencv-python>=4.1.0.25 in c:\\users\\key\\appdata\\roaming\\python\\python311\\site-packages (from invisible_watermark->-r ../requirements.txt (line 6)) (4.8.0.74)\n",
      "Requirement already satisfied: fsspec in c:\\users\\key\\appdata\\roaming\\python\\python311\\site-packages (from gradio_client->-r ../requirements.txt (line 7)) (2023.5.0)\n",
      "Requirement already satisfied: httpx in c:\\users\\key\\appdata\\roaming\\python\\python311\\site-packages (from gradio_client->-r ../requirements.txt (line 7)) (0.24.1)\n",
      "Requirement already satisfied: typing-extensions~=4.0 in c:\\users\\key\\appdata\\roaming\\python\\python311\\site-packages (from gradio_client->-r ../requirements.txt (line 7)) (4.7.1)\n",
      "Requirement already satisfied: websockets<12.0,>=10.0 in c:\\users\\key\\appdata\\roaming\\python\\python311\\site-packages (from gradio_client->-r ../requirements.txt (line 7)) (11.0.3)\n",
      "Requirement already satisfied: comm>=0.1.3 in c:\\users\\key\\appdata\\roaming\\python\\python311\\site-packages (from ipywidgets->-r ../requirements.txt (line 8)) (0.1.3)\n",
      "Requirement already satisfied: ipython>=6.1.0 in c:\\users\\key\\appdata\\roaming\\python\\python311\\site-packages (from ipywidgets->-r ../requirements.txt (line 8)) (8.13.2)\n",
      "Requirement already satisfied: traitlets>=4.3.1 in c:\\users\\key\\appdata\\roaming\\python\\python311\\site-packages (from ipywidgets->-r ../requirements.txt (line 8)) (5.9.0)\n",
      "Requirement already satisfied: widgetsnbextension~=4.0.9 in c:\\users\\key\\appdata\\roaming\\python\\python311\\site-packages (from ipywidgets->-r ../requirements.txt (line 8)) (4.0.9)\n",
      "Requirement already satisfied: jupyterlab-widgets~=3.0.9 in c:\\users\\key\\appdata\\roaming\\python\\python311\\site-packages (from ipywidgets->-r ../requirements.txt (line 8)) (3.0.9)\n",
      "Requirement already satisfied: backcall in c:\\users\\key\\appdata\\roaming\\python\\python311\\site-packages (from ipython>=6.1.0->ipywidgets->-r ../requirements.txt (line 8)) (0.2.0)\n",
      "Requirement already satisfied: decorator in c:\\users\\key\\appdata\\roaming\\python\\python311\\site-packages (from ipython>=6.1.0->ipywidgets->-r ../requirements.txt (line 8)) (5.1.1)\n",
      "Requirement already satisfied: jedi>=0.16 in c:\\users\\key\\appdata\\roaming\\python\\python311\\site-packages (from ipython>=6.1.0->ipywidgets->-r ../requirements.txt (line 8)) (0.18.2)\n",
      "Requirement already satisfied: matplotlib-inline in c:\\users\\key\\appdata\\roaming\\python\\python311\\site-packages (from ipython>=6.1.0->ipywidgets->-r ../requirements.txt (line 8)) (0.1.6)\n",
      "Requirement already satisfied: pickleshare in c:\\users\\key\\appdata\\roaming\\python\\python311\\site-packages (from ipython>=6.1.0->ipywidgets->-r ../requirements.txt (line 8)) (0.7.5)\n",
      "Requirement already satisfied: prompt-toolkit!=3.0.37,<3.1.0,>=3.0.30 in c:\\users\\key\\appdata\\roaming\\python\\python311\\site-packages (from ipython>=6.1.0->ipywidgets->-r ../requirements.txt (line 8)) (3.0.38)\n",
      "Requirement already satisfied: pygments>=2.4.0 in c:\\users\\key\\appdata\\roaming\\python\\python311\\site-packages (from ipython>=6.1.0->ipywidgets->-r ../requirements.txt (line 8)) (2.15.1)\n",
      "Requirement already satisfied: stack-data in c:\\users\\key\\appdata\\roaming\\python\\python311\\site-packages (from ipython>=6.1.0->ipywidgets->-r ../requirements.txt (line 8)) (0.6.2)\n",
      "Requirement already satisfied: colorama in c:\\users\\key\\appdata\\roaming\\python\\python311\\site-packages (from ipython>=6.1.0->ipywidgets->-r ../requirements.txt (line 8)) (0.4.6)\n",
      "Requirement already satisfied: charset-normalizer<4,>=2 in c:\\users\\key\\appdata\\roaming\\python\\python311\\site-packages (from requests->diffusers->-r ../requirements.txt (line 1)) (2.1.1)\n",
      "Requirement already satisfied: idna<4,>=2.5 in c:\\users\\key\\appdata\\roaming\\python\\python311\\site-packages (from requests->diffusers->-r ../requirements.txt (line 1)) (3.4)\n",
      "Requirement already satisfied: urllib3<3,>=1.21.1 in c:\\users\\key\\appdata\\roaming\\python\\python311\\site-packages (from requests->diffusers->-r ../requirements.txt (line 1)) (1.26.13)\n",
      "Requirement already satisfied: certifi>=2017.4.17 in c:\\users\\key\\appdata\\roaming\\python\\python311\\site-packages (from requests->diffusers->-r ../requirements.txt (line 1)) (2022.12.7)\n",
      "Requirement already satisfied: sympy in c:\\users\\key\\appdata\\roaming\\python\\python311\\site-packages (from torch>=1.10.0->accelerate->-r ../requirements.txt (line 3)) (1.11.1)\n",
      "Requirement already satisfied: networkx in c:\\users\\key\\appdata\\roaming\\python\\python311\\site-packages (from torch>=1.10.0->accelerate->-r ../requirements.txt (line 3)) (3.0)\n",
      "Requirement already satisfied: jinja2 in c:\\users\\key\\appdata\\roaming\\python\\python311\\site-packages (from torch>=1.10.0->accelerate->-r ../requirements.txt (line 3)) (3.1.2)\n",
      "Requirement already satisfied: httpcore<0.18.0,>=0.15.0 in c:\\users\\key\\appdata\\roaming\\python\\python311\\site-packages (from httpx->gradio_client->-r ../requirements.txt (line 7)) (0.17.2)\n",
      "Requirement already satisfied: sniffio in c:\\users\\key\\appdata\\roaming\\python\\python311\\site-packages (from httpx->gradio_client->-r ../requirements.txt (line 7)) (1.3.0)\n",
      "Requirement already satisfied: zipp>=0.5 in c:\\users\\key\\appdata\\roaming\\python\\python311\\site-packages (from importlib-metadata->diffusers->-r ../requirements.txt (line 1)) (3.15.0)\n",
      "Requirement already satisfied: h11<0.15,>=0.13 in c:\\users\\key\\appdata\\roaming\\python\\python311\\site-packages (from httpcore<0.18.0,>=0.15.0->httpx->gradio_client->-r ../requirements.txt (line 7)) (0.14.0)\n",
      "Requirement already satisfied: anyio<5.0,>=3.0 in c:\\users\\key\\appdata\\roaming\\python\\python311\\site-packages (from httpcore<0.18.0,>=0.15.0->httpx->gradio_client->-r ../requirements.txt (line 7)) (3.7.0)\n",
      "Requirement already satisfied: parso<0.9.0,>=0.8.0 in c:\\users\\key\\appdata\\roaming\\python\\python311\\site-packages (from jedi>=0.16->ipython>=6.1.0->ipywidgets->-r ../requirements.txt (line 8)) (0.8.3)\n",
      "Requirement already satisfied: wcwidth in c:\\users\\key\\appdata\\roaming\\python\\python311\\site-packages (from prompt-toolkit!=3.0.37,<3.1.0,>=3.0.30->ipython>=6.1.0->ipywidgets->-r ../requirements.txt (line 8)) (0.2.6)\n",
      "Requirement already satisfied: MarkupSafe>=2.0 in c:\\users\\key\\appdata\\roaming\\python\\python311\\site-packages (from jinja2->torch>=1.10.0->accelerate->-r ../requirements.txt (line 3)) (2.1.2)\n",
      "Requirement already satisfied: executing>=1.2.0 in c:\\users\\key\\appdata\\roaming\\python\\python311\\site-packages (from stack-data->ipython>=6.1.0->ipywidgets->-r ../requirements.txt (line 8)) (1.2.0)\n",
      "Requirement already satisfied: asttokens>=2.1.0 in c:\\users\\key\\appdata\\roaming\\python\\python311\\site-packages (from stack-data->ipython>=6.1.0->ipywidgets->-r ../requirements.txt (line 8)) (2.2.1)\n",
      "Requirement already satisfied: pure-eval in c:\\users\\key\\appdata\\roaming\\python\\python311\\site-packages (from stack-data->ipython>=6.1.0->ipywidgets->-r ../requirements.txt (line 8)) (0.2.2)\n",
      "Requirement already satisfied: mpmath>=0.19 in c:\\users\\key\\appdata\\roaming\\python\\python311\\site-packages (from sympy->torch>=1.10.0->accelerate->-r ../requirements.txt (line 3)) (1.2.1)\n",
      "Requirement already satisfied: six in c:\\users\\key\\appdata\\roaming\\python\\python311\\site-packages (from asttokens>=2.1.0->stack-data->ipython>=6.1.0->ipywidgets->-r ../requirements.txt (line 8)) (1.16.0)\n",
      "Note: you may need to restart the kernel to use updated packages.\n"
     ]
    },
    {
     "name": "stderr",
     "output_type": "stream",
     "text": [
      "\n",
      "[notice] A new release of pip is available: 23.2.1 -> 23.3\n",
      "[notice] To update, run: python.exe -m pip install --upgrade pip\n"
     ]
    },
    {
     "name": "stdout",
     "output_type": "stream",
     "text": [
      "Defaulting to user installation because normal site-packages is not writeable\n",
      "Requirement already satisfied: gradio_client in c:\\users\\key\\appdata\\roaming\\python\\python311\\site-packages (0.6.1)\n",
      "Requirement already satisfied: fsspec in c:\\users\\key\\appdata\\roaming\\python\\python311\\site-packages (from gradio_client) (2023.5.0)\n",
      "Requirement already satisfied: httpx in c:\\users\\key\\appdata\\roaming\\python\\python311\\site-packages (from gradio_client) (0.24.1)\n",
      "Requirement already satisfied: huggingface-hub>=0.13.0 in c:\\users\\key\\appdata\\roaming\\python\\python311\\site-packages (from gradio_client) (0.16.4)\n",
      "Requirement already satisfied: packaging in c:\\users\\key\\appdata\\roaming\\python\\python311\\site-packages (from gradio_client) (23.1)\n",
      "Requirement already satisfied: requests~=2.0 in c:\\users\\key\\appdata\\roaming\\python\\python311\\site-packages (from gradio_client) (2.31.0)\n",
      "Requirement already satisfied: typing-extensions~=4.0 in c:\\users\\key\\appdata\\roaming\\python\\python311\\site-packages (from gradio_client) (4.7.1)\n",
      "Requirement already satisfied: websockets<12.0,>=10.0 in c:\\users\\key\\appdata\\roaming\\python\\python311\\site-packages (from gradio_client) (11.0.3)\n",
      "Requirement already satisfied: filelock in c:\\users\\key\\appdata\\roaming\\python\\python311\\site-packages (from huggingface-hub>=0.13.0->gradio_client) (3.9.0)\n",
      "Requirement already satisfied: tqdm>=4.42.1 in c:\\users\\key\\appdata\\roaming\\python\\python311\\site-packages (from huggingface-hub>=0.13.0->gradio_client) (4.65.0)\n",
      "Requirement already satisfied: pyyaml>=5.1 in c:\\users\\key\\appdata\\roaming\\python\\python311\\site-packages (from huggingface-hub>=0.13.0->gradio_client) (6.0)\n",
      "Requirement already satisfied: charset-normalizer<4,>=2 in c:\\users\\key\\appdata\\roaming\\python\\python311\\site-packages (from requests~=2.0->gradio_client) (2.1.1)\n",
      "Requirement already satisfied: idna<4,>=2.5 in c:\\users\\key\\appdata\\roaming\\python\\python311\\site-packages (from requests~=2.0->gradio_client) (3.4)\n",
      "Requirement already satisfied: urllib3<3,>=1.21.1 in c:\\users\\key\\appdata\\roaming\\python\\python311\\site-packages (from requests~=2.0->gradio_client) (1.26.13)\n",
      "Requirement already satisfied: certifi>=2017.4.17 in c:\\users\\key\\appdata\\roaming\\python\\python311\\site-packages (from requests~=2.0->gradio_client) (2022.12.7)\n",
      "Requirement already satisfied: httpcore<0.18.0,>=0.15.0 in c:\\users\\key\\appdata\\roaming\\python\\python311\\site-packages (from httpx->gradio_client) (0.17.2)\n",
      "Requirement already satisfied: sniffio in c:\\users\\key\\appdata\\roaming\\python\\python311\\site-packages (from httpx->gradio_client) (1.3.0)\n",
      "Requirement already satisfied: h11<0.15,>=0.13 in c:\\users\\key\\appdata\\roaming\\python\\python311\\site-packages (from httpcore<0.18.0,>=0.15.0->httpx->gradio_client) (0.14.0)\n",
      "Requirement already satisfied: anyio<5.0,>=3.0 in c:\\users\\key\\appdata\\roaming\\python\\python311\\site-packages (from httpcore<0.18.0,>=0.15.0->httpx->gradio_client) (3.7.0)\n",
      "Requirement already satisfied: colorama in c:\\users\\key\\appdata\\roaming\\python\\python311\\site-packages (from tqdm>=4.42.1->huggingface-hub>=0.13.0->gradio_client) (0.4.6)\n",
      "Note: you may need to restart the kernel to use updated packages.\n"
     ]
    },
    {
     "name": "stderr",
     "output_type": "stream",
     "text": [
      "\n",
      "[notice] A new release of pip is available: 23.2.1 -> 23.3\n",
      "[notice] To update, run: python.exe -m pip install --upgrade pip\n"
     ]
    }
   ],
   "source": [
    "%pip install -r ../requirements.txt -U\n",
    "%pip install gradio_client -U"
   ]
  },
  {
   "cell_type": "code",
   "execution_count": 6,
   "metadata": {},
   "outputs": [
    {
     "name": "stdout",
     "output_type": "stream",
     "text": [
      "Loaded as API: http://127.0.0.1:7860/ ✔\n"
     ]
    }
   ],
   "source": [
    "from gradio_client import Client\n",
    "client = Client(\"http://127.0.0.1:7860/\")"
   ]
  },
  {
   "cell_type": "markdown",
   "metadata": {},
   "source": [
    "## Test all unnamed endpoints"
   ]
  },
  {
   "cell_type": "markdown",
   "metadata": {},
   "source": [
    "Check fooocus API http://127.0.0.1:7860/?view=api to id fn_index"
   ]
  },
  {
   "cell_type": "markdown",
   "metadata": {},
   "source": [
    "Generate with client.predict, gives an error but the image is generated"
   ]
  },
  {
   "cell_type": "markdown",
   "metadata": {},
   "source": [
    "Async with client.submit(), no error"
   ]
  },
  {
   "cell_type": "code",
   "execution_count": 7,
   "metadata": {},
   "outputs": [
    {
     "name": "stdout",
     "output_type": "stream",
     "text": [
      "<Job at 0x209630e5750 state=running>\n",
      "StatusUpdate(code=<Status.STARTING: 'STARTING'>, rank=None, queue_size=None, eta=None, success=None, time=datetime.datetime(2023, 10, 21, 13, 59, 57, 706069), progress_data=None)\n",
      "StatusUpdate(code=<Status.FINISHED: 'FINISHED'>, rank=0, queue_size=None, eta=None, success=False, time=datetime.datetime(2023, 10, 21, 14, 0, 7, 707424), progress_data=None)\n"
     ]
    }
   ],
   "source": [
    "import time\n",
    "if True:\n",
    "\t# use 'submit' for async (predict crashes)\n",
    "\tjob = client.submit(\n",
    "\t\t\"Howdy!\",\t# str in 'parameter_8' Textbox component - prompt\n",
    "\t\t\"Howdy!\",\t# str in 'Negative Prompt' Textbox component\n",
    "\t\t[\"Fooocus V2\"],\t# List[str] in 'Image Style' Checkboxgroup component\n",
    "\t\t\"Speed\",\t# str in 'Performance' Radio component\n",
    "\t\t\"704×1408\",\t# str in 'Aspect Ratios' Radio component\n",
    "\t\t1,\t# int | float (numeric value between 1 and 32) in 'Image Number' Slider component\n",
    "\t\t5,\t# int | float in 'Seed' Number component\n",
    "\t\t0,\t# int | float (numeric value between 0.0 and 30.0) in 'Sampling Sharpness' Slider component\n",
    "\t\t1,\t# int | float (numeric value between 1.0 and 30.0) in 'Guidance Scale' Slider component\n",
    "\t\t\"sd_xl_base_1.0_0.9vae.safetensors\",\t# str (Option from: ['sd_xl_base_1.0_0.9vae.safetensors', 'sd_xl_refiner_1.0_0.9vae.safetensors']) in 'SDXL Base Model' Dropdown component\n",
    "\t\t\"None\",\t# str (Option from: ['None', 'sd_xl_base_1.0_0.9vae.safetensors', 'sd_xl_refiner_1.0_0.9vae.safetensors']) in 'SDXL Refiner' Dropdown component\n",
    "\t\t\"None\",\t# str (Option from: ['None', 'sd_xl_offset_example-lora_1.0.safetensors']) in 'SDXL LoRA 1' Dropdown component\n",
    "\t\t-2,\t# int | float (numeric value between -2 and 2) in 'Weight' Slider component\n",
    "\t\t\"None\",\t# str (Option from: ['None', 'sd_xl_offset_example-lora_1.0.safetensors']) in 'SDXL LoRA 2' Dropdown component\n",
    "\t\t-2,\t# int | float (numeric value between -2 and 2) in 'Weight' Slider component\n",
    "\t\t\"None\",\t# str (Option from: ['None', 'sd_xl_offset_example-lora_1.0.safetensors']) in 'SDXL LoRA 3' Dropdown component\n",
    "\t\t-2,\t# int | float (numeric value between -2 and 2) in 'Weight' Slider component\n",
    "\t\t\"None\",\t# str (Option from: ['None', 'sd_xl_offset_example-lora_1.0.safetensors']) in 'SDXL LoRA 4' Dropdown component\n",
    "\t\t-2,\t# int | float (numeric value between -2 and 2) in 'Weight' Slider component\n",
    "\t\t\"None\",\t# str (Option from: ['None', 'sd_xl_offset_example-lora_1.0.safetensors']) in 'SDXL LoRA 5' Dropdown component\n",
    "\t\t-2,\t# int | float (numeric value between -2 and 2) in 'Weight' Slider component\n",
    "\t\tFalse,\t# bool in 'Input Image' Checkbox component\n",
    "\t\t# upscale or variation\n",
    "\t\t\"Howdy!\",\t# str in 'parameter_30' Textbox component ??\n",
    "\t\t\"Disabled\",\t# str in 'Upscale or Variation:' Radio component - Disabled, Vary (Subtle), Vary (Strong), Upscale (1.5x), Upscale (2x), Upscale (Fast 2x) \n",
    "\t\t\"\",\t# str (filepath or URL to image) in 'Drag above image to here' Image component\n",
    "\t\t# outpainting\n",
    "\t\t[\"Left\"],\t# List[str] in 'Outpaint' Checkboxgroup component - Left, Right, Top, Bottom\n",
    "\t\t\"\",\t# str (filepath or URL to image) in 'Drag above image to here' Image component\n",
    "\t\t# imageprompts\n",
    "\t\t\"\",\t# str (filepath or URL to image) in 'Image' Image component\n",
    "\t\t0,\t# int | float (numeric value between 0.0 and 1.0) in 'Stop At' Slider component\n",
    "\t\t0,\t# int | float (numeric value between 0.0 and 2.0) in 'Weight' Slider component\n",
    "\t\t\"Image Prompt\",\t# str in 'Type' Radio component\n",
    "\t\t\"\",\t# str (filepath or URL to image) in 'Image' Image component\n",
    "\t\t0,\t# int | float (numeric value between 0.0 and 1.0) in 'Stop At' Slider component\n",
    "\t\t0,\t# int | float (numeric value between 0.0 and 2.0) in 'Weight' Slider component\n",
    "\t\t\"Image Prompt\",\t# str in 'Type' Radio component\n",
    "\t\t\"\",\t# str (filepath or URL to image) in 'Image' Image component\n",
    "\t\t0,\t# int | float (numeric value between 0.0 and 1.0) in 'Stop At' Slider component\n",
    "\t\t0,\t# int | float (numeric value between 0.0 and 2.0) in 'Weight' Slider component\n",
    "\t\t\"Image Prompt\",\t# str in 'Type' Radio component\n",
    "\t\t\"\",\t# str (filepath or URL to image) in 'Image' Image component\n",
    "\t\t0,\t# int | float (numeric value between 0.0 and 1.0) in 'Stop At' Slider component\n",
    "\t\t0,\t# int | float (numeric value between 0.0 and 2.0) in 'Weight' Slider component\n",
    "\t\t\"Image Prompt\",\t# str in 'Type' Radio component\n",
    "\t\tfn_index=23\n",
    "\t)\n",
    "\tprint(job)\n",
    "\tprint(job.status())\n",
    "\twhile not job.done():\n",
    "\t\ttime.sleep(10)#seconds\n",
    "\t\tprint(job.status())\n",
    "\tres = job.status()\n",
    "\t"
   ]
  },
  {
   "cell_type": "markdown",
   "metadata": {},
   "source": [
    "## Generate method"
   ]
  },
  {
   "cell_type": "code",
   "execution_count": 8,
   "metadata": {},
   "outputs": [],
   "source": [
    "import time\n",
    "def generate(prompt, negative_prompt=\"\", styles=[\"Fooocus V2\"], performance=\"Speed\", size=\"1024x1024\", nbimages=1, seed=42, sharpness=0,debug=False):\n",
    "\tjob = client.submit( #submit is non blocking\n",
    "\t\tprompt,\t\t\t\t# Prompt - str\n",
    "\t\tnegative_prompt,\t# Negative promt - str\n",
    "\t\tstyles,\t\t\t\t# Styles - [str]\n",
    "\t\tperformance,\t\t# Speed or Quality - str\n",
    "\t\tsize.replace(\"x\", \"×\"),\t\t# Size - str - (width × height)\n",
    "\t\tnbimages,\t\t\t# Nb Images to generate - int\n",
    "\t\tseed,\t\t\t# Seed - int\n",
    "\t\tsharpness,\t\t\t# Sharpness - int | float\n",
    "\t\t1,\t# Guidance Scale - int | float (numeric value between 1.0 and 30.0)\n",
    "\t\t\"sd_xl_base_1.0_0.9vae.safetensors\",\t# Base Model - \t\t['sd_xl_base_1.0_0.9vae.safetensors', 'sd_xl_refiner_1.0_0.9vae.safetensors']\n",
    "\t\t\"sd_xl_refiner_1.0_0.9vae.safetensors\",\t# Refiner - ['None', 'sd_xl_base_1.0_0.9vae.safetensors', 'sd_xl_refiner_1.0_0.9vae.safetensors']\n",
    "\t\t\"None\",\t# LoRA 1 - ['None', 'sd_xl_offset_example-lora_1.0.safetensors']\n",
    "\t\t-2,\t\t# LoRA 1 Weight - int | float (between -2 and 2)\n",
    "\t\t\"None\",\t# LoRA 2 - ['None', 'sd_xl_offset_example-lora_1.0.safetensors']\n",
    "\t\t-2,\t\t# LoRA 2 Weight - int | float (between -2 and 2)\n",
    "\t\t\"None\",\t# LoRA 3 - ['None', 'sd_xl_offset_example-lora_1.0.safetensors']\n",
    "\t\t-2,\t\t# LoRA 3 Weight - int | float (between -2 and 2)\n",
    "\t\t\"None\",\t# LoRA 4 - ['None', 'sd_xl_offset_example-lora_1.0.safetensors']\n",
    "\t\t-2,\t\t# LoRA 4 Weight - int | float (between -2 and 2)\n",
    "\t\t\"None\",\t# LoRA 5 - ['None', 'sd_xl_offset_example-lora_1.0.safetensors']\n",
    "\t\t-2,\t\t# LoRA 5 Weight - int | float (between -2 and 2)\n",
    "\t\t# upscale or variation\n",
    "\t\tFalse,\t# bool in 'Input Image' Checkbox component\n",
    "\t\t\"Howdy!\",\t# str in 'parameter_30' Textbox component ??\n",
    "\t\t\"Disabled\",\t# str in 'Upscale or Variation:' Radio component - Disabled, Vary (Subtle), Vary (Strong), Upscale (1.5x), Upscale (2x), Upscale (Fast 2x) \n",
    "\t\t\"\",\t# str (filepath or URL to image) in 'Drag above image to here' Image component\n",
    "\t\t# outpainting\n",
    "\t\t[\"Left\"],\t# List[str] in 'Outpaint' Checkboxgroup component - Left, Right, Top, Bottom\n",
    "\t\t\"\",\t# str (filepath or URL to image) in 'Drag above image to here' Image component\n",
    "\t\t# image prompts\n",
    "\t\t\"\",\t# str (filepath or URL to image) in 'Image' Image component\n",
    "\t\t0,\t# int | float (numeric value between 0.0 and 1.0) in 'Stop At' Slider component\n",
    "\t\t0,\t# int | float (numeric value between 0.0 and 2.0) in 'Weight' Slider component\n",
    "\t\t\"Image Prompt\",\t# str in 'Type' Radio component\n",
    "\t\t\"\",\t# str (filepath or URL to image) in 'Image' Image component\n",
    "\t\t0,\t# int | float (numeric value between 0.0 and 1.0) in 'Stop At' Slider component\n",
    "\t\t0,\t# int | float (numeric value between 0.0 and 2.0) in 'Weight' Slider component\n",
    "\t\t\"Image Prompt\",\t# str in 'Type' Radio component\n",
    "\t\t\"\",\t# str (filepath or URL to image) in 'Image' Image component\n",
    "\t\t0,\t# int | float (numeric value between 0.0 and 1.0) in 'Stop At' Slider component\n",
    "\t\t0,\t# int | float (numeric value between 0.0 and 2.0) in 'Weight' Slider component\n",
    "\t\t\"Image Prompt\",\t# str in 'Type' Radio component\n",
    "\t\t\"\",\t# str (filepath or URL to image) in 'Image' Image component\n",
    "\t\t0,\t# int | float (numeric value between 0.0 and 1.0) in 'Stop At' Slider component\n",
    "\t\t0,\t# int | float (numeric value between 0.0 and 2.0) in 'Weight' Slider component\n",
    "\t\t\"Image Prompt\",\t# str in 'Type' Radio component\n",
    "\t\tfn_index=23)\n",
    "\tif debug: print(job.status())\n",
    "\twhile not job.done():\n",
    "\t\ttime.sleep(1)#seconds\n",
    "\t\tif debug: print(job.status())\n",
    "\tres = job.status()\n",
    "\treturn res"
   ]
  },
  {
   "cell_type": "code",
   "execution_count": 9,
   "metadata": {},
   "outputs": [
    {
     "data": {
      "text/plain": [
       "StatusUpdate(code=<Status.FINISHED: 'FINISHED'>, rank=0, queue_size=None, eta=None, success=False, time=datetime.datetime(2023, 10, 21, 14, 0, 8, 725866), progress_data=None)"
      ]
     },
     "execution_count": 9,
     "metadata": {},
     "output_type": "execute_result"
    }
   ],
   "source": [
    "generate(\"An astronaut riding a horse on mars\")"
   ]
  },
  {
   "cell_type": "markdown",
   "metadata": {},
   "source": [
    "# Using utils"
   ]
  },
  {
   "cell_type": "code",
   "execution_count": 10,
   "metadata": {},
   "outputs": [
    {
     "name": "stdout",
     "output_type": "stream",
     "text": [
      "e:\\docs\\coding\\python\\stable-diffusion\n",
      "Loaded as API: http://127.0.0.1:7860/ ✔\n"
     ]
    },
    {
     "data": {
      "text/plain": [
       "StatusUpdate(code=<Status.FINISHED: 'FINISHED'>, rank=0, queue_size=None, eta=None, success=False, time=datetime.datetime(2023, 10, 21, 14, 0, 9, 746528), progress_data=None)"
      ]
     },
     "execution_count": 10,
     "metadata": {},
     "output_type": "execute_result"
    }
   ],
   "source": [
    "%cd ..\n",
    "from utils_fooocus import fooocusClient\n",
    "fc = fooocusClient()\n",
    "fc.generate(\"An astronaut riding a horse on mars\")"
   ]
  },
  {
   "cell_type": "code",
   "execution_count": 11,
   "metadata": {},
   "outputs": [
    {
     "name": "stdout",
     "output_type": "stream",
     "text": [
      "size: 1472×704, style: ['Fooocus V2'], performance: Speed, nbimages: 1, seed: None, sharpness: 0\n",
      "Generating: Sunset\n",
      "Generating: Sunrise\n"
     ]
    }
   ],
   "source": [
    "# Size variation\n",
    "fc.generate(\"An astronaut riding a horse on mars\", size=\"1472x704\")\n",
    "# Generate all\n",
    "fc.generate_all([\"Sunset\",\"Sunrise\"], **{'size':'1472x704'})\n",
    "# Set setting\n",
    "fc.set_size(\"1472x704\")"
   ]
  }
 ],
 "metadata": {
  "kernelspec": {
   "display_name": "Python 3",
   "language": "python",
   "name": "python3"
  },
  "language_info": {
   "codemirror_mode": {
    "name": "ipython",
    "version": 3
   },
   "file_extension": ".py",
   "mimetype": "text/x-python",
   "name": "python",
   "nbconvert_exporter": "python",
   "pygments_lexer": "ipython3",
   "version": "3.11.3"
  },
  "orig_nbformat": 4
 },
 "nbformat": 4,
 "nbformat_minor": 2
}

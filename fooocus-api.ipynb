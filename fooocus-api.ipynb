{
 "cells": [
  {
   "cell_type": "markdown",
   "metadata": {},
   "source": [
    "# Gradio Fooocus API"
   ]
  },
  {
   "cell_type": "markdown",
   "metadata": {},
   "source": [
    "- https://github.com/lllyasviel/Fooocus\n",
    "- https://www.gradio.app/docs/client"
   ]
  },
  {
   "cell_type": "markdown",
   "metadata": {},
   "source": [
    "## Prepare"
   ]
  },
  {
   "cell_type": "code",
   "execution_count": null,
   "metadata": {},
   "outputs": [],
   "source": [
    "%pip install gradio_client"
   ]
  },
  {
   "cell_type": "code",
   "execution_count": null,
   "metadata": {},
   "outputs": [],
   "source": [
    "from gradio_client import Client\n",
    "client = Client(\"http://127.0.0.1:7860/\")"
   ]
  },
  {
   "cell_type": "markdown",
   "metadata": {},
   "source": [
    "## Test all unnamed endpoints"
   ]
  },
  {
   "cell_type": "code",
   "execution_count": null,
   "metadata": {},
   "outputs": [],
   "source": [
    "if False:\n",
    "    # fn_index 0 : set random on/off, and return if seed is visible (false if random)\n",
    "    print(client.predict(False, fn_index=0))\n",
    "    # fn_index 1 : list models drop down choices (base, refiner, and the 5 LoRAs)\n",
    "    print(client.predict(fn_index=1))\n",
    "    # fn_index 2 : set advanced on/off\n",
    "    print(client.predict(True, fn_index=2))\n",
    "    # fn_index 3 : random y/n, and set random seed, return seed\n",
    "    print(client.predict(False, 42, fn_index=3))"
   ]
  },
  {
   "cell_type": "code",
   "execution_count": null,
   "metadata": {},
   "outputs": [],
   "source": [
    "if False:\n",
    "\t# fn_index 4 : set image generation parameters, and generate the image\n",
    "\t# use 'submit' for async (predict crashes)\n",
    "\tresult = client.submit(\n",
    "\t\t\"Howdy!\",\t# Prompt - str\n",
    "\t\t\"Howdy!\",\t# Negative promt - str\n",
    "\t\t\"None\",\t\t# Style - str\n",
    "\t\t\"Speed\",\t# Speed or Quality - str\n",
    "\t\t\"704×1408\",\t# Size - str - (width × height)\n",
    "\t\t1,\t\t\t# Nb Images to generate - int\n",
    "\t\t5,\t\t\t# Seed - int\n",
    "\t\t0,\t\t\t# Sharpness - int | float\n",
    "\t\t\"sd_xl_base_1.0_0.9vae.safetensors\",\t# Base Model - ['sd_xl_base_1.0_0.9vae.safetensors', 'sd_xl_refiner_1.0_0.9vae.safetensors']\n",
    "\t\t\"None\",\t# Refiner - ['None', 'sd_xl_base_1.0_0.9vae.safetensors', 'sd_xl_refiner_1.0_0.9vae.safetensors']\n",
    "\t\t\"None\",\t# LoRA 1 - ['None', 'sd_xl_offset_example-lora_1.0.safetensors']\n",
    "\t\t-2,\t\t# LoRA 1 Weight - int | float (between -2 and 2)\n",
    "\t\t\"None\",\t# LoRA 2 - ['None', 'sd_xl_offset_example-lora_1.0.safetensors']\n",
    "\t\t-2,\t\t# LoRA 2 Weight - int | float (between -2 and 2)\n",
    "\t\t\"None\",\t# LoRA 3 - ['None', 'sd_xl_offset_example-lora_1.0.safetensors']\n",
    "\t\t-2,\t\t# LoRA 3 Weight - int | float (between -2 and 2)\n",
    "\t\t\"None\",\t# LoRA 4 - ['None', 'sd_xl_offset_example-lora_1.0.safetensors']\n",
    "\t\t-2,\t\t# LoRA 4 Weight - int | float (between -2 and 2)\n",
    "\t\t\"None\",\t# LoRA 5 - ['None', 'sd_xl_offset_example-lora_1.0.safetensors']\n",
    "\t\t-2,\t\t# LoRA 5 Weight - int | float (between -2 and 2)\n",
    "\t\tfn_index=4\n",
    "\t)\n",
    "\tprint(result)"
   ]
  },
  {
   "cell_type": "markdown",
   "metadata": {},
   "source": [
    "## Choices"
   ]
  },
  {
   "cell_type": "markdown",
   "metadata": {},
   "source": [
    "Sizes:\n",
    "704×1408\n",
    "704×1344\n",
    "768×1344\n",
    "768×1280\n",
    "832×1216\n",
    "832×1152\n",
    "896×1152\n",
    "896×1088\n",
    "960×1088\n",
    "960×1024\n",
    "1024×1024\n",
    "1024×960\n",
    "1088×960\n",
    "1088×896\n",
    "1152×896\n",
    "1152×832\n",
    "1216×832\n",
    "1280×768\n",
    "1344×768\n",
    "1344×704\n",
    "1408×704\n",
    "1472×704\n",
    "1536×640\n",
    "1600×640\n",
    "1664×576\n",
    "1728×576"
   ]
  },
  {
   "cell_type": "markdown",
   "metadata": {},
   "source": [
    "Styles: None\n",
    "cinematic-default\n",
    "sai-3d-model\n",
    "sai-analog film\n",
    "sai-anime\n",
    "sai-cinematic\n",
    "sai-comic book\n",
    "sai-craft clay\n",
    "sai-digital art\n",
    "sai-enhance\n",
    "sai-fantasy art\n",
    "sai-isometric\n",
    "sai-line art\n",
    "sai-lowpoly\n",
    "sai-neonpunk\n",
    "sai-origami\n",
    "sai-photographic\n",
    "sai-pixel art\n",
    "sai-texture\n",
    "ads-advertising\n",
    "ads-automotive\n",
    "ads-corporate\n",
    "ads-fashion editorial\n",
    "ads-food photography\n",
    "ads-luxury\n",
    "ads-real estate\n",
    "ads-retail\n",
    "artstyle-abstract\n",
    "artstyle-abstract expressionism\n",
    "artstyle-art deco\n",
    "artstyle-art nouveau\n",
    "artstyle-constructivist\n",
    "artstyle-cubist\n",
    "artstyle-expressionist\n",
    "artstyle-graffiti\n",
    "artstyle-hyperrealism\n",
    "artstyle-impressionist\n",
    "artstyle-pointillism\n",
    "artstyle-pop art\n",
    "artstyle-psychedelic\n",
    "artstyle-renaissance\n",
    "artstyle-steampunk\n",
    "artstyle-surrealist\n",
    "artstyle-typography\n",
    "artstyle-watercolor\n",
    "futuristic-biomechanical\n",
    "futuristic-biomechanical cyberpunk\n",
    "futuristic-cybernetic\n",
    "futuristic-cybernetic robot\n",
    "futuristic-cyberpunk cityscape\n",
    "futuristic-futuristic\n",
    "futuristic-retro cyberpunk\n",
    "futuristic-retro futurism\n",
    "futuristic-sci-fi\n",
    "futuristic-vaporwave\n",
    "game-bubble bobble\n",
    "game-cyberpunk game\n",
    "game-fighting game\n",
    "game-gta\n",
    "game-mario\n",
    "game-minecraft\n",
    "game-pokemon\n",
    "game-retro arcade\n",
    "game-retro game\n",
    "game-rpg fantasy game\n",
    "game-strategy game\n",
    "game-streetfighter\n",
    "game-zelda\n",
    "misc-architectural\n",
    "misc-disco\n",
    "misc-dreamscape\n",
    "misc-dystopian\n",
    "misc-fairy tale\n",
    "misc-gothic\n",
    "misc-grunge\n",
    "misc-horror\n",
    "misc-kawaii\n",
    "misc-lovecraftian\n",
    "misc-macabre\n",
    "misc-manga\n",
    "misc-metropolis\n",
    "misc-minimalist\n",
    "misc-monochrome\n",
    "misc-nautical\n",
    "misc-space\n",
    "misc-stained glass\n",
    "misc-techwear fashion\n",
    "misc-tribal\n",
    "misc-zentangle\n",
    "papercraft-collage\n",
    "papercraft-flat papercut\n",
    "papercraft-kirigami\n",
    "papercraft-paper mache\n",
    "papercraft-paper quilling\n",
    "papercraft-papercut collage\n",
    "papercraft-papercut shadow box\n",
    "papercraft-stacked papercut\n",
    "papercraft-thick layered papercut\n",
    "photo-alien\n",
    "photo-film noir\n",
    "photo-hdr\n",
    "photo-long exposure\n",
    "photo-neon noir\n",
    "photo-silhouette\n",
    "photo-tilt-shift"
   ]
  },
  {
   "cell_type": "markdown",
   "metadata": {},
   "source": [
    "## Generate method"
   ]
  },
  {
   "cell_type": "code",
   "execution_count": null,
   "metadata": {},
   "outputs": [],
   "source": [
    "import time\n",
    "def generate(prompt, negative_prompt=\"\", style=\"cinematic-default\", performance=\"Speed\", size=\"1024×1024\", debug=False):\n",
    "\tjob = client.submit( #submit is non blocking\n",
    "\t\tprompt,\t\t\t\t# Prompt - str\n",
    "\t\tnegative_prompt,\t# Negative promt - str\n",
    "\t\tstyle,\t\t\t\t# Style - str\n",
    "\t\tperformance,\t\t# Speed or Quality - str\n",
    "\t\tsize,\t\t# Size - str - (width × height)\n",
    "\t\t1,\t\t\t# Nb Images to generate - int\n",
    "\t\t42,\t\t\t# Seed - int\n",
    "\t\t0,\t\t\t# Sharpness - int | float\n",
    "\t\t\"sd_xl_base_1.0_0.9vae.safetensors\",\t# Base Model - \t\t['sd_xl_base_1.0_0.9vae.safetensors', 'sd_xl_refiner_1.0_0.9vae.safetensors']\n",
    "\t\t\"sd_xl_refiner_1.0_0.9vae.safetensors\",\t# Refiner - ['None', 'sd_xl_base_1.0_0.9vae.safetensors', 'sd_xl_refiner_1.0_0.9vae.safetensors']\n",
    "\t\t\"None\",\t# LoRA 1 - ['None', 'sd_xl_offset_example-lora_1.0.safetensors']\n",
    "\t\t-2,\t\t# LoRA 1 Weight - int | float (between -2 and 2)\n",
    "\t\t\"None\",\t# LoRA 2 - ['None', 'sd_xl_offset_example-lora_1.0.safetensors']\n",
    "\t\t-2,\t\t# LoRA 2 Weight - int | float (between -2 and 2)\n",
    "\t\t\"None\",\t# LoRA 3 - ['None', 'sd_xl_offset_example-lora_1.0.safetensors']\n",
    "\t\t-2,\t\t# LoRA 3 Weight - int | float (between -2 and 2)\n",
    "\t\t\"None\",\t# LoRA 4 - ['None', 'sd_xl_offset_example-lora_1.0.safetensors']\n",
    "\t\t-2,\t\t# LoRA 4 Weight - int | float (between -2 and 2)\n",
    "\t\t\"None\",\t# LoRA 5 - ['None', 'sd_xl_offset_example-lora_1.0.safetensors']\n",
    "\t\t-2,\t\t# LoRA 5 Weight - int | float (between -2 and 2)\n",
    "\t\tfn_index=4)\n",
    "\tif debug: print(job.status())\n",
    "\twhile not job.done():\n",
    "\t\ttime.sleep(1)#seconds\n",
    "\t\tif debug: print(job.status())\n",
    "\tres = job.status()\n",
    "\treturn res"
   ]
  },
  {
   "cell_type": "code",
   "execution_count": null,
   "metadata": {},
   "outputs": [],
   "source": [
    "generate(\"An astronaut riding a horse on mars\")"
   ]
  },
  {
   "cell_type": "markdown",
   "metadata": {},
   "source": [
    "## Expand prompt"
   ]
  },
  {
   "cell_type": "code",
   "execution_count": null,
   "metadata": {},
   "outputs": [],
   "source": [
    "from utils import expand, progress, generate_all"
   ]
  },
  {
   "cell_type": "code",
   "execution_count": null,
   "metadata": {},
   "outputs": [],
   "source": [
    "generate_all([\n",
    "    \"Un chat dans un bocal\",\n",
    "    \"A cat in a glass bottle\",\n",
    "],generate)"
   ]
  },
  {
   "cell_type": "code",
   "execution_count": null,
   "metadata": {},
   "outputs": [],
   "source": [
    "generate_all(expand(\"photo of a /kraken|octopus|creature/ lurking in the deep green blue sea, deep blue shadows and sun rays, undersea jungle, high definition rendering\"),generate)"
   ]
  },
  {
   "cell_type": "code",
   "execution_count": null,
   "metadata": {},
   "outputs": [],
   "source": [
    "generate_all(expand(\"/Sunset|Sunrise/ on the /alps|kilimandjaro/\"),generate)"
   ]
  },
  {
   "cell_type": "code",
   "execution_count": null,
   "metadata": {},
   "outputs": [],
   "source": [
    "generate_all(progress[\n",
    "    \"A cat walking\",\n",
    "    \"in the mist\",\n",
    "    \"in a cyberpunk city\",\n",
    "],generate)"
   ]
  }
 ],
 "metadata": {
  "kernelspec": {
   "display_name": "Python 3",
   "language": "python",
   "name": "python3"
  },
  "language_info": {
   "codemirror_mode": {
    "name": "ipython",
    "version": 3
   },
   "file_extension": ".py",
   "mimetype": "text/x-python",
   "name": "python",
   "nbconvert_exporter": "python",
   "pygments_lexer": "ipython3",
   "version": "3.11.3"
  },
  "orig_nbformat": 4
 },
 "nbformat": 4,
 "nbformat_minor": 2
}

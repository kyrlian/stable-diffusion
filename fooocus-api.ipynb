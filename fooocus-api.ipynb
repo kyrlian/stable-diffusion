{
 "cells": [
  {
   "cell_type": "markdown",
   "metadata": {},
   "source": [
    "# Gradio Fooocus API"
   ]
  },
  {
   "cell_type": "markdown",
   "metadata": {},
   "source": [
    "- https://github.com/lllyasviel/Fooocus\n",
    "- https://www.gradio.app/docs/client"
   ]
  },
  {
   "cell_type": "markdown",
   "metadata": {},
   "source": [
    "## Prepare"
   ]
  },
  {
   "cell_type": "code",
   "execution_count": 1,
   "metadata": {},
   "outputs": [
    {
     "name": "stdout",
     "output_type": "stream",
     "text": [
      "Defaulting to user installation because normal site-packages is not writeable\n",
      "Requirement already satisfied: gradio_client in c:\\users\\key\\appdata\\roaming\\python\\python311\\site-packages (0.5.0)\n",
      "Requirement already satisfied: fsspec in c:\\users\\key\\appdata\\roaming\\python\\python311\\site-packages (from gradio_client) (2023.5.0)\n",
      "Requirement already satisfied: httpx in c:\\users\\key\\appdata\\roaming\\python\\python311\\site-packages (from gradio_client) (0.24.1)\n",
      "Requirement already satisfied: huggingface-hub>=0.13.0 in c:\\users\\key\\appdata\\roaming\\python\\python311\\site-packages (from gradio_client) (0.16.4)\n",
      "Requirement already satisfied: packaging in c:\\users\\key\\appdata\\roaming\\python\\python311\\site-packages (from gradio_client) (23.1)\n",
      "Requirement already satisfied: requests~=2.0 in c:\\users\\key\\appdata\\roaming\\python\\python311\\site-packages (from gradio_client) (2.31.0)\n",
      "Requirement already satisfied: typing-extensions~=4.0 in c:\\users\\key\\appdata\\roaming\\python\\python311\\site-packages (from gradio_client) (4.7.1)\n",
      "Requirement already satisfied: websockets<12.0,>=10.0 in c:\\users\\key\\appdata\\roaming\\python\\python311\\site-packages (from gradio_client) (11.0.3)\n",
      "Requirement already satisfied: filelock in c:\\users\\key\\appdata\\roaming\\python\\python311\\site-packages (from huggingface-hub>=0.13.0->gradio_client) (3.9.0)\n",
      "Requirement already satisfied: tqdm>=4.42.1 in c:\\users\\key\\appdata\\roaming\\python\\python311\\site-packages (from huggingface-hub>=0.13.0->gradio_client) (4.65.0)\n",
      "Requirement already satisfied: pyyaml>=5.1 in c:\\users\\key\\appdata\\roaming\\python\\python311\\site-packages (from huggingface-hub>=0.13.0->gradio_client) (6.0)\n",
      "Requirement already satisfied: charset-normalizer<4,>=2 in c:\\users\\key\\appdata\\roaming\\python\\python311\\site-packages (from requests~=2.0->gradio_client) (2.1.1)\n",
      "Requirement already satisfied: idna<4,>=2.5 in c:\\users\\key\\appdata\\roaming\\python\\python311\\site-packages (from requests~=2.0->gradio_client) (3.4)\n",
      "Requirement already satisfied: urllib3<3,>=1.21.1 in c:\\users\\key\\appdata\\roaming\\python\\python311\\site-packages (from requests~=2.0->gradio_client) (1.26.13)\n",
      "Requirement already satisfied: certifi>=2017.4.17 in c:\\users\\key\\appdata\\roaming\\python\\python311\\site-packages (from requests~=2.0->gradio_client) (2022.12.7)\n",
      "Requirement already satisfied: httpcore<0.18.0,>=0.15.0 in c:\\users\\key\\appdata\\roaming\\python\\python311\\site-packages (from httpx->gradio_client) (0.17.2)\n",
      "Requirement already satisfied: sniffio in c:\\users\\key\\appdata\\roaming\\python\\python311\\site-packages (from httpx->gradio_client) (1.3.0)\n",
      "Requirement already satisfied: h11<0.15,>=0.13 in c:\\users\\key\\appdata\\roaming\\python\\python311\\site-packages (from httpcore<0.18.0,>=0.15.0->httpx->gradio_client) (0.14.0)\n",
      "Requirement already satisfied: anyio<5.0,>=3.0 in c:\\users\\key\\appdata\\roaming\\python\\python311\\site-packages (from httpcore<0.18.0,>=0.15.0->httpx->gradio_client) (3.7.0)\n",
      "Requirement already satisfied: colorama in c:\\users\\key\\appdata\\roaming\\python\\python311\\site-packages (from tqdm>=4.42.1->huggingface-hub>=0.13.0->gradio_client) (0.4.6)\n",
      "Note: you may need to restart the kernel to use updated packages.\n"
     ]
    }
   ],
   "source": [
    "%pip install gradio_client"
   ]
  },
  {
   "cell_type": "code",
   "execution_count": 3,
   "metadata": {},
   "outputs": [
    {
     "name": "stdout",
     "output_type": "stream",
     "text": [
      "Loaded as API: http://127.0.0.1:7860/ ✔\n"
     ]
    }
   ],
   "source": [
    "from gradio_client import Client\n",
    "client = Client(\"http://127.0.0.1:7860/\")"
   ]
  },
  {
   "cell_type": "markdown",
   "metadata": {},
   "source": [
    "## Test all unnamed endpoints"
   ]
  },
  {
   "cell_type": "code",
   "execution_count": 3,
   "metadata": {},
   "outputs": [],
   "source": [
    "if False:\n",
    "    # fn_index 0 : set random on/off, and return if seed is visible (false if random)\n",
    "    print(client.predict(False, fn_index=0))\n",
    "    # fn_index 1 : list models drop down choices (base, refiner, and the 5 LoRAs)\n",
    "    print(client.predict(fn_index=1))\n",
    "    # fn_index 2 : set advanced on/off\n",
    "    print(client.predict(True, fn_index=2))\n",
    "    # fn_index 3 : random y/n, and set random seed, return seed\n",
    "    print(client.predict(False, 42, fn_index=3))"
   ]
  },
  {
   "cell_type": "code",
   "execution_count": 4,
   "metadata": {},
   "outputs": [
    {
     "name": "stdout",
     "output_type": "stream",
     "text": [
      "<Job at 0x1c17e463750 state=running>\n"
     ]
    }
   ],
   "source": [
    "if True:\n",
    "\t# fn_index 4 : set image generation parameters, and generate the image\n",
    "\t# use 'submit' for async (predict crashes)\n",
    "\tjob = client.submit(\n",
    "\t\t\"Howdy!\",\t# Prompt - str\n",
    "\t\t\"Howdy!\",\t# Negative promt - str\n",
    "\t\t\"None\",\t\t# Style - str\n",
    "\t\t\"Speed\",\t# Speed or Quality - str\n",
    "\t\t\"704×1408\",\t# Size - str - (width × height)\n",
    "\t\t1,\t\t\t# Nb Images to generate - int\n",
    "\t\t5,\t\t\t# Seed - int\n",
    "\t\t0,\t\t\t# Sharpness - int | float\n",
    "\t\t\"sd_xl_base_1.0_0.9vae.safetensors\",\t# Base Model - ['sd_xl_base_1.0_0.9vae.safetensors', 'sd_xl_refiner_1.0_0.9vae.safetensors']\n",
    "\t\t\"None\",\t# Refiner - ['None', 'sd_xl_base_1.0_0.9vae.safetensors', 'sd_xl_refiner_1.0_0.9vae.safetensors']\n",
    "\t\t\"None\",\t# LoRA 1 - ['None', 'sd_xl_offset_example-lora_1.0.safetensors']\n",
    "\t\t-2,\t\t# LoRA 1 Weight - int | float (between -2 and 2)\n",
    "\t\t\"None\",\t# LoRA 2 - ['None', 'sd_xl_offset_example-lora_1.0.safetensors']\n",
    "\t\t-2,\t\t# LoRA 2 Weight - int | float (between -2 and 2)\n",
    "\t\t\"None\",\t# LoRA 3 - ['None', 'sd_xl_offset_example-lora_1.0.safetensors']\n",
    "\t\t-2,\t\t# LoRA 3 Weight - int | float (between -2 and 2)\n",
    "\t\t\"None\",\t# LoRA 4 - ['None', 'sd_xl_offset_example-lora_1.0.safetensors']\n",
    "\t\t-2,\t\t# LoRA 4 Weight - int | float (between -2 and 2)\n",
    "\t\t\"None\",\t# LoRA 5 - ['None', 'sd_xl_offset_example-lora_1.0.safetensors']\n",
    "\t\t-2,\t\t# LoRA 5 Weight - int | float (between -2 and 2)\n",
    "\t\tfn_index=4\n",
    "\t)\n",
    "\tprint(job)\n",
    "\tprint(job.status())\n",
    "\t"
   ]
  },
  {
   "cell_type": "markdown",
   "metadata": {},
   "source": [
    "## Choices"
   ]
  },
  {
   "cell_type": "markdown",
   "metadata": {},
   "source": [
    "Sizes:\n",
    "704×1408\n",
    "704×1344\n",
    "768×1344\n",
    "768×1280\n",
    "832×1216\n",
    "832×1152\n",
    "896×1152\n",
    "896×1088\n",
    "960×1088\n",
    "960×1024\n",
    "1024×1024\n",
    "1024×960\n",
    "1088×960\n",
    "1088×896\n",
    "1152×896\n",
    "1152×832\n",
    "1216×832\n",
    "1280×768\n",
    "1344×768\n",
    "1344×704\n",
    "1408×704\n",
    "1472×704\n",
    "1536×640\n",
    "1600×640\n",
    "1664×576\n",
    "1728×576"
   ]
  },
  {
   "cell_type": "markdown",
   "metadata": {},
   "source": [
    "Styles: None\n",
    "cinematic-default\n",
    "sai-3d-model\n",
    "sai-analog film\n",
    "sai-anime\n",
    "sai-cinematic\n",
    "sai-comic book\n",
    "sai-craft clay\n",
    "sai-digital art\n",
    "sai-enhance\n",
    "sai-fantasy art\n",
    "sai-isometric\n",
    "sai-line art\n",
    "sai-lowpoly\n",
    "sai-neonpunk\n",
    "sai-origami\n",
    "sai-photographic\n",
    "sai-pixel art\n",
    "sai-texture\n",
    "ads-advertising\n",
    "ads-automotive\n",
    "ads-corporate\n",
    "ads-fashion editorial\n",
    "ads-food photography\n",
    "ads-luxury\n",
    "ads-real estate\n",
    "ads-retail\n",
    "artstyle-abstract\n",
    "artstyle-abstract expressionism\n",
    "artstyle-art deco\n",
    "artstyle-art nouveau\n",
    "artstyle-constructivist\n",
    "artstyle-cubist\n",
    "artstyle-expressionist\n",
    "artstyle-graffiti\n",
    "artstyle-hyperrealism\n",
    "artstyle-impressionist\n",
    "artstyle-pointillism\n",
    "artstyle-pop art\n",
    "artstyle-psychedelic\n",
    "artstyle-renaissance\n",
    "artstyle-steampunk\n",
    "artstyle-surrealist\n",
    "artstyle-typography\n",
    "artstyle-watercolor\n",
    "futuristic-biomechanical\n",
    "futuristic-biomechanical cyberpunk\n",
    "futuristic-cybernetic\n",
    "futuristic-cybernetic robot\n",
    "futuristic-cyberpunk cityscape\n",
    "futuristic-futuristic\n",
    "futuristic-retro cyberpunk\n",
    "futuristic-retro futurism\n",
    "futuristic-sci-fi\n",
    "futuristic-vaporwave\n",
    "game-bubble bobble\n",
    "game-cyberpunk game\n",
    "game-fighting game\n",
    "game-gta\n",
    "game-mario\n",
    "game-minecraft\n",
    "game-pokemon\n",
    "game-retro arcade\n",
    "game-retro game\n",
    "game-rpg fantasy game\n",
    "game-strategy game\n",
    "game-streetfighter\n",
    "game-zelda\n",
    "misc-architectural\n",
    "misc-disco\n",
    "misc-dreamscape\n",
    "misc-dystopian\n",
    "misc-fairy tale\n",
    "misc-gothic\n",
    "misc-grunge\n",
    "misc-horror\n",
    "misc-kawaii\n",
    "misc-lovecraftian\n",
    "misc-macabre\n",
    "misc-manga\n",
    "misc-metropolis\n",
    "misc-minimalist\n",
    "misc-monochrome\n",
    "misc-nautical\n",
    "misc-space\n",
    "misc-stained glass\n",
    "misc-techwear fashion\n",
    "misc-tribal\n",
    "misc-zentangle\n",
    "papercraft-collage\n",
    "papercraft-flat papercut\n",
    "papercraft-kirigami\n",
    "papercraft-paper mache\n",
    "papercraft-paper quilling\n",
    "papercraft-papercut collage\n",
    "papercraft-papercut shadow box\n",
    "papercraft-stacked papercut\n",
    "papercraft-thick layered papercut\n",
    "photo-alien\n",
    "photo-film noir\n",
    "photo-hdr\n",
    "photo-long exposure\n",
    "photo-neon noir\n",
    "photo-silhouette\n",
    "photo-tilt-shift"
   ]
  },
  {
   "cell_type": "markdown",
   "metadata": {},
   "source": [
    "## Generate method"
   ]
  },
  {
   "cell_type": "code",
   "execution_count": 5,
   "metadata": {},
   "outputs": [],
   "source": [
    "import time\n",
    "def generate(prompt, negative_prompt=\"\", style=\"cinematic-default\", performance=\"Speed\", size=\"1024x1024\", nbimages=1, seed=42, sharpness=0,debug=False):\n",
    "\tjob = client.submit( #submit is non blocking\n",
    "\t\tprompt,\t\t\t\t# Prompt - str\n",
    "\t\tnegative_prompt,\t# Negative promt - str\n",
    "\t\tstyle,\t\t\t\t# Style - str\n",
    "\t\tperformance,\t\t# Speed or Quality - str\n",
    "\t\tsize.replace(\"x\", \"×\"),\t\t# Size - str - (width × height)\n",
    "\t\tnbimages,\t\t\t# Nb Images to generate - int\n",
    "\t\tseed,\t\t\t# Seed - int\n",
    "\t\tsharpness,\t\t\t# Sharpness - int | float\n",
    "\t\t\"sd_xl_base_1.0_0.9vae.safetensors\",\t# Base Model - \t\t['sd_xl_base_1.0_0.9vae.safetensors', 'sd_xl_refiner_1.0_0.9vae.safetensors']\n",
    "\t\t\"sd_xl_refiner_1.0_0.9vae.safetensors\",\t# Refiner - ['None', 'sd_xl_base_1.0_0.9vae.safetensors', 'sd_xl_refiner_1.0_0.9vae.safetensors']\n",
    "\t\t\"None\",\t# LoRA 1 - ['None', 'sd_xl_offset_example-lora_1.0.safetensors']\n",
    "\t\t-2,\t\t# LoRA 1 Weight - int | float (between -2 and 2)\n",
    "\t\t\"None\",\t# LoRA 2 - ['None', 'sd_xl_offset_example-lora_1.0.safetensors']\n",
    "\t\t-2,\t\t# LoRA 2 Weight - int | float (between -2 and 2)\n",
    "\t\t\"None\",\t# LoRA 3 - ['None', 'sd_xl_offset_example-lora_1.0.safetensors']\n",
    "\t\t-2,\t\t# LoRA 3 Weight - int | float (between -2 and 2)\n",
    "\t\t\"None\",\t# LoRA 4 - ['None', 'sd_xl_offset_example-lora_1.0.safetensors']\n",
    "\t\t-2,\t\t# LoRA 4 Weight - int | float (between -2 and 2)\n",
    "\t\t\"None\",\t# LoRA 5 - ['None', 'sd_xl_offset_example-lora_1.0.safetensors']\n",
    "\t\t-2,\t\t# LoRA 5 Weight - int | float (between -2 and 2)\n",
    "\t\tfn_index=4)\n",
    "\tif debug: print(job.status())\n",
    "\twhile not job.done():\n",
    "\t\ttime.sleep(1)#seconds\n",
    "\t\tif debug: print(job.status())\n",
    "\tres = job.status()\n",
    "\treturn res"
   ]
  },
  {
   "cell_type": "code",
   "execution_count": 6,
   "metadata": {},
   "outputs": [
    {
     "data": {
      "text/plain": [
       "StatusUpdate(code=<Status.FINISHED: 'FINISHED'>, rank=0, queue_size=None, eta=None, success=False, time=datetime.datetime(2023, 8, 27, 13, 21, 35, 785887), progress_data=None)"
      ]
     },
     "execution_count": 6,
     "metadata": {},
     "output_type": "execute_result"
    }
   ],
   "source": [
    "generate(\"An astronaut riding a horse on mars\")"
   ]
  },
  {
   "cell_type": "markdown",
   "metadata": {},
   "source": [
    "# Using utils"
   ]
  },
  {
   "cell_type": "code",
   "execution_count": 1,
   "metadata": {},
   "outputs": [
    {
     "name": "stderr",
     "output_type": "stream",
     "text": [
      "C:\\Users\\key\\AppData\\Roaming\\Python\\Python311\\site-packages\\tqdm\\auto.py:21: TqdmWarning: IProgress not found. Please update jupyter and ipywidgets. See https://ipywidgets.readthedocs.io/en/stable/user_install.html\n",
      "  from .autonotebook import tqdm as notebook_tqdm\n"
     ]
    },
    {
     "name": "stdout",
     "output_type": "stream",
     "text": [
      "Loaded as API: http://127.0.0.1:7860/ ✔\n"
     ]
    },
    {
     "data": {
      "text/plain": [
       "StatusUpdate(code=<Status.FINISHED: 'FINISHED'>, rank=0, queue_size=None, eta=None, success=False, time=datetime.datetime(2023, 8, 27, 13, 25, 21, 776870), progress_data=None)"
      ]
     },
     "execution_count": 1,
     "metadata": {},
     "output_type": "execute_result"
    }
   ],
   "source": [
    "from utils_fooocus import fooocusClient\n",
    "fc = fooocusClient()\n",
    "fc.generate(\"An astronaut riding a horse on mars\")"
   ]
  }
 ],
 "metadata": {
  "kernelspec": {
   "display_name": "Python 3",
   "language": "python",
   "name": "python3"
  },
  "language_info": {
   "codemirror_mode": {
    "name": "ipython",
    "version": 3
   },
   "file_extension": ".py",
   "mimetype": "text/x-python",
   "name": "python",
   "nbconvert_exporter": "python",
   "pygments_lexer": "ipython3",
   "version": "3.11.3"
  },
  "orig_nbformat": 4
 },
 "nbformat": 4,
 "nbformat_minor": 2
}

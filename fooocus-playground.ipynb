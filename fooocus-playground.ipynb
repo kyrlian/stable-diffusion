{
 "cells": [
  {
   "cell_type": "markdown",
   "metadata": {},
   "source": [
    "# Fooocus playground"
   ]
  },
  {
   "cell_type": "markdown",
   "metadata": {},
   "source": [
    "## Init"
   ]
  },
  {
   "cell_type": "code",
   "execution_count": null,
   "metadata": {},
   "outputs": [],
   "source": [
    "from utils_prompt import expand, progress\n",
    "from utils_fooocus import fooocusClient\n",
    "fooocusClient.list_sizes()\n",
    "fooocusClient.lists_styles()\n",
    "fc = fooocusClient()"
   ]
  },
  {
   "cell_type": "markdown",
   "metadata": {},
   "source": [
    "## Sunrise / Sunset"
   ]
  },
  {
   "cell_type": "code",
   "execution_count": null,
   "metadata": {},
   "outputs": [],
   "source": [
    "fc.generate_all(expand(\"/Sunset|Sunrise/ on the /alps|kilimandjaro/ with a few cloud, award wining photography\"), **{'size':'1472x704'})"
   ]
  },
  {
   "cell_type": "markdown",
   "metadata": {},
   "source": [
    "## Progressive prompt "
   ]
  },
  {
   "cell_type": "code",
   "execution_count": null,
   "metadata": {},
   "outputs": [],
   "source": [
    "fc.set_size(\"1472x704\")\n",
    "fc.generate_all(progress([\n",
    "    \"A cat walking\",\n",
    "    \"in the mist\",\n",
    "    \"in a cyberpunk city\",\n",
    "]))"
   ]
  },
  {
   "cell_type": "markdown",
   "metadata": {},
   "source": [
    "## Test Quality"
   ]
  },
  {
   "cell_type": "code",
   "execution_count": null,
   "metadata": {},
   "outputs": [],
   "source": [
    "fc.set_size(\"1472x704\")\n",
    "fc.seed=534\n",
    "fc.generate(\"in the mist\",performance='Quality')\n",
    "fc.generate(\"in the mist\",performance='Speed')"
   ]
  },
  {
   "cell_type": "markdown",
   "metadata": {},
   "source": [
    "## Best of"
   ]
  },
  {
   "cell_type": "code",
   "execution_count": null,
   "metadata": {},
   "outputs": [],
   "source": [
    "fc.generate([\n",
    "    \"Sunset\",\n",
    "    \"Sunrise\",\n",
    "    \"in the mist\"\n",
    "],**{'size':'1472x704','performance':'Quality'})"
   ]
  },
  {
   "cell_type": "markdown",
   "metadata": {},
   "source": [
    "## Explore fooocus styles"
   ]
  },
  {
   "cell_type": "code",
   "execution_count": null,
   "metadata": {},
   "outputs": [],
   "source": [
    "prompt = \"a cat walking in the sky\"\n",
    "fc.set_size(\"1472x704\")\n",
    "for style in fooocusClient.styles:\n",
    "    fc.generate(prompt, style=style)"
   ]
  },
  {
   "cell_type": "markdown",
   "metadata": {},
   "source": [
    "## Explore aituts prompt styles\n",
    "https://aituts.com/sdxl-prompts/"
   ]
  },
  {
   "cell_type": "code",
   "execution_count": null,
   "metadata": {},
   "outputs": [],
   "source": [
    "from utils_prompt import aituts_style_list, generate_prompt_aituts\n",
    "prompt = \"a cat walking in the sky\"\n",
    "fc.set_size(\"1472x704\")\n",
    "for style in aituts_style_list:\n",
    "    pos,neg = generate_prompt_aituts(style, prompt)\n",
    "    fc.generate(pos,negative_prompt=neg)"
   ]
  },
  {
   "cell_type": "markdown",
   "metadata": {},
   "source": [
    "## Landscapes"
   ]
  },
  {
   "cell_type": "code",
   "execution_count": null,
   "metadata": {},
   "outputs": [],
   "source": [
    "prompt = \"/Sunset|Sunrise/ on the /alps|kilimandjaro|sea|beach|hills|snow|city/ with a few cloud, award wining photography\"\n",
    "prompts = expand(prompt)\n",
    "fc.set_size(\"1472x704\")\n",
    "for style in fooocusClient.styles:\n",
    "    fc.generate(prompts, style=style)"
   ]
  }
 ],
 "metadata": {
  "kernelspec": {
   "display_name": "Python 3",
   "language": "python",
   "name": "python3"
  },
  "language_info": {
   "codemirror_mode": {
    "name": "ipython",
    "version": 3
   },
   "file_extension": ".py",
   "mimetype": "text/x-python",
   "name": "python",
   "nbconvert_exporter": "python",
   "pygments_lexer": "ipython3",
   "version": "3.11.3"
  },
  "orig_nbformat": 4
 },
 "nbformat": 4,
 "nbformat_minor": 2
}

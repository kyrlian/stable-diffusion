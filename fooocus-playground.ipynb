{
 "cells": [
  {
   "cell_type": "markdown",
   "metadata": {},
   "source": [
    "# Fooocus playground"
   ]
  },
  {
   "cell_type": "markdown",
   "metadata": {},
   "source": [
    "## Init"
   ]
  },
  {
   "cell_type": "code",
   "execution_count": 1,
   "metadata": {},
   "outputs": [
    {
     "name": "stdout",
     "output_type": "stream",
     "text": [
      "704×1408 : 1/2, 704×1344 : 11/21, 768×1344 : 4/7, 768×1280 : 3/5, 832×1216 : 13/19, 832×1152 : 13/18, 896×1152 : 7/9, 896×1088 : 14/17, 960×1088 : 15/17, 960×1024 : 15/16, 1024×1024 : 1, 1024×960 : 16/15, 1088×960 : 17/15, 1088×896 : 17/14, 1152×896 : 9/7, 1152×832 : 18/13, 1216×832 : 19/13, 1280×768 : 5/3, 1344×768 : 7/4, 1344×704 : 21/11, 1408×704 : 2, 1472×704 : 23/11, 1536×640 : 12/5, 1600×640 : 5/2, 1664×576 : 26/9, 1728×576 : 3, ['None', 'cinematic-default', 'sai-3d-model', 'sai-analog film', 'sai-anime', 'sai-cinematic', 'sai-comic book', 'sai-craft clay', 'sai-digital art', 'sai-enhance', 'sai-fantasy art', 'sai-isometric', 'sai-line art', 'sai-lowpoly', 'sai-neonpunk', 'sai-origami', 'sai-photographic', 'sai-pixel art', 'sai-texture', 'ads-advertising', 'ads-automotive', 'ads-corporate', 'ads-fashion editorial', 'ads-food photography', 'ads-luxury', 'ads-real estate', 'ads-retail', 'artstyle-abstract', 'artstyle-abstract expressionism', 'artstyle-art deco', 'artstyle-art nouveau', 'artstyle-constructivist', 'artstyle-cubist', 'artstyle-expressionist', 'artstyle-graffiti', 'artstyle-hyperrealism', 'artstyle-impressionist', 'artstyle-pointillism', 'artstyle-pop art', 'artstyle-psychedelic', 'artstyle-renaissance', 'artstyle-steampunk', 'artstyle-surrealist', 'artstyle-typography', 'artstyle-watercolor', 'futuristic-biomechanical', 'futuristic-biomechanical cyberpunk', 'futuristic-cybernetic', 'futuristic-cybernetic robot', 'futuristic-cyberpunk cityscape', 'futuristic-futuristic', 'futuristic-retro cyberpunk', 'futuristic-retro futurism', 'futuristic-sci-fi', 'futuristic-vaporwave', 'game-bubble bobble', 'game-cyberpunk game', 'game-fighting game', 'game-gta', 'game-mario', 'game-minecraft', 'game-pokemon', 'game-retro arcade', 'game-retro game', 'game-rpg fantasy game', 'game-strategy game', 'game-streetfighter', 'game-zelda', 'misc-architectural', 'misc-disco', 'misc-dreamscape', 'misc-dystopian', 'misc-fairy tale', 'misc-gothic', 'misc-grunge', 'misc-horror', 'misc-kawaii', 'misc-lovecraftian', 'misc-macabre', 'misc-manga', 'misc-metropolis', 'misc-minimalist', 'misc-monochrome', 'misc-nautical', 'misc-space', 'misc-stained glass', 'misc-techwear fashion', 'misc-tribal', 'misc-zentangle', 'papercraft-collage', 'papercraft-flat papercut', 'papercraft-kirigami', 'papercraft-paper mache', 'papercraft-paper quilling', 'papercraft-papercut collage', 'papercraft-papercut shadow box', 'papercraft-stacked papercut', 'papercraft-thick layered papercut', 'photo-alien', 'photo-film noir', 'photo-hdr', 'photo-long exposure', 'photo-neon noir', 'photo-silhouette', 'photo-tilt-shift']\n",
      "Loaded as API: http://127.0.0.1:7860/ ✔\n"
     ]
    },
    {
     "name": "stderr",
     "output_type": "stream",
     "text": [
      "C:\\Users\\key\\AppData\\Roaming\\Python\\Python311\\site-packages\\tqdm\\auto.py:21: TqdmWarning: IProgress not found. Please update jupyter and ipywidgets. See https://ipywidgets.readthedocs.io/en/stable/user_install.html\n",
      "  from .autonotebook import tqdm as notebook_tqdm\n"
     ]
    }
   ],
   "source": [
    "from utils_prompt import expand, progress\n",
    "from utils_fooocus import fooocusClient\n",
    "fooocusClient.list_sizes()\n",
    "fooocusClient.lists_styles()\n",
    "fc = fooocusClient()"
   ]
  },
  {
   "cell_type": "markdown",
   "metadata": {},
   "source": [
    "## Sunrise / Sunset"
   ]
  },
  {
   "cell_type": "code",
   "execution_count": 6,
   "metadata": {},
   "outputs": [
    {
     "name": "stdout",
     "output_type": "stream",
     "text": [
      "size: 1472×704, style: cinematic-default, performance: Speed, nbimages: 1, seed: None, sharpness: 0\n",
      "Generating: Sunset on the alps with a few cloud, award wining photography\n",
      "Generating: Sunrise on the alps with a few cloud, award wining photography\n",
      "Generating: Sunset on the kilimandjaro with a few cloud, award wining photography\n",
      "Generating: Sunrise on the kilimandjaro with a few cloud, award wining photography\n"
     ]
    }
   ],
   "source": [
    "fc.generate_all(expand(\"/Sunset|Sunrise/ on the /alps|kilimandjaro/ with a few cloud, award wining photography\"), **{'size':'1472x704'})"
   ]
  },
  {
   "cell_type": "markdown",
   "metadata": {},
   "source": [
    "## Progressive prompt "
   ]
  },
  {
   "cell_type": "code",
   "execution_count": 4,
   "metadata": {},
   "outputs": [
    {
     "name": "stdout",
     "output_type": "stream",
     "text": [
      "size: 1472×704, style: cinematic-default, performance: Speed, nbimages: 1, seed: 42, sharpness: 0\n",
      "Generating: A cat walking\n",
      "Generating: A cat walking in the mist\n",
      "Generating: A cat walking in the mist in a cyberpunk city\n"
     ]
    }
   ],
   "source": [
    "fc.set_size(\"1472x704\")\n",
    "fc.generate_all(progress([\n",
    "    \"A cat walking\",\n",
    "    \"in the mist\",\n",
    "    \"in a cyberpunk city\",\n",
    "]))"
   ]
  },
  {
   "cell_type": "markdown",
   "metadata": {},
   "source": [
    "## Test Quality"
   ]
  },
  {
   "cell_type": "code",
   "execution_count": 4,
   "metadata": {},
   "outputs": [
    {
     "data": {
      "text/plain": [
       "StatusUpdate(code=<Status.FINISHED: 'FINISHED'>, rank=0, queue_size=None, eta=None, success=False, time=datetime.datetime(2023, 8, 28, 14, 6, 32, 482515), progress_data=None)"
      ]
     },
     "execution_count": 4,
     "metadata": {},
     "output_type": "execute_result"
    }
   ],
   "source": [
    "fc.set_size(\"1472x704\")\n",
    "fc.seed=534\n",
    "fc.generate(\"in the mist\",performance='Quality')\n",
    "fc.generate(\"in the mist\",performance='Speed')"
   ]
  },
  {
   "cell_type": "markdown",
   "metadata": {},
   "source": [
    "## Best of"
   ]
  },
  {
   "cell_type": "code",
   "execution_count": 3,
   "metadata": {},
   "outputs": [],
   "source": [
    "fc.generate([\n",
    "    \"Sunset\",\n",
    "    \"Sunrise\",\n",
    "    \"in the mist\"\n",
    "],**{'size':'1472x704','performance':'Quality'})"
   ]
  },
  {
   "cell_type": "markdown",
   "metadata": {},
   "source": [
    "## Explore fooocus styles"
   ]
  },
  {
   "cell_type": "code",
   "execution_count": 12,
   "metadata": {},
   "outputs": [],
   "source": [
    "prompt = \"a cat walking in the sky\"\n",
    "fc.set_size(\"1472x704\")\n",
    "for style in fooocusClient.styles:\n",
    "    fc.generate(prompt, style=style)"
   ]
  },
  {
   "cell_type": "markdown",
   "metadata": {},
   "source": [
    "## Explore aituts prompt styles\n",
    "https://aituts.com/sdxl-prompts/"
   ]
  },
  {
   "cell_type": "code",
   "execution_count": 5,
   "metadata": {},
   "outputs": [],
   "source": [
    "from utils_prompt import aituts_style_list, generate_prompt_aituts\n",
    "prompt = \"a cat walking in the sky\"\n",
    "fc.set_size(\"1472x704\")\n",
    "for style in aituts_style_list:\n",
    "    pos,neg = generate_prompt_aituts(style, prompt)\n",
    "    fc.generate(pos,negative_prompt=neg)"
   ]
  },
  {
   "cell_type": "markdown",
   "metadata": {},
   "source": [
    "## Landscapes"
   ]
  },
  {
   "cell_type": "code",
   "execution_count": null,
   "metadata": {},
   "outputs": [],
   "source": [
    "prompt = \"/Sunset|Sunrise/ on the /alps|kilimandjaro|sea|beach|hills|snow|city/ with a few cloud, award wining photography\"\n",
    "prompts = expand(prompt)\n",
    "fc.set_size(\"1472x704\")\n",
    "for style in fooocusClient.styles:\n",
    "    fc.generate(prompts, style=style)"
   ]
  }
 ],
 "metadata": {
  "kernelspec": {
   "display_name": "Python 3",
   "language": "python",
   "name": "python3"
  },
  "language_info": {
   "codemirror_mode": {
    "name": "ipython",
    "version": 3
   },
   "file_extension": ".py",
   "mimetype": "text/x-python",
   "name": "python",
   "nbconvert_exporter": "python",
   "pygments_lexer": "ipython3",
   "version": "3.11.3"
  },
  "orig_nbformat": 4
 },
 "nbformat": 4,
 "nbformat_minor": 2
}

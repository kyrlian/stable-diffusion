{
 "cells": [
  {
   "attachments": {},
   "cell_type": "markdown",
   "metadata": {},
   "source": [
    "## Install requirements"
   ]
  },
  {
   "cell_type": "code",
   "execution_count": null,
   "metadata": {},
   "outputs": [],
   "source": [
    "!python.exe -m pip install --upgrade pip"
   ]
  },
  {
   "cell_type": "code",
   "execution_count": null,
   "metadata": {},
   "outputs": [],
   "source": [
    "%pip install -r requirements-torch-windows.txt -U\n",
    "%pip install -r requirements.txt -U"
   ]
  },
  {
   "attachments": {},
   "cell_type": "markdown",
   "metadata": {},
   "source": [
    "## Init stable diffusion"
   ]
  },
  {
   "cell_type": "code",
   "execution_count": null,
   "metadata": {},
   "outputs": [],
   "source": [
    "from diffusers import StableDiffusionPipeline, DPMSolverMultistepScheduler\n",
    "import torch\n",
    "\n",
    "def initdiffusionpipeline(model_id):\n",
    "    # Use the DPMSolverMultistepScheduler (DPM-Solver++) scheduler here instead\n",
    "    pipe = StableDiffusionPipeline.from_pretrained(model_id, torch_dtype=torch.float16)\n",
    "    pipe.scheduler = DPMSolverMultistepScheduler.from_config(pipe.scheduler.config)\n",
    "    pipe = pipe.to(\"cuda\")\n",
    "    return pipe\n",
    "\n",
    "#diffusionpipeline=initdiffusionpipeline(\"stabilityai/stable-diffusion-2-1\")\n",
    "diffusionpipeline=initdiffusionpipeline(\"dreamlike-art/dreamlike-diffusion-1.0\")"
   ]
  },
  {
   "cell_type": "code",
   "execution_count": null,
   "metadata": {},
   "outputs": [],
   "source": [
    "from diffusers import StableDiffusionUpscalePipeline\n",
    "\n",
    "def initupscalepipeline(model_id):\n",
    "    pipeline = StableDiffusionUpscalePipeline.from_pretrained(model_id, torch_dtype=torch.float16)\n",
    "    pipeline.enable_attention_slicing() \n",
    "    pipeline = pipeline.to(\"cuda\")\n",
    "    return pipeline\n",
    "\n",
    "upscalepipeline=initupscalepipeline(\"stabilityai/stable-diffusion-x4-upscaler\")"
   ]
  },
  {
   "cell_type": "code",
   "execution_count": null,
   "metadata": {},
   "outputs": [],
   "source": [
    "from diffusers import StableDiffusionImg2ImgPipeline\n",
    "\n",
    "def initimg2imgpipeline(model_id):\n",
    "    pipe = StableDiffusionImg2ImgPipeline.from_pretrained(model_id, torch_dtype=torch.float16)\n",
    "    pipe = pipe.to(\"cuda\")\n",
    "    return pipe\n",
    "\n",
    "img2imgpipeline = initimg2imgpipeline(\"runwayml/stable-diffusion-v1-5\")"
   ]
  },
  {
   "cell_type": "code",
   "execution_count": null,
   "metadata": {},
   "outputs": [],
   "source": [
    "import re\n",
    "def saveimage(image, prompt, seed, postfix=\"\"):\n",
    "    cleanprompt = re.sub(\"( |,)\", '-', prompt)\n",
    "    fname = f\"images/{cleanprompt}-{seed}-{postfix}.png\"\n",
    "    image.save(fname)\n",
    "    print(fname)\n",
    "    display(image)\n",
    "    #image.show() # open outside"
   ]
  },
  {
   "cell_type": "code",
   "execution_count": null,
   "metadata": {},
   "outputs": [],
   "source": [
    "def generate(prompt,nbimages=1,seed=42):\n",
    "    images = []\n",
    "    for i in range(nbimages):\n",
    "        generator = torch.Generator(\"cuda\").manual_seed(seed+i)\n",
    "        image = diffusionpipeline(prompt,num_images_per_prompt=1, generator=generator).images[0]\n",
    "        saveimage(image, prompt, seed+i)\n",
    "        images.append(image)\n",
    "    #images = diffusionpipeline(prompt,num_images_per_prompt=nbimages, generator=generator).images\n",
    "    return images"
   ]
  },
  {
   "cell_type": "code",
   "execution_count": null,
   "metadata": {},
   "outputs": [],
   "source": [
    "def derivate(srcimg, prompt, nbimages=1,seed=42):\n",
    "    images = []\n",
    "    for i in range(nbimages):\n",
    "        generator = torch.Generator(\"cuda\").manual_seed(seed+i)\n",
    "        image = img2imgpipeline(prompt=prompt, image=srcimg, strength=0.75, guidance_scale=7.5,num_images_per_prompt=1, generator=generator).images[0]\n",
    "        saveimage(image, prompt, seed+i, \"derived\")\n",
    "        images.append(image)\n",
    "    #images = img2imgpipeline(prompt=prompt, image=srcimg, strength=0.75, guidance_scale=7.5,num_images_per_prompt=nbimages, generator=generator).images\n",
    "    return images"
   ]
  },
  {
   "cell_type": "code",
   "execution_count": null,
   "metadata": {},
   "outputs": [],
   "source": [
    "def upscale(prompt,srcimg,seed=42):\n",
    "    generator = torch.Generator(\"cuda\").manual_seed(seed)\n",
    "    image = upscalepipeline(prompt=prompt, image=srcimg,generator=generator).images[0]\n",
    "    saveimage(image, prompt, seed, \"upscaled\")\n",
    "    return image"
   ]
  },
  {
   "attachments": {},
   "cell_type": "markdown",
   "metadata": {},
   "source": [
    "## Run"
   ]
  },
  {
   "cell_type": "code",
   "execution_count": null,
   "metadata": {},
   "outputs": [],
   "source": [
    "prompt=\"imagine a prehistoric octopus lurking in the deep green blue sea, deep blue shadows and sun rays, undersea jungle, high definition rendering\"\n",
    "images=generate(prompt,2)"
   ]
  },
  {
   "attachments": {},
   "cell_type": "markdown",
   "metadata": {},
   "source": [
    "## Derivate"
   ]
  },
  {
   "cell_type": "code",
   "execution_count": null,
   "metadata": {},
   "outputs": [],
   "source": [
    "srcimg = images[1]\n",
    "derivateimages = derivate(srcimg, prompt,2)"
   ]
  }
 ],
 "metadata": {
  "kernelspec": {
   "display_name": "Python 3",
   "language": "python",
   "name": "python3"
  },
  "language_info": {
   "codemirror_mode": {
    "name": "ipython",
    "version": 3
   },
   "file_extension": ".py",
   "mimetype": "text/x-python",
   "name": "python",
   "nbconvert_exporter": "python",
   "pygments_lexer": "ipython3",
   "version": "3.11.3"
  },
  "orig_nbformat": 4
 },
 "nbformat": 4,
 "nbformat_minor": 2
}

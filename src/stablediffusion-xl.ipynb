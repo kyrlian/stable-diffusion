{
 "cells": [
  {
   "cell_type": "markdown",
   "metadata": {},
   "source": [
    "# Stable diffusion XL (sd xl)"
   ]
  },
  {
   "cell_type": "markdown",
   "metadata": {},
   "source": [
    "Using model stabilityai/stable-diffusion-xl-base-1.0 with diffuser StableDiffusionXLPipeline"
   ]
  },
  {
   "attachments": {},
   "cell_type": "markdown",
   "metadata": {},
   "source": [
    "## Install requirements"
   ]
  },
  {
   "cell_type": "code",
   "execution_count": null,
   "metadata": {},
   "outputs": [],
   "source": [
    "!python.exe -m pip install --upgrade pip"
   ]
  },
  {
   "cell_type": "code",
   "execution_count": null,
   "metadata": {},
   "outputs": [],
   "source": [
    "%pip install -r ../requirements-torch-windows.txt --upgrade\n",
    "%pip install -r ../requirements.txt --upgrade"
   ]
  },
  {
   "attachments": {},
   "cell_type": "markdown",
   "metadata": {},
   "source": [
    "## Init stable diffusion"
   ]
  },
  {
   "cell_type": "markdown",
   "metadata": {},
   "source": [
    "- https://huggingface.co/stabilityai/stable-diffusion-xl-base-1.0\n",
    "- https://huggingface.co/docs/diffusers/api/pipelines/stable_diffusion/stable_diffusion_xl"
   ]
  },
  {
   "cell_type": "code",
   "execution_count": null,
   "metadata": {},
   "outputs": [],
   "source": [
    "from diffusers import StableDiffusionXLPipeline\n",
    "import torch\n",
    "\n",
    "def init_base_diffusion_pipeline(model_id):\n",
    "    pipe = StableDiffusionXLPipeline.from_pretrained(model_id, torch_dtype=torch.float16, use_safetensors=True, variant=\"fp16\")\n",
    "    pipe.to(\"cuda\")\n",
    "    # pipe.unet = torch.compile(pipe.unet, mode=\"reduce-overhead\", fullgraph=True) # Not supported on windows yet\n",
    "    return pipe\n",
    "\n",
    "xlpipeline = init_base_diffusion_pipeline(\"stabilityai/stable-diffusion-xl-base-1.0\")"
   ]
  },
  {
   "cell_type": "markdown",
   "metadata": {},
   "source": [
    "See API doc for all available options\n",
    "https://huggingface.co/docs/diffusers/api/pipelines/stable_diffusion/stable_diffusion_xl#diffusers.StableDiffusionXLPipeline"
   ]
  },
  {
   "cell_type": "code",
   "execution_count": null,
   "metadata": {},
   "outputs": [],
   "source": [
    "def generate(prompt1, prompt2=None, height=1024, width=1024, negative_prompt1=None, negative_prompt2=None, seed=42, num_inference_steps=30):\n",
    "    generator = torch.Generator(\"cuda\").manual_seed(seed)\n",
    "    image = xlpipeline(prompt1, prompt2, height=height,width=width,negative_prompt=negative_prompt1,negative_prompt_2=negative_prompt2, generator=generator, num_inference_steps=num_inference_steps ).images[0]\n",
    "    fname = f\"../images/{prompt1.replace(' ','-')}.png\"\n",
    "    image.save(fname)\n",
    "    display(image)\n",
    "    return image"
   ]
  },
  {
   "cell_type": "markdown",
   "metadata": {},
   "source": [
    "# Run"
   ]
  },
  {
   "cell_type": "code",
   "execution_count": null,
   "metadata": {},
   "outputs": [],
   "source": [
    "# img = generate(\"a photo of an astronaut riding a horse on mars\")\n",
    "img = generate(\"un chat dans un bocal\")\n",
    "img = generate(\"un poisson dans un bocal\")"
   ]
  },
  {
   "cell_type": "markdown",
   "metadata": {},
   "source": [
    "# Using utils"
   ]
  },
  {
   "cell_type": "code",
   "execution_count": null,
   "metadata": {},
   "outputs": [],
   "source": [
    "%cd ..\n",
    "from utils_stablediffusion import sdxlPipeline\n",
    "sdxlpipe = sdxlPipeline()\n",
    "image = sdxlpipe.generate(\"un chat dans un bocal\")\n",
    "display(image)"
   ]
  }
 ],
 "metadata": {
  "kernelspec": {
   "display_name": "Python 3",
   "language": "python",
   "name": "python3"
  },
  "language_info": {
   "codemirror_mode": {
    "name": "ipython",
    "version": 3
   },
   "file_extension": ".py",
   "mimetype": "text/x-python",
   "name": "python",
   "nbconvert_exporter": "python",
   "pygments_lexer": "ipython3",
   "version": "3.11.3"
  },
  "orig_nbformat": 4
 },
 "nbformat": 4,
 "nbformat_minor": 2
}

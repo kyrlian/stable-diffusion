{
 "cells": [
  {
   "cell_type": "markdown",
   "metadata": {},
   "source": [
    "# Gradio Fooocus API"
   ]
  },
  {
   "cell_type": "markdown",
   "metadata": {},
   "source": [
    "- https://github.com/lllyasviel/Fooocus\n",
    "- https://www.gradio.app/docs/client"
   ]
  },
  {
   "cell_type": "markdown",
   "metadata": {},
   "source": [
    "## Prepare"
   ]
  },
  {
   "cell_type": "code",
   "execution_count": 2,
   "metadata": {},
   "outputs": [
    {
     "name": "stdout",
     "output_type": "stream",
     "text": [
      "Defaulting to user installation because normal site-packages is not writeable\n",
      "Requirement already satisfied: diffusers in c:\\users\\key\\appdata\\roaming\\python\\python311\\site-packages (from -r ../requirements.txt (line 1)) (0.21.2)\n",
      "Collecting diffusers (from -r ../requirements.txt (line 1))\n",
      "  Obtaining dependency information for diffusers from https://files.pythonhosted.org/packages/2e/ed/58a13f88dfcdd1bcfeabf44d4c9861979551339348e579fd6559c64b12e0/diffusers-0.21.4-py3-none-any.whl.metadata\n",
      "  Downloading diffusers-0.21.4-py3-none-any.whl.metadata (18 kB)\n",
      "Requirement already satisfied: transformers in c:\\users\\key\\appdata\\roaming\\python\\python311\\site-packages (from -r ../requirements.txt (line 2)) (4.33.2)\n",
      "Collecting transformers (from -r ../requirements.txt (line 2))\n",
      "  Obtaining dependency information for transformers from https://files.pythonhosted.org/packages/1a/d1/3bba59606141ae808017f6fde91453882f931957f125009417b87a281067/transformers-4.34.0-py3-none-any.whl.metadata\n",
      "  Downloading transformers-4.34.0-py3-none-any.whl.metadata (121 kB)\n",
      "     ---------------------------------------- 0.0/121.5 kB ? eta -:--:--\n",
      "     ---------------------------------------- 121.5/121.5 kB ? eta 0:00:00\n",
      "Requirement already satisfied: accelerate in c:\\users\\key\\appdata\\roaming\\python\\python311\\site-packages (from -r ../requirements.txt (line 3)) (0.23.0)\n",
      "Requirement already satisfied: scipy in c:\\users\\key\\appdata\\roaming\\python\\python311\\site-packages (from -r ../requirements.txt (line 4)) (1.11.2)\n",
      "Collecting scipy (from -r ../requirements.txt (line 4))\n",
      "  Obtaining dependency information for scipy from https://files.pythonhosted.org/packages/81/d7/d2537d51efb692d0c411e64267ba349e7668d40f5bc73cefe78ccd650dcd/scipy-1.11.3-cp311-cp311-win_amd64.whl.metadata\n",
      "  Downloading scipy-1.11.3-cp311-cp311-win_amd64.whl.metadata (60 kB)\n",
      "     ---------------------------------------- 0.0/60.4 kB ? eta -:--:--\n",
      "     ---------------------------------------- 60.4/60.4 kB ? eta 0:00:00\n",
      "Requirement already satisfied: safetensors in c:\\users\\key\\appdata\\roaming\\python\\python311\\site-packages (from -r ../requirements.txt (line 5)) (0.3.3)\n",
      "Collecting safetensors (from -r ../requirements.txt (line 5))\n",
      "  Obtaining dependency information for safetensors from https://files.pythonhosted.org/packages/da/33/f7437e23b0bb3f14014ab60de5948ca2b5187031e955e2db2fa872e35a3c/safetensors-0.4.0-cp311-none-win_amd64.whl.metadata\n",
      "  Downloading safetensors-0.4.0-cp311-none-win_amd64.whl.metadata (3.8 kB)\n",
      "Requirement already satisfied: invisible_watermark in c:\\users\\key\\appdata\\roaming\\python\\python311\\site-packages (from -r ../requirements.txt (line 6)) (0.2.0)\n",
      "Requirement already satisfied: gradio_client in c:\\users\\key\\appdata\\roaming\\python\\python311\\site-packages (from -r ../requirements.txt (line 7)) (0.5.1)\n",
      "Collecting gradio_client (from -r ../requirements.txt (line 7))\n",
      "  Obtaining dependency information for gradio_client from https://files.pythonhosted.org/packages/9f/dd/db8dcc8521aa475a18a562929de0806819f8fa73ee8654d2cc22c836c3bd/gradio_client-0.6.0-py3-none-any.whl.metadata\n",
      "  Downloading gradio_client-0.6.0-py3-none-any.whl.metadata (7.1 kB)\n",
      "Requirement already satisfied: ipywidgets in c:\\users\\key\\appdata\\roaming\\python\\python311\\site-packages (from -r ../requirements.txt (line 8)) (8.1.1)\n",
      "Requirement already satisfied: Pillow in c:\\users\\key\\appdata\\roaming\\python\\python311\\site-packages (from diffusers->-r ../requirements.txt (line 1)) (9.3.0)\n",
      "Requirement already satisfied: filelock in c:\\users\\key\\appdata\\roaming\\python\\python311\\site-packages (from diffusers->-r ../requirements.txt (line 1)) (3.9.0)\n",
      "Requirement already satisfied: huggingface-hub>=0.13.2 in c:\\users\\key\\appdata\\roaming\\python\\python311\\site-packages (from diffusers->-r ../requirements.txt (line 1)) (0.16.4)\n",
      "Requirement already satisfied: importlib-metadata in c:\\users\\key\\appdata\\roaming\\python\\python311\\site-packages (from diffusers->-r ../requirements.txt (line 1)) (6.6.0)\n",
      "Requirement already satisfied: numpy in c:\\users\\key\\appdata\\roaming\\python\\python311\\site-packages (from diffusers->-r ../requirements.txt (line 1)) (1.24.1)\n",
      "Requirement already satisfied: regex!=2019.12.17 in c:\\users\\key\\appdata\\roaming\\python\\python311\\site-packages (from diffusers->-r ../requirements.txt (line 1)) (2023.5.5)\n",
      "Requirement already satisfied: requests in c:\\users\\key\\appdata\\roaming\\python\\python311\\site-packages (from diffusers->-r ../requirements.txt (line 1)) (2.31.0)\n",
      "Requirement already satisfied: packaging>=20.0 in c:\\users\\key\\appdata\\roaming\\python\\python311\\site-packages (from transformers->-r ../requirements.txt (line 2)) (23.1)\n",
      "Requirement already satisfied: pyyaml>=5.1 in c:\\users\\key\\appdata\\roaming\\python\\python311\\site-packages (from transformers->-r ../requirements.txt (line 2)) (6.0)\n",
      "Collecting tokenizers<0.15,>=0.14 (from transformers->-r ../requirements.txt (line 2))\n",
      "  Obtaining dependency information for tokenizers<0.15,>=0.14 from https://files.pythonhosted.org/packages/c3/29/0d9975fb739bdbefc73b6c23f335ea18e752fe6d2e91f3266a10dc8be140/tokenizers-0.14.1-cp311-none-win_amd64.whl.metadata\n",
      "  Downloading tokenizers-0.14.1-cp311-none-win_amd64.whl.metadata (6.8 kB)\n",
      "Requirement already satisfied: tqdm>=4.27 in c:\\users\\key\\appdata\\roaming\\python\\python311\\site-packages (from transformers->-r ../requirements.txt (line 2)) (4.65.0)\n",
      "Requirement already satisfied: psutil in c:\\users\\key\\appdata\\roaming\\python\\python311\\site-packages (from accelerate->-r ../requirements.txt (line 3)) (5.9.5)\n",
      "Requirement already satisfied: torch>=1.10.0 in c:\\users\\key\\appdata\\roaming\\python\\python311\\site-packages (from accelerate->-r ../requirements.txt (line 3)) (2.0.1+cu117)\n",
      "Requirement already satisfied: PyWavelets>=1.1.1 in c:\\users\\key\\appdata\\roaming\\python\\python311\\site-packages (from invisible_watermark->-r ../requirements.txt (line 6)) (1.4.1)\n",
      "Requirement already satisfied: opencv-python>=4.1.0.25 in c:\\users\\key\\appdata\\roaming\\python\\python311\\site-packages (from invisible_watermark->-r ../requirements.txt (line 6)) (4.8.0.74)\n",
      "Requirement already satisfied: fsspec in c:\\users\\key\\appdata\\roaming\\python\\python311\\site-packages (from gradio_client->-r ../requirements.txt (line 7)) (2023.5.0)\n",
      "Requirement already satisfied: httpx in c:\\users\\key\\appdata\\roaming\\python\\python311\\site-packages (from gradio_client->-r ../requirements.txt (line 7)) (0.24.1)\n",
      "Requirement already satisfied: typing-extensions~=4.0 in c:\\users\\key\\appdata\\roaming\\python\\python311\\site-packages (from gradio_client->-r ../requirements.txt (line 7)) (4.7.1)\n",
      "Requirement already satisfied: websockets<12.0,>=10.0 in c:\\users\\key\\appdata\\roaming\\python\\python311\\site-packages (from gradio_client->-r ../requirements.txt (line 7)) (11.0.3)\n",
      "Requirement already satisfied: comm>=0.1.3 in c:\\users\\key\\appdata\\roaming\\python\\python311\\site-packages (from ipywidgets->-r ../requirements.txt (line 8)) (0.1.3)\n",
      "Requirement already satisfied: ipython>=6.1.0 in c:\\users\\key\\appdata\\roaming\\python\\python311\\site-packages (from ipywidgets->-r ../requirements.txt (line 8)) (8.13.2)\n",
      "Requirement already satisfied: traitlets>=4.3.1 in c:\\users\\key\\appdata\\roaming\\python\\python311\\site-packages (from ipywidgets->-r ../requirements.txt (line 8)) (5.9.0)\n",
      "Requirement already satisfied: widgetsnbextension~=4.0.9 in c:\\users\\key\\appdata\\roaming\\python\\python311\\site-packages (from ipywidgets->-r ../requirements.txt (line 8)) (4.0.9)\n",
      "Requirement already satisfied: jupyterlab-widgets~=3.0.9 in c:\\users\\key\\appdata\\roaming\\python\\python311\\site-packages (from ipywidgets->-r ../requirements.txt (line 8)) (3.0.9)\n",
      "Requirement already satisfied: backcall in c:\\users\\key\\appdata\\roaming\\python\\python311\\site-packages (from ipython>=6.1.0->ipywidgets->-r ../requirements.txt (line 8)) (0.2.0)\n",
      "Requirement already satisfied: decorator in c:\\users\\key\\appdata\\roaming\\python\\python311\\site-packages (from ipython>=6.1.0->ipywidgets->-r ../requirements.txt (line 8)) (5.1.1)\n",
      "Requirement already satisfied: jedi>=0.16 in c:\\users\\key\\appdata\\roaming\\python\\python311\\site-packages (from ipython>=6.1.0->ipywidgets->-r ../requirements.txt (line 8)) (0.18.2)\n",
      "Requirement already satisfied: matplotlib-inline in c:\\users\\key\\appdata\\roaming\\python\\python311\\site-packages (from ipython>=6.1.0->ipywidgets->-r ../requirements.txt (line 8)) (0.1.6)\n",
      "Requirement already satisfied: pickleshare in c:\\users\\key\\appdata\\roaming\\python\\python311\\site-packages (from ipython>=6.1.0->ipywidgets->-r ../requirements.txt (line 8)) (0.7.5)\n",
      "Requirement already satisfied: prompt-toolkit!=3.0.37,<3.1.0,>=3.0.30 in c:\\users\\key\\appdata\\roaming\\python\\python311\\site-packages (from ipython>=6.1.0->ipywidgets->-r ../requirements.txt (line 8)) (3.0.38)\n",
      "Requirement already satisfied: pygments>=2.4.0 in c:\\users\\key\\appdata\\roaming\\python\\python311\\site-packages (from ipython>=6.1.0->ipywidgets->-r ../requirements.txt (line 8)) (2.15.1)\n",
      "Requirement already satisfied: stack-data in c:\\users\\key\\appdata\\roaming\\python\\python311\\site-packages (from ipython>=6.1.0->ipywidgets->-r ../requirements.txt (line 8)) (0.6.2)\n",
      "Requirement already satisfied: colorama in c:\\users\\key\\appdata\\roaming\\python\\python311\\site-packages (from ipython>=6.1.0->ipywidgets->-r ../requirements.txt (line 8)) (0.4.6)\n",
      "Requirement already satisfied: charset-normalizer<4,>=2 in c:\\users\\key\\appdata\\roaming\\python\\python311\\site-packages (from requests->diffusers->-r ../requirements.txt (line 1)) (2.1.1)\n",
      "Requirement already satisfied: idna<4,>=2.5 in c:\\users\\key\\appdata\\roaming\\python\\python311\\site-packages (from requests->diffusers->-r ../requirements.txt (line 1)) (3.4)\n",
      "Requirement already satisfied: urllib3<3,>=1.21.1 in c:\\users\\key\\appdata\\roaming\\python\\python311\\site-packages (from requests->diffusers->-r ../requirements.txt (line 1)) (1.26.13)\n",
      "Requirement already satisfied: certifi>=2017.4.17 in c:\\users\\key\\appdata\\roaming\\python\\python311\\site-packages (from requests->diffusers->-r ../requirements.txt (line 1)) (2022.12.7)\n",
      "Requirement already satisfied: sympy in c:\\users\\key\\appdata\\roaming\\python\\python311\\site-packages (from torch>=1.10.0->accelerate->-r ../requirements.txt (line 3)) (1.11.1)\n",
      "Requirement already satisfied: networkx in c:\\users\\key\\appdata\\roaming\\python\\python311\\site-packages (from torch>=1.10.0->accelerate->-r ../requirements.txt (line 3)) (3.0)\n",
      "Requirement already satisfied: jinja2 in c:\\users\\key\\appdata\\roaming\\python\\python311\\site-packages (from torch>=1.10.0->accelerate->-r ../requirements.txt (line 3)) (3.1.2)\n",
      "Requirement already satisfied: httpcore<0.18.0,>=0.15.0 in c:\\users\\key\\appdata\\roaming\\python\\python311\\site-packages (from httpx->gradio_client->-r ../requirements.txt (line 7)) (0.17.2)\n",
      "Requirement already satisfied: sniffio in c:\\users\\key\\appdata\\roaming\\python\\python311\\site-packages (from httpx->gradio_client->-r ../requirements.txt (line 7)) (1.3.0)\n",
      "Requirement already satisfied: zipp>=0.5 in c:\\users\\key\\appdata\\roaming\\python\\python311\\site-packages (from importlib-metadata->diffusers->-r ../requirements.txt (line 1)) (3.15.0)\n",
      "Requirement already satisfied: h11<0.15,>=0.13 in c:\\users\\key\\appdata\\roaming\\python\\python311\\site-packages (from httpcore<0.18.0,>=0.15.0->httpx->gradio_client->-r ../requirements.txt (line 7)) (0.14.0)\n",
      "Requirement already satisfied: anyio<5.0,>=3.0 in c:\\users\\key\\appdata\\roaming\\python\\python311\\site-packages (from httpcore<0.18.0,>=0.15.0->httpx->gradio_client->-r ../requirements.txt (line 7)) (3.7.0)\n",
      "Requirement already satisfied: parso<0.9.0,>=0.8.0 in c:\\users\\key\\appdata\\roaming\\python\\python311\\site-packages (from jedi>=0.16->ipython>=6.1.0->ipywidgets->-r ../requirements.txt (line 8)) (0.8.3)\n",
      "Requirement already satisfied: wcwidth in c:\\users\\key\\appdata\\roaming\\python\\python311\\site-packages (from prompt-toolkit!=3.0.37,<3.1.0,>=3.0.30->ipython>=6.1.0->ipywidgets->-r ../requirements.txt (line 8)) (0.2.6)\n",
      "Requirement already satisfied: MarkupSafe>=2.0 in c:\\users\\key\\appdata\\roaming\\python\\python311\\site-packages (from jinja2->torch>=1.10.0->accelerate->-r ../requirements.txt (line 3)) (2.1.2)\n",
      "Requirement already satisfied: executing>=1.2.0 in c:\\users\\key\\appdata\\roaming\\python\\python311\\site-packages (from stack-data->ipython>=6.1.0->ipywidgets->-r ../requirements.txt (line 8)) (1.2.0)\n",
      "Requirement already satisfied: asttokens>=2.1.0 in c:\\users\\key\\appdata\\roaming\\python\\python311\\site-packages (from stack-data->ipython>=6.1.0->ipywidgets->-r ../requirements.txt (line 8)) (2.2.1)\n",
      "Requirement already satisfied: pure-eval in c:\\users\\key\\appdata\\roaming\\python\\python311\\site-packages (from stack-data->ipython>=6.1.0->ipywidgets->-r ../requirements.txt (line 8)) (0.2.2)\n",
      "Requirement already satisfied: mpmath>=0.19 in c:\\users\\key\\appdata\\roaming\\python\\python311\\site-packages (from sympy->torch>=1.10.0->accelerate->-r ../requirements.txt (line 3)) (1.2.1)\n",
      "Requirement already satisfied: six in c:\\users\\key\\appdata\\roaming\\python\\python311\\site-packages (from asttokens>=2.1.0->stack-data->ipython>=6.1.0->ipywidgets->-r ../requirements.txt (line 8)) (1.16.0)\n",
      "Downloading diffusers-0.21.4-py3-none-any.whl (1.5 MB)\n",
      "   ---------------------------------------- 0.0/1.5 MB ? eta -:--:--\n",
      "   ---------------------------------------- 1.5/1.5 MB 47.7 MB/s eta 0:00:00\n",
      "Downloading transformers-4.34.0-py3-none-any.whl (7.7 MB)\n",
      "   ---------------------------------------- 0.0/7.7 MB ? eta -:--:--\n",
      "   ------------------------- -------------- 5.0/7.7 MB 105.2 MB/s eta 0:00:01\n",
      "   ---------------------------------------- 7.7/7.7 MB 99.2 MB/s eta 0:00:00\n",
      "Downloading scipy-1.11.3-cp311-cp311-win_amd64.whl (44.1 MB)\n",
      "   ---------------------------------------- 0.0/44.1 MB ? eta -:--:--\n",
      "   ----- ---------------------------------- 5.7/44.1 MB 120.0 MB/s eta 0:00:01\n",
      "   --------- ------------------------------ 11.0/44.1 MB 108.8 MB/s eta 0:00:01\n",
      "   -------------- ------------------------- 16.3/44.1 MB 108.8 MB/s eta 0:00:01\n",
      "   ------------------- -------------------- 21.6/44.1 MB 110.0 MB/s eta 0:00:01\n",
      "   ------------------------ --------------- 27.0/44.1 MB 110.0 MB/s eta 0:00:01\n",
      "   ----------------------------- ---------- 32.2/44.1 MB 108.8 MB/s eta 0:00:01\n",
      "   ------------------------------- -------- 35.3/44.1 MB 93.9 MB/s eta 0:00:01\n",
      "   ----------------------------------- ---- 38.8/44.1 MB 81.8 MB/s eta 0:00:01\n",
      "   ---------------------------------------  44.0/44.1 MB 93.0 MB/s eta 0:00:01\n",
      "   ---------------------------------------  44.1/44.1 MB 81.8 MB/s eta 0:00:01\n",
      "   ---------------------------------------- 44.1/44.1 MB 54.4 MB/s eta 0:00:00\n",
      "Downloading safetensors-0.4.0-cp311-none-win_amd64.whl (277 kB)\n",
      "   ---------------------------------------- 0.0/277.4 kB ? eta -:--:--\n",
      "   ---------------------------------------- 277.4/277.4 kB ? eta 0:00:00\n",
      "Downloading gradio_client-0.6.0-py3-none-any.whl (298 kB)\n",
      "   ---------------------------------------- 0.0/298.8 kB ? eta -:--:--\n",
      "   ---------------------------------------- 298.8/298.8 kB ? eta 0:00:00\n",
      "Downloading tokenizers-0.14.1-cp311-none-win_amd64.whl (2.2 MB)\n",
      "   ---------------------------------------- 0.0/2.2 MB ? eta -:--:--\n",
      "   ---------------------------------------- 2.2/2.2 MB 136.6 MB/s eta 0:00:00\n",
      "Installing collected packages: scipy, safetensors, tokenizers, diffusers, transformers, gradio_client\n",
      "  Attempting uninstall: scipy\n",
      "    Found existing installation: scipy 1.11.2\n",
      "    Uninstalling scipy-1.11.2:\n",
      "      Successfully uninstalled scipy-1.11.2\n",
      "  Attempting uninstall: safetensors\n",
      "    Found existing installation: safetensors 0.3.3\n",
      "    Uninstalling safetensors-0.3.3:\n",
      "      Successfully uninstalled safetensors-0.3.3\n",
      "  Attempting uninstall: tokenizers\n",
      "    Found existing installation: tokenizers 0.13.3\n",
      "    Uninstalling tokenizers-0.13.3:\n",
      "      Successfully uninstalled tokenizers-0.13.3\n",
      "  Attempting uninstall: diffusers\n",
      "    Found existing installation: diffusers 0.21.2\n",
      "    Uninstalling diffusers-0.21.2:\n",
      "      Successfully uninstalled diffusers-0.21.2\n",
      "  Attempting uninstall: transformers\n",
      "    Found existing installation: transformers 4.33.2\n",
      "    Uninstalling transformers-4.33.2:\n",
      "      Successfully uninstalled transformers-4.33.2\n",
      "  Attempting uninstall: gradio_client\n",
      "    Found existing installation: gradio_client 0.5.1\n",
      "    Uninstalling gradio_client-0.5.1:\n",
      "      Successfully uninstalled gradio_client-0.5.1\n",
      "Successfully installed diffusers-0.21.4 gradio_client-0.6.0 safetensors-0.4.0 scipy-1.11.3 tokenizers-0.14.1 transformers-4.34.0\n",
      "Note: you may need to restart the kernel to use updated packages.\n"
     ]
    },
    {
     "name": "stderr",
     "output_type": "stream",
     "text": [
      "\n",
      "[notice] A new release of pip is available: 23.2.1 -> 23.3\n",
      "[notice] To update, run: python.exe -m pip install --upgrade pip\n"
     ]
    },
    {
     "name": "stdout",
     "output_type": "stream",
     "text": [
      "Defaulting to user installation because normal site-packages is not writeable\n",
      "Requirement already satisfied: gradio_client in c:\\users\\key\\appdata\\roaming\\python\\python311\\site-packages (0.6.0)\n",
      "Requirement already satisfied: fsspec in c:\\users\\key\\appdata\\roaming\\python\\python311\\site-packages (from gradio_client) (2023.5.0)\n",
      "Requirement already satisfied: httpx in c:\\users\\key\\appdata\\roaming\\python\\python311\\site-packages (from gradio_client) (0.24.1)\n",
      "Requirement already satisfied: huggingface-hub>=0.13.0 in c:\\users\\key\\appdata\\roaming\\python\\python311\\site-packages (from gradio_client) (0.16.4)\n",
      "Requirement already satisfied: packaging in c:\\users\\key\\appdata\\roaming\\python\\python311\\site-packages (from gradio_client) (23.1)\n",
      "Requirement already satisfied: requests~=2.0 in c:\\users\\key\\appdata\\roaming\\python\\python311\\site-packages (from gradio_client) (2.31.0)\n",
      "Requirement already satisfied: typing-extensions~=4.0 in c:\\users\\key\\appdata\\roaming\\python\\python311\\site-packages (from gradio_client) (4.7.1)\n",
      "Requirement already satisfied: websockets<12.0,>=10.0 in c:\\users\\key\\appdata\\roaming\\python\\python311\\site-packages (from gradio_client) (11.0.3)\n",
      "Requirement already satisfied: filelock in c:\\users\\key\\appdata\\roaming\\python\\python311\\site-packages (from huggingface-hub>=0.13.0->gradio_client) (3.9.0)\n",
      "Requirement already satisfied: tqdm>=4.42.1 in c:\\users\\key\\appdata\\roaming\\python\\python311\\site-packages (from huggingface-hub>=0.13.0->gradio_client) (4.65.0)\n",
      "Requirement already satisfied: pyyaml>=5.1 in c:\\users\\key\\appdata\\roaming\\python\\python311\\site-packages (from huggingface-hub>=0.13.0->gradio_client) (6.0)\n",
      "Requirement already satisfied: charset-normalizer<4,>=2 in c:\\users\\key\\appdata\\roaming\\python\\python311\\site-packages (from requests~=2.0->gradio_client) (2.1.1)\n",
      "Requirement already satisfied: idna<4,>=2.5 in c:\\users\\key\\appdata\\roaming\\python\\python311\\site-packages (from requests~=2.0->gradio_client) (3.4)\n",
      "Requirement already satisfied: urllib3<3,>=1.21.1 in c:\\users\\key\\appdata\\roaming\\python\\python311\\site-packages (from requests~=2.0->gradio_client) (1.26.13)\n",
      "Requirement already satisfied: certifi>=2017.4.17 in c:\\users\\key\\appdata\\roaming\\python\\python311\\site-packages (from requests~=2.0->gradio_client) (2022.12.7)\n",
      "Requirement already satisfied: httpcore<0.18.0,>=0.15.0 in c:\\users\\key\\appdata\\roaming\\python\\python311\\site-packages (from httpx->gradio_client) (0.17.2)\n",
      "Requirement already satisfied: sniffio in c:\\users\\key\\appdata\\roaming\\python\\python311\\site-packages (from httpx->gradio_client) (1.3.0)\n",
      "Requirement already satisfied: h11<0.15,>=0.13 in c:\\users\\key\\appdata\\roaming\\python\\python311\\site-packages (from httpcore<0.18.0,>=0.15.0->httpx->gradio_client) (0.14.0)\n",
      "Requirement already satisfied: anyio<5.0,>=3.0 in c:\\users\\key\\appdata\\roaming\\python\\python311\\site-packages (from httpcore<0.18.0,>=0.15.0->httpx->gradio_client) (3.7.0)\n",
      "Requirement already satisfied: colorama in c:\\users\\key\\appdata\\roaming\\python\\python311\\site-packages (from tqdm>=4.42.1->huggingface-hub>=0.13.0->gradio_client) (0.4.6)\n",
      "Note: you may need to restart the kernel to use updated packages.\n"
     ]
    },
    {
     "name": "stderr",
     "output_type": "stream",
     "text": [
      "\n",
      "[notice] A new release of pip is available: 23.2.1 -> 23.3\n",
      "[notice] To update, run: python.exe -m pip install --upgrade pip\n"
     ]
    }
   ],
   "source": [
    "%pip install -r ../requirements.txt -U\n",
    "%pip install gradio_client -U"
   ]
  },
  {
   "cell_type": "code",
   "execution_count": 3,
   "metadata": {},
   "outputs": [
    {
     "name": "stdout",
     "output_type": "stream",
     "text": [
      "Loaded as API: http://127.0.0.1:7860/ ✔\n"
     ]
    }
   ],
   "source": [
    "from gradio_client import Client\n",
    "client = Client(\"http://127.0.0.1:7860/\")"
   ]
  },
  {
   "cell_type": "markdown",
   "metadata": {},
   "source": [
    "## Test all unnamed endpoints"
   ]
  },
  {
   "cell_type": "markdown",
   "metadata": {},
   "source": [
    "Check fooocus API http://127.0.0.1:7860/?view=api to id fn_index"
   ]
  },
  {
   "cell_type": "code",
   "execution_count": 4,
   "metadata": {},
   "outputs": [],
   "source": [
    "if False:\n",
    "    # fn_index 0 : set random on/off, and return if seed is visible (false if random)\n",
    "    print(client.predict(False, fn_index=0))\n",
    "    # fn_index 1 : list models drop down choices (base, refiner, and the 5 LoRAs)\n",
    "    print(client.predict(fn_index=1))\n",
    "    # fn_index 2 : set advanced on/off\n",
    "    print(client.predict(True, fn_index=2))\n",
    "    # fn_index 3 : random y/n, and set random seed, return seed\n",
    "    print(client.predict(False, 42, fn_index=3))"
   ]
  },
  {
   "cell_type": "markdown",
   "metadata": {},
   "source": [
    "Generate with client.predict, gives an error but the image is generated"
   ]
  },
  {
   "cell_type": "code",
   "execution_count": 13,
   "metadata": {},
   "outputs": [
    {
     "ename": "AttributeError",
     "evalue": "'dict' object has no attribute 'replace'",
     "output_type": "error",
     "traceback": [
      "\u001b[1;31m---------------------------------------------------------------------------\u001b[0m",
      "\u001b[1;31mAttributeError\u001b[0m                            Traceback (most recent call last)",
      "\u001b[1;32me:\\docs\\coding\\python\\stable-diffusion\\notebooks\\fooocus-api.ipynb Cell 10\u001b[0m line \u001b[0;36m2\n\u001b[0;32m      <a href='vscode-notebook-cell:/e%3A/docs/coding/python/stable-diffusion/notebooks/fooocus-api.ipynb#X12sZmlsZQ%3D%3D?line=0'>1</a>\u001b[0m \u001b[39mif\u001b[39;00m \u001b[39mTrue\u001b[39;00m:\n\u001b[1;32m----> <a href='vscode-notebook-cell:/e%3A/docs/coding/python/stable-diffusion/notebooks/fooocus-api.ipynb#X12sZmlsZQ%3D%3D?line=1'>2</a>\u001b[0m \tresult \u001b[39m=\u001b[39m client\u001b[39m.\u001b[39;49mpredict(\n\u001b[0;32m      <a href='vscode-notebook-cell:/e%3A/docs/coding/python/stable-diffusion/notebooks/fooocus-api.ipynb#X12sZmlsZQ%3D%3D?line=2'>3</a>\u001b[0m \t\t\u001b[39m\"\u001b[39;49m\u001b[39mHowdy!\u001b[39;49m\u001b[39m\"\u001b[39;49m,\t\u001b[39m# str in 'parameter_8' Textbox component - prompt\u001b[39;49;00m\n\u001b[0;32m      <a href='vscode-notebook-cell:/e%3A/docs/coding/python/stable-diffusion/notebooks/fooocus-api.ipynb#X12sZmlsZQ%3D%3D?line=3'>4</a>\u001b[0m \t\t\u001b[39m\"\u001b[39;49m\u001b[39mHowdy!\u001b[39;49m\u001b[39m\"\u001b[39;49m,\t\u001b[39m# str in 'Negative Prompt' Textbox component\u001b[39;49;00m\n\u001b[0;32m      <a href='vscode-notebook-cell:/e%3A/docs/coding/python/stable-diffusion/notebooks/fooocus-api.ipynb#X12sZmlsZQ%3D%3D?line=4'>5</a>\u001b[0m \t\t[\u001b[39m\"\u001b[39;49m\u001b[39mFooocus V2\u001b[39;49m\u001b[39m\"\u001b[39;49m],\t\u001b[39m# List[str] in 'Image Style' Checkboxgroup component\u001b[39;49;00m\n\u001b[0;32m      <a href='vscode-notebook-cell:/e%3A/docs/coding/python/stable-diffusion/notebooks/fooocus-api.ipynb#X12sZmlsZQ%3D%3D?line=5'>6</a>\u001b[0m \t\t\u001b[39m\"\u001b[39;49m\u001b[39mSpeed\u001b[39;49m\u001b[39m\"\u001b[39;49m,\t\u001b[39m# str in 'Performance' Radio component\u001b[39;49;00m\n\u001b[0;32m      <a href='vscode-notebook-cell:/e%3A/docs/coding/python/stable-diffusion/notebooks/fooocus-api.ipynb#X12sZmlsZQ%3D%3D?line=6'>7</a>\u001b[0m \t\t\u001b[39m\"\u001b[39;49m\u001b[39m704×1408\u001b[39;49m\u001b[39m\"\u001b[39;49m,\t\u001b[39m# str in 'Aspect Ratios' Radio component\u001b[39;49;00m\n\u001b[0;32m      <a href='vscode-notebook-cell:/e%3A/docs/coding/python/stable-diffusion/notebooks/fooocus-api.ipynb#X12sZmlsZQ%3D%3D?line=7'>8</a>\u001b[0m \t\t\u001b[39m1\u001b[39;49m,\t\u001b[39m# int | float (numeric value between 1 and 32) in 'Image Number' Slider component\u001b[39;49;00m\n\u001b[0;32m      <a href='vscode-notebook-cell:/e%3A/docs/coding/python/stable-diffusion/notebooks/fooocus-api.ipynb#X12sZmlsZQ%3D%3D?line=8'>9</a>\u001b[0m \t\t\u001b[39m5\u001b[39;49m,\t\u001b[39m# int | float in 'Seed' Number component\u001b[39;49;00m\n\u001b[0;32m     <a href='vscode-notebook-cell:/e%3A/docs/coding/python/stable-diffusion/notebooks/fooocus-api.ipynb#X12sZmlsZQ%3D%3D?line=9'>10</a>\u001b[0m \t\t\u001b[39m0\u001b[39;49m,\t\u001b[39m# int | float (numeric value between 0.0 and 30.0) in 'Sampling Sharpness' Slider component\u001b[39;49;00m\n\u001b[0;32m     <a href='vscode-notebook-cell:/e%3A/docs/coding/python/stable-diffusion/notebooks/fooocus-api.ipynb#X12sZmlsZQ%3D%3D?line=10'>11</a>\u001b[0m \t\t\u001b[39m1\u001b[39;49m,\t\u001b[39m# int | float (numeric value between 1.0 and 30.0) in 'Guidance Scale' Slider component\u001b[39;49;00m\n\u001b[0;32m     <a href='vscode-notebook-cell:/e%3A/docs/coding/python/stable-diffusion/notebooks/fooocus-api.ipynb#X12sZmlsZQ%3D%3D?line=11'>12</a>\u001b[0m \t\t\u001b[39m\"\u001b[39;49m\u001b[39msd_xl_base_1.0_0.9vae.safetensors\u001b[39;49m\u001b[39m\"\u001b[39;49m,\t\u001b[39m# str (Option from: ['sd_xl_base_1.0_0.9vae.safetensors', 'sd_xl_refiner_1.0_0.9vae.safetensors']) in 'SDXL Base Model' Dropdown component\u001b[39;49;00m\n\u001b[0;32m     <a href='vscode-notebook-cell:/e%3A/docs/coding/python/stable-diffusion/notebooks/fooocus-api.ipynb#X12sZmlsZQ%3D%3D?line=12'>13</a>\u001b[0m \t\t\u001b[39m\"\u001b[39;49m\u001b[39mNone\u001b[39;49m\u001b[39m\"\u001b[39;49m,\t\u001b[39m# str (Option from: ['None', 'sd_xl_base_1.0_0.9vae.safetensors', 'sd_xl_refiner_1.0_0.9vae.safetensors']) in 'SDXL Refiner' Dropdown component\u001b[39;49;00m\n\u001b[0;32m     <a href='vscode-notebook-cell:/e%3A/docs/coding/python/stable-diffusion/notebooks/fooocus-api.ipynb#X12sZmlsZQ%3D%3D?line=13'>14</a>\u001b[0m \t\t\u001b[39m\"\u001b[39;49m\u001b[39mNone\u001b[39;49m\u001b[39m\"\u001b[39;49m,\t\u001b[39m# str (Option from: ['None', 'sd_xl_offset_example-lora_1.0.safetensors']) in 'SDXL LoRA 1' Dropdown component\u001b[39;49;00m\n\u001b[0;32m     <a href='vscode-notebook-cell:/e%3A/docs/coding/python/stable-diffusion/notebooks/fooocus-api.ipynb#X12sZmlsZQ%3D%3D?line=14'>15</a>\u001b[0m \t\t\u001b[39m-\u001b[39;49m\u001b[39m2\u001b[39;49m,\t\u001b[39m# int | float (numeric value between -2 and 2) in 'Weight' Slider component\u001b[39;49;00m\n\u001b[0;32m     <a href='vscode-notebook-cell:/e%3A/docs/coding/python/stable-diffusion/notebooks/fooocus-api.ipynb#X12sZmlsZQ%3D%3D?line=15'>16</a>\u001b[0m \t\t\u001b[39m\"\u001b[39;49m\u001b[39mNone\u001b[39;49m\u001b[39m\"\u001b[39;49m,\t\u001b[39m# str (Option from: ['None', 'sd_xl_offset_example-lora_1.0.safetensors']) in 'SDXL LoRA 2' Dropdown component\u001b[39;49;00m\n\u001b[0;32m     <a href='vscode-notebook-cell:/e%3A/docs/coding/python/stable-diffusion/notebooks/fooocus-api.ipynb#X12sZmlsZQ%3D%3D?line=16'>17</a>\u001b[0m \t\t\u001b[39m-\u001b[39;49m\u001b[39m2\u001b[39;49m,\t\u001b[39m# int | float (numeric value between -2 and 2) in 'Weight' Slider component\u001b[39;49;00m\n\u001b[0;32m     <a href='vscode-notebook-cell:/e%3A/docs/coding/python/stable-diffusion/notebooks/fooocus-api.ipynb#X12sZmlsZQ%3D%3D?line=17'>18</a>\u001b[0m \t\t\u001b[39m\"\u001b[39;49m\u001b[39mNone\u001b[39;49m\u001b[39m\"\u001b[39;49m,\t\u001b[39m# str (Option from: ['None', 'sd_xl_offset_example-lora_1.0.safetensors']) in 'SDXL LoRA 3' Dropdown component\u001b[39;49;00m\n\u001b[0;32m     <a href='vscode-notebook-cell:/e%3A/docs/coding/python/stable-diffusion/notebooks/fooocus-api.ipynb#X12sZmlsZQ%3D%3D?line=18'>19</a>\u001b[0m \t\t\u001b[39m-\u001b[39;49m\u001b[39m2\u001b[39;49m,\t\u001b[39m# int | float (numeric value between -2 and 2) in 'Weight' Slider component\u001b[39;49;00m\n\u001b[0;32m     <a href='vscode-notebook-cell:/e%3A/docs/coding/python/stable-diffusion/notebooks/fooocus-api.ipynb#X12sZmlsZQ%3D%3D?line=19'>20</a>\u001b[0m \t\t\u001b[39m\"\u001b[39;49m\u001b[39mNone\u001b[39;49m\u001b[39m\"\u001b[39;49m,\t\u001b[39m# str (Option from: ['None', 'sd_xl_offset_example-lora_1.0.safetensors']) in 'SDXL LoRA 4' Dropdown component\u001b[39;49;00m\n\u001b[0;32m     <a href='vscode-notebook-cell:/e%3A/docs/coding/python/stable-diffusion/notebooks/fooocus-api.ipynb#X12sZmlsZQ%3D%3D?line=20'>21</a>\u001b[0m \t\t\u001b[39m-\u001b[39;49m\u001b[39m2\u001b[39;49m,\t\u001b[39m# int | float (numeric value between -2 and 2) in 'Weight' Slider component\u001b[39;49;00m\n\u001b[0;32m     <a href='vscode-notebook-cell:/e%3A/docs/coding/python/stable-diffusion/notebooks/fooocus-api.ipynb#X12sZmlsZQ%3D%3D?line=21'>22</a>\u001b[0m \t\t\u001b[39m\"\u001b[39;49m\u001b[39mNone\u001b[39;49m\u001b[39m\"\u001b[39;49m,\t\u001b[39m# str (Option from: ['None', 'sd_xl_offset_example-lora_1.0.safetensors']) in 'SDXL LoRA 5' Dropdown component\u001b[39;49;00m\n\u001b[0;32m     <a href='vscode-notebook-cell:/e%3A/docs/coding/python/stable-diffusion/notebooks/fooocus-api.ipynb#X12sZmlsZQ%3D%3D?line=22'>23</a>\u001b[0m \t\t\u001b[39m-\u001b[39;49m\u001b[39m2\u001b[39;49m,\t\u001b[39m# int | float (numeric value between -2 and 2) in 'Weight' Slider component\u001b[39;49;00m\n\u001b[0;32m     <a href='vscode-notebook-cell:/e%3A/docs/coding/python/stable-diffusion/notebooks/fooocus-api.ipynb#X12sZmlsZQ%3D%3D?line=23'>24</a>\u001b[0m \t\t\u001b[39mFalse\u001b[39;49;00m,\t\u001b[39m# bool in 'Input Image' Checkbox component\u001b[39;49;00m\n\u001b[0;32m     <a href='vscode-notebook-cell:/e%3A/docs/coding/python/stable-diffusion/notebooks/fooocus-api.ipynb#X12sZmlsZQ%3D%3D?line=24'>25</a>\u001b[0m \t\t\u001b[39m# upscale or variation\u001b[39;49;00m\n\u001b[0;32m     <a href='vscode-notebook-cell:/e%3A/docs/coding/python/stable-diffusion/notebooks/fooocus-api.ipynb#X12sZmlsZQ%3D%3D?line=25'>26</a>\u001b[0m \t\t\u001b[39m\"\u001b[39;49m\u001b[39mHowdy!\u001b[39;49m\u001b[39m\"\u001b[39;49m,\t\u001b[39m# str in 'parameter_30' Textbox component ??\u001b[39;49;00m\n\u001b[0;32m     <a href='vscode-notebook-cell:/e%3A/docs/coding/python/stable-diffusion/notebooks/fooocus-api.ipynb#X12sZmlsZQ%3D%3D?line=26'>27</a>\u001b[0m \t\t\u001b[39m\"\u001b[39;49m\u001b[39mDisabled\u001b[39;49m\u001b[39m\"\u001b[39;49m,\t\u001b[39m# str in 'Upscale or Variation:' Radio component - Disabled, Vary (Subtle), Vary (Strong), Upscale (1.5x), Upscale (2x), Upscale (Fast 2x) \u001b[39;49;00m\n\u001b[0;32m     <a href='vscode-notebook-cell:/e%3A/docs/coding/python/stable-diffusion/notebooks/fooocus-api.ipynb#X12sZmlsZQ%3D%3D?line=27'>28</a>\u001b[0m \t\t\u001b[39m\"\u001b[39;49m\u001b[39m\"\u001b[39;49m,\t\u001b[39m# str (filepath or URL to image) in 'Drag above image to here' Image component\u001b[39;49;00m\n\u001b[0;32m     <a href='vscode-notebook-cell:/e%3A/docs/coding/python/stable-diffusion/notebooks/fooocus-api.ipynb#X12sZmlsZQ%3D%3D?line=28'>29</a>\u001b[0m \t\t\u001b[39m# outpainting\u001b[39;49;00m\n\u001b[0;32m     <a href='vscode-notebook-cell:/e%3A/docs/coding/python/stable-diffusion/notebooks/fooocus-api.ipynb#X12sZmlsZQ%3D%3D?line=29'>30</a>\u001b[0m \t\t[\u001b[39m\"\u001b[39;49m\u001b[39mLeft\u001b[39;49m\u001b[39m\"\u001b[39;49m],\t\u001b[39m# List[str] in 'Outpaint' Checkboxgroup component - Left, Right, Top, Bottom\u001b[39;49;00m\n\u001b[0;32m     <a href='vscode-notebook-cell:/e%3A/docs/coding/python/stable-diffusion/notebooks/fooocus-api.ipynb#X12sZmlsZQ%3D%3D?line=30'>31</a>\u001b[0m \t\t\u001b[39m\"\u001b[39;49m\u001b[39m\"\u001b[39;49m,\t\u001b[39m# str (filepath or URL to image) in 'Drag above image to here' Image component\u001b[39;49;00m\n\u001b[0;32m     <a href='vscode-notebook-cell:/e%3A/docs/coding/python/stable-diffusion/notebooks/fooocus-api.ipynb#X12sZmlsZQ%3D%3D?line=31'>32</a>\u001b[0m \t\t\u001b[39m# imageprompts\u001b[39;49;00m\n\u001b[0;32m     <a href='vscode-notebook-cell:/e%3A/docs/coding/python/stable-diffusion/notebooks/fooocus-api.ipynb#X12sZmlsZQ%3D%3D?line=32'>33</a>\u001b[0m \t\t\u001b[39m\"\u001b[39;49m\u001b[39m\"\u001b[39;49m,\t\u001b[39m# str (filepath or URL to image) in 'Image' Image component\u001b[39;49;00m\n\u001b[0;32m     <a href='vscode-notebook-cell:/e%3A/docs/coding/python/stable-diffusion/notebooks/fooocus-api.ipynb#X12sZmlsZQ%3D%3D?line=33'>34</a>\u001b[0m \t\t\u001b[39m0\u001b[39;49m,\t\u001b[39m# int | float (numeric value between 0.0 and 1.0) in 'Stop At' Slider component\u001b[39;49;00m\n\u001b[0;32m     <a href='vscode-notebook-cell:/e%3A/docs/coding/python/stable-diffusion/notebooks/fooocus-api.ipynb#X12sZmlsZQ%3D%3D?line=34'>35</a>\u001b[0m \t\t\u001b[39m0\u001b[39;49m,\t\u001b[39m# int | float (numeric value between 0.0 and 2.0) in 'Weight' Slider component\u001b[39;49;00m\n\u001b[0;32m     <a href='vscode-notebook-cell:/e%3A/docs/coding/python/stable-diffusion/notebooks/fooocus-api.ipynb#X12sZmlsZQ%3D%3D?line=35'>36</a>\u001b[0m \t\t\u001b[39m\"\u001b[39;49m\u001b[39mImage Prompt\u001b[39;49m\u001b[39m\"\u001b[39;49m,\t\u001b[39m# str in 'Type' Radio component\u001b[39;49;00m\n\u001b[0;32m     <a href='vscode-notebook-cell:/e%3A/docs/coding/python/stable-diffusion/notebooks/fooocus-api.ipynb#X12sZmlsZQ%3D%3D?line=36'>37</a>\u001b[0m \t\t\u001b[39m\"\u001b[39;49m\u001b[39m\"\u001b[39;49m,\t\u001b[39m# str (filepath or URL to image) in 'Image' Image component\u001b[39;49;00m\n\u001b[0;32m     <a href='vscode-notebook-cell:/e%3A/docs/coding/python/stable-diffusion/notebooks/fooocus-api.ipynb#X12sZmlsZQ%3D%3D?line=37'>38</a>\u001b[0m \t\t\u001b[39m0\u001b[39;49m,\t\u001b[39m# int | float (numeric value between 0.0 and 1.0) in 'Stop At' Slider component\u001b[39;49;00m\n\u001b[0;32m     <a href='vscode-notebook-cell:/e%3A/docs/coding/python/stable-diffusion/notebooks/fooocus-api.ipynb#X12sZmlsZQ%3D%3D?line=38'>39</a>\u001b[0m \t\t\u001b[39m0\u001b[39;49m,\t\u001b[39m# int | float (numeric value between 0.0 and 2.0) in 'Weight' Slider component\u001b[39;49;00m\n\u001b[0;32m     <a href='vscode-notebook-cell:/e%3A/docs/coding/python/stable-diffusion/notebooks/fooocus-api.ipynb#X12sZmlsZQ%3D%3D?line=39'>40</a>\u001b[0m \t\t\u001b[39m\"\u001b[39;49m\u001b[39mImage Prompt\u001b[39;49m\u001b[39m\"\u001b[39;49m,\t\u001b[39m# str in 'Type' Radio component\u001b[39;49;00m\n\u001b[0;32m     <a href='vscode-notebook-cell:/e%3A/docs/coding/python/stable-diffusion/notebooks/fooocus-api.ipynb#X12sZmlsZQ%3D%3D?line=40'>41</a>\u001b[0m \t\t\u001b[39m\"\u001b[39;49m\u001b[39m\"\u001b[39;49m,\t\u001b[39m# str (filepath or URL to image) in 'Image' Image component\u001b[39;49;00m\n\u001b[0;32m     <a href='vscode-notebook-cell:/e%3A/docs/coding/python/stable-diffusion/notebooks/fooocus-api.ipynb#X12sZmlsZQ%3D%3D?line=41'>42</a>\u001b[0m \t\t\u001b[39m0\u001b[39;49m,\t\u001b[39m# int | float (numeric value between 0.0 and 1.0) in 'Stop At' Slider component\u001b[39;49;00m\n\u001b[0;32m     <a href='vscode-notebook-cell:/e%3A/docs/coding/python/stable-diffusion/notebooks/fooocus-api.ipynb#X12sZmlsZQ%3D%3D?line=42'>43</a>\u001b[0m \t\t\u001b[39m0\u001b[39;49m,\t\u001b[39m# int | float (numeric value between 0.0 and 2.0) in 'Weight' Slider component\u001b[39;49;00m\n\u001b[0;32m     <a href='vscode-notebook-cell:/e%3A/docs/coding/python/stable-diffusion/notebooks/fooocus-api.ipynb#X12sZmlsZQ%3D%3D?line=43'>44</a>\u001b[0m \t\t\u001b[39m\"\u001b[39;49m\u001b[39mImage Prompt\u001b[39;49m\u001b[39m\"\u001b[39;49m,\t\u001b[39m# str in 'Type' Radio component\u001b[39;49;00m\n\u001b[0;32m     <a href='vscode-notebook-cell:/e%3A/docs/coding/python/stable-diffusion/notebooks/fooocus-api.ipynb#X12sZmlsZQ%3D%3D?line=44'>45</a>\u001b[0m \t\t\u001b[39m\"\u001b[39;49m\u001b[39m\"\u001b[39;49m,\t\u001b[39m# str (filepath or URL to image) in 'Image' Image component\u001b[39;49;00m\n\u001b[0;32m     <a href='vscode-notebook-cell:/e%3A/docs/coding/python/stable-diffusion/notebooks/fooocus-api.ipynb#X12sZmlsZQ%3D%3D?line=45'>46</a>\u001b[0m \t\t\u001b[39m0\u001b[39;49m,\t\u001b[39m# int | float (numeric value between 0.0 and 1.0) in 'Stop At' Slider component\u001b[39;49;00m\n\u001b[0;32m     <a href='vscode-notebook-cell:/e%3A/docs/coding/python/stable-diffusion/notebooks/fooocus-api.ipynb#X12sZmlsZQ%3D%3D?line=46'>47</a>\u001b[0m \t\t\u001b[39m0\u001b[39;49m,\t\u001b[39m# int | float (numeric value between 0.0 and 2.0) in 'Weight' Slider component\u001b[39;49;00m\n\u001b[0;32m     <a href='vscode-notebook-cell:/e%3A/docs/coding/python/stable-diffusion/notebooks/fooocus-api.ipynb#X12sZmlsZQ%3D%3D?line=47'>48</a>\u001b[0m \t\t\u001b[39m\"\u001b[39;49m\u001b[39mImage Prompt\u001b[39;49m\u001b[39m\"\u001b[39;49m,\t\u001b[39m# str in 'Type' Radio component\u001b[39;49;00m\n\u001b[0;32m     <a href='vscode-notebook-cell:/e%3A/docs/coding/python/stable-diffusion/notebooks/fooocus-api.ipynb#X12sZmlsZQ%3D%3D?line=48'>49</a>\u001b[0m \t\tfn_index\u001b[39m=\u001b[39;49m\u001b[39m23\u001b[39;49m\n\u001b[0;32m     <a href='vscode-notebook-cell:/e%3A/docs/coding/python/stable-diffusion/notebooks/fooocus-api.ipynb#X12sZmlsZQ%3D%3D?line=49'>50</a>\u001b[0m \t)\n\u001b[0;32m     <a href='vscode-notebook-cell:/e%3A/docs/coding/python/stable-diffusion/notebooks/fooocus-api.ipynb#X12sZmlsZQ%3D%3D?line=50'>51</a>\u001b[0m \t\u001b[39mprint\u001b[39m(result)\n",
      "File \u001b[1;32m~\\AppData\\Roaming\\Python\\Python311\\site-packages\\gradio_client\\client.py:291\u001b[0m, in \u001b[0;36mClient.predict\u001b[1;34m(self, api_name, fn_index, *args)\u001b[0m\n\u001b[0;32m    287\u001b[0m \u001b[39mif\u001b[39;00m \u001b[39mself\u001b[39m\u001b[39m.\u001b[39mendpoints[inferred_fn_index]\u001b[39m.\u001b[39mis_continuous:\n\u001b[0;32m    288\u001b[0m     \u001b[39mraise\u001b[39;00m \u001b[39mValueError\u001b[39;00m(\n\u001b[0;32m    289\u001b[0m         \u001b[39m\"\u001b[39m\u001b[39mCannot call predict on this function as it may run forever. Use submit instead.\u001b[39m\u001b[39m\"\u001b[39m\n\u001b[0;32m    290\u001b[0m     )\n\u001b[1;32m--> 291\u001b[0m \u001b[39mreturn\u001b[39;00m \u001b[39mself\u001b[39;49m\u001b[39m.\u001b[39;49msubmit(\u001b[39m*\u001b[39;49margs, api_name\u001b[39m=\u001b[39;49mapi_name, fn_index\u001b[39m=\u001b[39;49mfn_index)\u001b[39m.\u001b[39;49mresult()\n",
      "File \u001b[1;32m~\\AppData\\Roaming\\Python\\Python311\\site-packages\\gradio_client\\client.py:1125\u001b[0m, in \u001b[0;36mJob.result\u001b[1;34m(self, timeout)\u001b[0m\n\u001b[0;32m   1110\u001b[0m \u001b[39mdef\u001b[39;00m \u001b[39mresult\u001b[39m(\u001b[39mself\u001b[39m, timeout: \u001b[39mfloat\u001b[39m \u001b[39m|\u001b[39m \u001b[39mNone\u001b[39;00m \u001b[39m=\u001b[39m \u001b[39mNone\u001b[39;00m) \u001b[39m-\u001b[39m\u001b[39m>\u001b[39m Any:\n\u001b[0;32m   1111\u001b[0m \u001b[39m    \u001b[39m\u001b[39m\"\"\"\u001b[39;00m\n\u001b[0;32m   1112\u001b[0m \u001b[39m    Return the result of the call that the future represents. Raises CancelledError: If the future was cancelled, TimeoutError: If the future didn't finish executing before the given timeout, and Exception: If the call raised then that exception will be raised.\u001b[39;00m\n\u001b[0;32m   1113\u001b[0m \n\u001b[1;32m   (...)\u001b[0m\n\u001b[0;32m   1123\u001b[0m \u001b[39m        >> 9\u001b[39;00m\n\u001b[0;32m   1124\u001b[0m \u001b[39m    \"\"\"\u001b[39;00m\n\u001b[1;32m-> 1125\u001b[0m     \u001b[39mreturn\u001b[39;00m \u001b[39msuper\u001b[39;49m()\u001b[39m.\u001b[39;49mresult(timeout\u001b[39m=\u001b[39;49mtimeout)\n",
      "File \u001b[1;32mc:\\Program Files\\Python311\\Lib\\concurrent\\futures\\_base.py:456\u001b[0m, in \u001b[0;36mFuture.result\u001b[1;34m(self, timeout)\u001b[0m\n\u001b[0;32m    454\u001b[0m     \u001b[39mraise\u001b[39;00m CancelledError()\n\u001b[0;32m    455\u001b[0m \u001b[39melif\u001b[39;00m \u001b[39mself\u001b[39m\u001b[39m.\u001b[39m_state \u001b[39m==\u001b[39m FINISHED:\n\u001b[1;32m--> 456\u001b[0m     \u001b[39mreturn\u001b[39;00m \u001b[39mself\u001b[39;49m\u001b[39m.\u001b[39;49m__get_result()\n\u001b[0;32m    457\u001b[0m \u001b[39melse\u001b[39;00m:\n\u001b[0;32m    458\u001b[0m     \u001b[39mraise\u001b[39;00m \u001b[39mTimeoutError\u001b[39;00m()\n",
      "File \u001b[1;32mc:\\Program Files\\Python311\\Lib\\concurrent\\futures\\_base.py:401\u001b[0m, in \u001b[0;36mFuture.__get_result\u001b[1;34m(self)\u001b[0m\n\u001b[0;32m    399\u001b[0m \u001b[39mif\u001b[39;00m \u001b[39mself\u001b[39m\u001b[39m.\u001b[39m_exception:\n\u001b[0;32m    400\u001b[0m     \u001b[39mtry\u001b[39;00m:\n\u001b[1;32m--> 401\u001b[0m         \u001b[39mraise\u001b[39;00m \u001b[39mself\u001b[39m\u001b[39m.\u001b[39m_exception\n\u001b[0;32m    402\u001b[0m     \u001b[39mfinally\u001b[39;00m:\n\u001b[0;32m    403\u001b[0m         \u001b[39m# Break a reference cycle with the exception in self._exception\u001b[39;00m\n\u001b[0;32m    404\u001b[0m         \u001b[39mself\u001b[39m \u001b[39m=\u001b[39m \u001b[39mNone\u001b[39;00m\n",
      "File \u001b[1;32mc:\\Program Files\\Python311\\Lib\\concurrent\\futures\\thread.py:58\u001b[0m, in \u001b[0;36m_WorkItem.run\u001b[1;34m(self)\u001b[0m\n\u001b[0;32m     55\u001b[0m     \u001b[39mreturn\u001b[39;00m\n\u001b[0;32m     57\u001b[0m \u001b[39mtry\u001b[39;00m:\n\u001b[1;32m---> 58\u001b[0m     result \u001b[39m=\u001b[39m \u001b[39mself\u001b[39;49m\u001b[39m.\u001b[39;49mfn(\u001b[39m*\u001b[39;49m\u001b[39mself\u001b[39;49m\u001b[39m.\u001b[39;49margs, \u001b[39m*\u001b[39;49m\u001b[39m*\u001b[39;49m\u001b[39mself\u001b[39;49m\u001b[39m.\u001b[39;49mkwargs)\n\u001b[0;32m     59\u001b[0m \u001b[39mexcept\u001b[39;00m \u001b[39mBaseException\u001b[39;00m \u001b[39mas\u001b[39;00m exc:\n\u001b[0;32m     60\u001b[0m     \u001b[39mself\u001b[39m\u001b[39m.\u001b[39mfuture\u001b[39m.\u001b[39mset_exception(exc)\n",
      "File \u001b[1;32m~\\AppData\\Roaming\\Python\\Python311\\site-packages\\gradio_client\\client.py:799\u001b[0m, in \u001b[0;36mEndpoint.make_end_to_end_fn.<locals>._inner\u001b[1;34m(*data)\u001b[0m\n\u001b[0;32m    797\u001b[0m     data \u001b[39m=\u001b[39m \u001b[39mself\u001b[39m\u001b[39m.\u001b[39mserialize(\u001b[39m*\u001b[39mdata)\n\u001b[0;32m    798\u001b[0m predictions \u001b[39m=\u001b[39m _predict(\u001b[39m*\u001b[39mdata)\n\u001b[1;32m--> 799\u001b[0m predictions \u001b[39m=\u001b[39m \u001b[39mself\u001b[39;49m\u001b[39m.\u001b[39;49mprocess_predictions(\u001b[39m*\u001b[39;49mpredictions)\n\u001b[0;32m    800\u001b[0m \u001b[39m# Append final output only if not already present\u001b[39;00m\n\u001b[0;32m    801\u001b[0m \u001b[39m# for consistency between generators and not generators\u001b[39;00m\n\u001b[0;32m    802\u001b[0m \u001b[39mif\u001b[39;00m helper:\n",
      "File \u001b[1;32m~\\AppData\\Roaming\\Python\\Python311\\site-packages\\gradio_client\\client.py:989\u001b[0m, in \u001b[0;36mEndpoint.process_predictions\u001b[1;34m(self, *predictions)\u001b[0m\n\u001b[0;32m    987\u001b[0m \u001b[39mdef\u001b[39;00m \u001b[39mprocess_predictions\u001b[39m(\u001b[39mself\u001b[39m, \u001b[39m*\u001b[39mpredictions):\n\u001b[0;32m    988\u001b[0m     \u001b[39mif\u001b[39;00m \u001b[39mself\u001b[39m\u001b[39m.\u001b[39mclient\u001b[39m.\u001b[39mserialize:\n\u001b[1;32m--> 989\u001b[0m         predictions \u001b[39m=\u001b[39m \u001b[39mself\u001b[39;49m\u001b[39m.\u001b[39;49mdeserialize(\u001b[39m*\u001b[39;49mpredictions)\n\u001b[0;32m    990\u001b[0m     predictions \u001b[39m=\u001b[39m \u001b[39mself\u001b[39m\u001b[39m.\u001b[39mremove_skipped_components(\u001b[39m*\u001b[39mpredictions)\n\u001b[0;32m    991\u001b[0m     predictions \u001b[39m=\u001b[39m \u001b[39mself\u001b[39m\u001b[39m.\u001b[39mreduce_singleton_output(\u001b[39m*\u001b[39mpredictions)\n",
      "File \u001b[1;32m~\\AppData\\Roaming\\Python\\Python311\\site-packages\\gradio_client\\client.py:975\u001b[0m, in \u001b[0;36mEndpoint.deserialize\u001b[1;34m(self, *data)\u001b[0m\n\u001b[0;32m    970\u001b[0m \u001b[39mdef\u001b[39;00m \u001b[39mdeserialize\u001b[39m(\u001b[39mself\u001b[39m, \u001b[39m*\u001b[39mdata) \u001b[39m-\u001b[39m\u001b[39m>\u001b[39m \u001b[39mtuple\u001b[39m:\n\u001b[0;32m    971\u001b[0m     \u001b[39massert\u001b[39;00m \u001b[39mlen\u001b[39m(data) \u001b[39m==\u001b[39m \u001b[39mlen\u001b[39m(\n\u001b[0;32m    972\u001b[0m         \u001b[39mself\u001b[39m\u001b[39m.\u001b[39mdeserializers\n\u001b[0;32m    973\u001b[0m     ), \u001b[39mf\u001b[39m\u001b[39m\"\u001b[39m\u001b[39mExpected \u001b[39m\u001b[39m{\u001b[39;00m\u001b[39mlen\u001b[39m(\u001b[39mself\u001b[39m\u001b[39m.\u001b[39mdeserializers)\u001b[39m}\u001b[39;00m\u001b[39m outputs, got \u001b[39m\u001b[39m{\u001b[39;00m\u001b[39mlen\u001b[39m(data)\u001b[39m}\u001b[39;00m\u001b[39m\"\u001b[39m\n\u001b[0;32m    974\u001b[0m     outputs \u001b[39m=\u001b[39m \u001b[39mtuple\u001b[39m(\n\u001b[1;32m--> 975\u001b[0m         [\n\u001b[0;32m    976\u001b[0m             s\u001b[39m.\u001b[39;49mdeserialize(\n\u001b[0;32m    977\u001b[0m                 d,\n\u001b[0;32m    978\u001b[0m                 save_dir\u001b[39m=\u001b[39;49m\u001b[39mself\u001b[39;49m\u001b[39m.\u001b[39;49mclient\u001b[39m.\u001b[39;49moutput_dir,\n\u001b[0;32m    979\u001b[0m                 hf_token\u001b[39m=\u001b[39;49m\u001b[39mself\u001b[39;49m\u001b[39m.\u001b[39;49mclient\u001b[39m.\u001b[39;49mhf_token,\n\u001b[0;32m    980\u001b[0m                 root_url\u001b[39m=\u001b[39;49m\u001b[39mself\u001b[39;49m\u001b[39m.\u001b[39;49mroot_url,\n\u001b[0;32m    981\u001b[0m             )\n\u001b[0;32m    982\u001b[0m             \u001b[39mfor\u001b[39;49;00m s, d \u001b[39min\u001b[39;49;00m \u001b[39mzip\u001b[39;49m(\u001b[39mself\u001b[39;49m\u001b[39m.\u001b[39;49mdeserializers, data)\n\u001b[0;32m    983\u001b[0m         ]\n\u001b[0;32m    984\u001b[0m     )\n\u001b[0;32m    985\u001b[0m     \u001b[39mreturn\u001b[39;00m outputs\n",
      "File \u001b[1;32m~\\AppData\\Roaming\\Python\\Python311\\site-packages\\gradio_client\\client.py:976\u001b[0m, in \u001b[0;36m<listcomp>\u001b[1;34m(.0)\u001b[0m\n\u001b[0;32m    970\u001b[0m \u001b[39mdef\u001b[39;00m \u001b[39mdeserialize\u001b[39m(\u001b[39mself\u001b[39m, \u001b[39m*\u001b[39mdata) \u001b[39m-\u001b[39m\u001b[39m>\u001b[39m \u001b[39mtuple\u001b[39m:\n\u001b[0;32m    971\u001b[0m     \u001b[39massert\u001b[39;00m \u001b[39mlen\u001b[39m(data) \u001b[39m==\u001b[39m \u001b[39mlen\u001b[39m(\n\u001b[0;32m    972\u001b[0m         \u001b[39mself\u001b[39m\u001b[39m.\u001b[39mdeserializers\n\u001b[0;32m    973\u001b[0m     ), \u001b[39mf\u001b[39m\u001b[39m\"\u001b[39m\u001b[39mExpected \u001b[39m\u001b[39m{\u001b[39;00m\u001b[39mlen\u001b[39m(\u001b[39mself\u001b[39m\u001b[39m.\u001b[39mdeserializers)\u001b[39m}\u001b[39;00m\u001b[39m outputs, got \u001b[39m\u001b[39m{\u001b[39;00m\u001b[39mlen\u001b[39m(data)\u001b[39m}\u001b[39;00m\u001b[39m\"\u001b[39m\n\u001b[0;32m    974\u001b[0m     outputs \u001b[39m=\u001b[39m \u001b[39mtuple\u001b[39m(\n\u001b[0;32m    975\u001b[0m         [\n\u001b[1;32m--> 976\u001b[0m             s\u001b[39m.\u001b[39;49mdeserialize(\n\u001b[0;32m    977\u001b[0m                 d,\n\u001b[0;32m    978\u001b[0m                 save_dir\u001b[39m=\u001b[39;49m\u001b[39mself\u001b[39;49m\u001b[39m.\u001b[39;49mclient\u001b[39m.\u001b[39;49moutput_dir,\n\u001b[0;32m    979\u001b[0m                 hf_token\u001b[39m=\u001b[39;49m\u001b[39mself\u001b[39;49m\u001b[39m.\u001b[39;49mclient\u001b[39m.\u001b[39;49mhf_token,\n\u001b[0;32m    980\u001b[0m                 root_url\u001b[39m=\u001b[39;49m\u001b[39mself\u001b[39;49m\u001b[39m.\u001b[39;49mroot_url,\n\u001b[0;32m    981\u001b[0m             )\n\u001b[0;32m    982\u001b[0m             \u001b[39mfor\u001b[39;00m s, d \u001b[39min\u001b[39;00m \u001b[39mzip\u001b[39m(\u001b[39mself\u001b[39m\u001b[39m.\u001b[39mdeserializers, data)\n\u001b[0;32m    983\u001b[0m         ]\n\u001b[0;32m    984\u001b[0m     )\n\u001b[0;32m    985\u001b[0m     \u001b[39mreturn\u001b[39;00m outputs\n",
      "File \u001b[1;32m~\\AppData\\Roaming\\Python\\Python311\\site-packages\\gradio_client\\serializing.py:206\u001b[0m, in \u001b[0;36mImgSerializable.deserialize\u001b[1;34m(self, x, save_dir, root_url, hf_token)\u001b[0m\n\u001b[0;32m    204\u001b[0m \u001b[39mif\u001b[39;00m x \u001b[39mis\u001b[39;00m \u001b[39mNone\u001b[39;00m \u001b[39mor\u001b[39;00m x \u001b[39m==\u001b[39m \u001b[39m\"\u001b[39m\u001b[39m\"\u001b[39m:\n\u001b[0;32m    205\u001b[0m     \u001b[39mreturn\u001b[39;00m \u001b[39mNone\u001b[39;00m\n\u001b[1;32m--> 206\u001b[0m file \u001b[39m=\u001b[39m utils\u001b[39m.\u001b[39;49mdecode_base64_to_file(x, \u001b[39mdir\u001b[39;49m\u001b[39m=\u001b[39;49msave_dir)\n\u001b[0;32m    207\u001b[0m \u001b[39mreturn\u001b[39;00m file\u001b[39m.\u001b[39mname\n",
      "File \u001b[1;32m~\\AppData\\Roaming\\Python\\Python311\\site-packages\\gradio_client\\utils.py:449\u001b[0m, in \u001b[0;36mdecode_base64_to_file\u001b[1;34m(encoding, file_path, dir, prefix)\u001b[0m\n\u001b[0;32m    447\u001b[0m directory \u001b[39m=\u001b[39m Path(\u001b[39mdir\u001b[39m \u001b[39mor\u001b[39;00m tempfile\u001b[39m.\u001b[39mgettempdir()) \u001b[39m/\u001b[39m secrets\u001b[39m.\u001b[39mtoken_hex(\u001b[39m20\u001b[39m)\n\u001b[0;32m    448\u001b[0m directory\u001b[39m.\u001b[39mmkdir(exist_ok\u001b[39m=\u001b[39m\u001b[39mTrue\u001b[39;00m, parents\u001b[39m=\u001b[39m\u001b[39mTrue\u001b[39;00m)\n\u001b[1;32m--> 449\u001b[0m data, extension \u001b[39m=\u001b[39m decode_base64_to_binary(encoding)\n\u001b[0;32m    450\u001b[0m \u001b[39mif\u001b[39;00m file_path \u001b[39mis\u001b[39;00m \u001b[39mnot\u001b[39;00m \u001b[39mNone\u001b[39;00m \u001b[39mand\u001b[39;00m prefix \u001b[39mis\u001b[39;00m \u001b[39mNone\u001b[39;00m:\n\u001b[0;32m    451\u001b[0m     filename \u001b[39m=\u001b[39m Path(file_path)\u001b[39m.\u001b[39mname\n",
      "File \u001b[1;32m~\\AppData\\Roaming\\Python\\Python311\\site-packages\\gradio_client\\utils.py:414\u001b[0m, in \u001b[0;36mdecode_base64_to_binary\u001b[1;34m(encoding)\u001b[0m\n\u001b[0;32m    413\u001b[0m \u001b[39mdef\u001b[39;00m \u001b[39mdecode_base64_to_binary\u001b[39m(encoding: \u001b[39mstr\u001b[39m) \u001b[39m-\u001b[39m\u001b[39m>\u001b[39m \u001b[39mtuple\u001b[39m[\u001b[39mbytes\u001b[39m, \u001b[39mstr\u001b[39m \u001b[39m|\u001b[39m \u001b[39mNone\u001b[39;00m]:\n\u001b[1;32m--> 414\u001b[0m     extension \u001b[39m=\u001b[39m get_extension(encoding)\n\u001b[0;32m    415\u001b[0m     data \u001b[39m=\u001b[39m encoding\u001b[39m.\u001b[39mrsplit(\u001b[39m\"\u001b[39m\u001b[39m,\u001b[39m\u001b[39m\"\u001b[39m, \u001b[39m1\u001b[39m)[\u001b[39m-\u001b[39m\u001b[39m1\u001b[39m]\n\u001b[0;32m    416\u001b[0m     \u001b[39mreturn\u001b[39;00m base64\u001b[39m.\u001b[39mb64decode(data), extension\n",
      "File \u001b[1;32m~\\AppData\\Roaming\\Python\\Python311\\site-packages\\gradio_client\\utils.py:360\u001b[0m, in \u001b[0;36mget_extension\u001b[1;34m(encoding)\u001b[0m\n\u001b[0;32m    359\u001b[0m \u001b[39mdef\u001b[39;00m \u001b[39mget_extension\u001b[39m(encoding: \u001b[39mstr\u001b[39m) \u001b[39m-\u001b[39m\u001b[39m>\u001b[39m \u001b[39mstr\u001b[39m \u001b[39m|\u001b[39m \u001b[39mNone\u001b[39;00m:\n\u001b[1;32m--> 360\u001b[0m     encoding \u001b[39m=\u001b[39m encoding\u001b[39m.\u001b[39;49mreplace(\u001b[39m\"\u001b[39m\u001b[39maudio/wav\u001b[39m\u001b[39m\"\u001b[39m, \u001b[39m\"\u001b[39m\u001b[39maudio/x-wav\u001b[39m\u001b[39m\"\u001b[39m)\n\u001b[0;32m    361\u001b[0m     \u001b[39mtype\u001b[39m \u001b[39m=\u001b[39m mimetypes\u001b[39m.\u001b[39mguess_type(encoding)[\u001b[39m0\u001b[39m]\n\u001b[0;32m    362\u001b[0m     \u001b[39mif\u001b[39;00m \u001b[39mtype\u001b[39m \u001b[39m==\u001b[39m \u001b[39m\"\u001b[39m\u001b[39maudio/flac\u001b[39m\u001b[39m\"\u001b[39m:  \u001b[39m# flac is not supported by mimetypes\u001b[39;00m\n",
      "\u001b[1;31mAttributeError\u001b[0m: 'dict' object has no attribute 'replace'"
     ]
    }
   ],
   "source": [
    "if True:\n",
    "\tresult = client.predict(\n",
    "\t\t\"Howdy!\",\t# str in 'parameter_8' Textbox component - prompt\n",
    "\t\t\"Howdy!\",\t# str in 'Negative Prompt' Textbox component\n",
    "\t\t[\"Fooocus V2\"],\t# List[str] in 'Image Style' Checkboxgroup component\n",
    "\t\t\"Speed\",\t# str in 'Performance' Radio component\n",
    "\t\t\"704×1408\",\t# str in 'Aspect Ratios' Radio component\n",
    "\t\t1,\t# int | float (numeric value between 1 and 32) in 'Image Number' Slider component\n",
    "\t\t5,\t# int | float in 'Seed' Number component\n",
    "\t\t0,\t# int | float (numeric value between 0.0 and 30.0) in 'Sampling Sharpness' Slider component\n",
    "\t\t1,\t# int | float (numeric value between 1.0 and 30.0) in 'Guidance Scale' Slider component\n",
    "\t\t\"sd_xl_base_1.0_0.9vae.safetensors\",\t# str (Option from: ['sd_xl_base_1.0_0.9vae.safetensors', 'sd_xl_refiner_1.0_0.9vae.safetensors']) in 'SDXL Base Model' Dropdown component\n",
    "\t\t\"None\",\t# str (Option from: ['None', 'sd_xl_base_1.0_0.9vae.safetensors', 'sd_xl_refiner_1.0_0.9vae.safetensors']) in 'SDXL Refiner' Dropdown component\n",
    "\t\t\"None\",\t# str (Option from: ['None', 'sd_xl_offset_example-lora_1.0.safetensors']) in 'SDXL LoRA 1' Dropdown component\n",
    "\t\t-2,\t# int | float (numeric value between -2 and 2) in 'Weight' Slider component\n",
    "\t\t\"None\",\t# str (Option from: ['None', 'sd_xl_offset_example-lora_1.0.safetensors']) in 'SDXL LoRA 2' Dropdown component\n",
    "\t\t-2,\t# int | float (numeric value between -2 and 2) in 'Weight' Slider component\n",
    "\t\t\"None\",\t# str (Option from: ['None', 'sd_xl_offset_example-lora_1.0.safetensors']) in 'SDXL LoRA 3' Dropdown component\n",
    "\t\t-2,\t# int | float (numeric value between -2 and 2) in 'Weight' Slider component\n",
    "\t\t\"None\",\t# str (Option from: ['None', 'sd_xl_offset_example-lora_1.0.safetensors']) in 'SDXL LoRA 4' Dropdown component\n",
    "\t\t-2,\t# int | float (numeric value between -2 and 2) in 'Weight' Slider component\n",
    "\t\t\"None\",\t# str (Option from: ['None', 'sd_xl_offset_example-lora_1.0.safetensors']) in 'SDXL LoRA 5' Dropdown component\n",
    "\t\t-2,\t# int | float (numeric value between -2 and 2) in 'Weight' Slider component\n",
    "\t\tFalse,\t# bool in 'Input Image' Checkbox component\n",
    "\t\t# upscale or variation\n",
    "\t\t\"Howdy!\",\t# str in 'parameter_30' Textbox component ??\n",
    "\t\t\"Disabled\",\t# str in 'Upscale or Variation:' Radio component - Disabled, Vary (Subtle), Vary (Strong), Upscale (1.5x), Upscale (2x), Upscale (Fast 2x) \n",
    "\t\t\"\",\t# str (filepath or URL to image) in 'Drag above image to here' Image component\n",
    "\t\t# outpainting\n",
    "\t\t[\"Left\"],\t# List[str] in 'Outpaint' Checkboxgroup component - Left, Right, Top, Bottom\n",
    "\t\t\"\",\t# str (filepath or URL to image) in 'Drag above image to here' Image component\n",
    "\t\t# imageprompts\n",
    "\t\t\"\",\t# str (filepath or URL to image) in 'Image' Image component\n",
    "\t\t0,\t# int | float (numeric value between 0.0 and 1.0) in 'Stop At' Slider component\n",
    "\t\t0,\t# int | float (numeric value between 0.0 and 2.0) in 'Weight' Slider component\n",
    "\t\t\"Image Prompt\",\t# str in 'Type' Radio component\n",
    "\t\t\"\",\t# str (filepath or URL to image) in 'Image' Image component\n",
    "\t\t0,\t# int | float (numeric value between 0.0 and 1.0) in 'Stop At' Slider component\n",
    "\t\t0,\t# int | float (numeric value between 0.0 and 2.0) in 'Weight' Slider component\n",
    "\t\t\"Image Prompt\",\t# str in 'Type' Radio component\n",
    "\t\t\"\",\t# str (filepath or URL to image) in 'Image' Image component\n",
    "\t\t0,\t# int | float (numeric value between 0.0 and 1.0) in 'Stop At' Slider component\n",
    "\t\t0,\t# int | float (numeric value between 0.0 and 2.0) in 'Weight' Slider component\n",
    "\t\t\"Image Prompt\",\t# str in 'Type' Radio component\n",
    "\t\t\"\",\t# str (filepath or URL to image) in 'Image' Image component\n",
    "\t\t0,\t# int | float (numeric value between 0.0 and 1.0) in 'Stop At' Slider component\n",
    "\t\t0,\t# int | float (numeric value between 0.0 and 2.0) in 'Weight' Slider component\n",
    "\t\t\"Image Prompt\",\t# str in 'Type' Radio component\n",
    "\t\tfn_index=23\n",
    "\t)\n",
    "\tprint(result)"
   ]
  },
  {
   "cell_type": "markdown",
   "metadata": {},
   "source": [
    "Async with client.submit(), no error"
   ]
  },
  {
   "cell_type": "code",
   "execution_count": 14,
   "metadata": {},
   "outputs": [
    {
     "name": "stdout",
     "output_type": "stream",
     "text": [
      "<Job at 0x1e481392190 state=pending>\n",
      "StatusUpdate(code=<Status.STARTING: 'STARTING'>, rank=None, queue_size=None, eta=None, success=None, time=datetime.datetime(2023, 10, 15, 19, 13, 28, 571040), progress_data=None)\n",
      "StatusUpdate(code=<Status.FINISHED: 'FINISHED'>, rank=0, queue_size=None, eta=None, success=False, time=datetime.datetime(2023, 10, 15, 19, 13, 38, 572062), progress_data=None)\n"
     ]
    }
   ],
   "source": [
    "import time\n",
    "if True:\n",
    "\t# use 'submit' for async (predict crashes)\n",
    "\tjob = client.submit(\n",
    "\t\t\"Howdy!\",\t# str in 'parameter_8' Textbox component - prompt\n",
    "\t\t\"Howdy!\",\t# str in 'Negative Prompt' Textbox component\n",
    "\t\t[\"Fooocus V2\"],\t# List[str] in 'Image Style' Checkboxgroup component\n",
    "\t\t\"Speed\",\t# str in 'Performance' Radio component\n",
    "\t\t\"704×1408\",\t# str in 'Aspect Ratios' Radio component\n",
    "\t\t1,\t# int | float (numeric value between 1 and 32) in 'Image Number' Slider component\n",
    "\t\t5,\t# int | float in 'Seed' Number component\n",
    "\t\t0,\t# int | float (numeric value between 0.0 and 30.0) in 'Sampling Sharpness' Slider component\n",
    "\t\t1,\t# int | float (numeric value between 1.0 and 30.0) in 'Guidance Scale' Slider component\n",
    "\t\t\"sd_xl_base_1.0_0.9vae.safetensors\",\t# str (Option from: ['sd_xl_base_1.0_0.9vae.safetensors', 'sd_xl_refiner_1.0_0.9vae.safetensors']) in 'SDXL Base Model' Dropdown component\n",
    "\t\t\"None\",\t# str (Option from: ['None', 'sd_xl_base_1.0_0.9vae.safetensors', 'sd_xl_refiner_1.0_0.9vae.safetensors']) in 'SDXL Refiner' Dropdown component\n",
    "\t\t\"None\",\t# str (Option from: ['None', 'sd_xl_offset_example-lora_1.0.safetensors']) in 'SDXL LoRA 1' Dropdown component\n",
    "\t\t-2,\t# int | float (numeric value between -2 and 2) in 'Weight' Slider component\n",
    "\t\t\"None\",\t# str (Option from: ['None', 'sd_xl_offset_example-lora_1.0.safetensors']) in 'SDXL LoRA 2' Dropdown component\n",
    "\t\t-2,\t# int | float (numeric value between -2 and 2) in 'Weight' Slider component\n",
    "\t\t\"None\",\t# str (Option from: ['None', 'sd_xl_offset_example-lora_1.0.safetensors']) in 'SDXL LoRA 3' Dropdown component\n",
    "\t\t-2,\t# int | float (numeric value between -2 and 2) in 'Weight' Slider component\n",
    "\t\t\"None\",\t# str (Option from: ['None', 'sd_xl_offset_example-lora_1.0.safetensors']) in 'SDXL LoRA 4' Dropdown component\n",
    "\t\t-2,\t# int | float (numeric value between -2 and 2) in 'Weight' Slider component\n",
    "\t\t\"None\",\t# str (Option from: ['None', 'sd_xl_offset_example-lora_1.0.safetensors']) in 'SDXL LoRA 5' Dropdown component\n",
    "\t\t-2,\t# int | float (numeric value between -2 and 2) in 'Weight' Slider component\n",
    "\t\tFalse,\t# bool in 'Input Image' Checkbox component\n",
    "\t\t# upscale or variation\n",
    "\t\t\"Howdy!\",\t# str in 'parameter_30' Textbox component ??\n",
    "\t\t\"Disabled\",\t# str in 'Upscale or Variation:' Radio component - Disabled, Vary (Subtle), Vary (Strong), Upscale (1.5x), Upscale (2x), Upscale (Fast 2x) \n",
    "\t\t\"\",\t# str (filepath or URL to image) in 'Drag above image to here' Image component\n",
    "\t\t# outpainting\n",
    "\t\t[\"Left\"],\t# List[str] in 'Outpaint' Checkboxgroup component - Left, Right, Top, Bottom\n",
    "\t\t\"\",\t# str (filepath or URL to image) in 'Drag above image to here' Image component\n",
    "\t\t# imageprompts\n",
    "\t\t\"\",\t# str (filepath or URL to image) in 'Image' Image component\n",
    "\t\t0,\t# int | float (numeric value between 0.0 and 1.0) in 'Stop At' Slider component\n",
    "\t\t0,\t# int | float (numeric value between 0.0 and 2.0) in 'Weight' Slider component\n",
    "\t\t\"Image Prompt\",\t# str in 'Type' Radio component\n",
    "\t\t\"\",\t# str (filepath or URL to image) in 'Image' Image component\n",
    "\t\t0,\t# int | float (numeric value between 0.0 and 1.0) in 'Stop At' Slider component\n",
    "\t\t0,\t# int | float (numeric value between 0.0 and 2.0) in 'Weight' Slider component\n",
    "\t\t\"Image Prompt\",\t# str in 'Type' Radio component\n",
    "\t\t\"\",\t# str (filepath or URL to image) in 'Image' Image component\n",
    "\t\t0,\t# int | float (numeric value between 0.0 and 1.0) in 'Stop At' Slider component\n",
    "\t\t0,\t# int | float (numeric value between 0.0 and 2.0) in 'Weight' Slider component\n",
    "\t\t\"Image Prompt\",\t# str in 'Type' Radio component\n",
    "\t\t\"\",\t# str (filepath or URL to image) in 'Image' Image component\n",
    "\t\t0,\t# int | float (numeric value between 0.0 and 1.0) in 'Stop At' Slider component\n",
    "\t\t0,\t# int | float (numeric value between 0.0 and 2.0) in 'Weight' Slider component\n",
    "\t\t\"Image Prompt\",\t# str in 'Type' Radio component\n",
    "\t\tfn_index=23\n",
    "\t)\n",
    "\tprint(job)\n",
    "\tprint(job.status())\n",
    "\twhile not job.done():\n",
    "\t\ttime.sleep(10)#seconds\n",
    "\t\tprint(job.status())\n",
    "\tres = job.status()\n",
    "\t"
   ]
  },
  {
   "cell_type": "markdown",
   "metadata": {},
   "source": [
    "## Choices"
   ]
  },
  {
   "cell_type": "markdown",
   "metadata": {},
   "source": [
    "Sizes:\n",
    "704×1408\n",
    "704×1344\n",
    "768×1344\n",
    "768×1280\n",
    "832×1216\n",
    "832×1152\n",
    "896×1152\n",
    "896×1088\n",
    "960×1088\n",
    "960×1024\n",
    "1024×1024\n",
    "1024×960\n",
    "1088×960\n",
    "1088×896\n",
    "1152×896\n",
    "1152×832\n",
    "1216×832\n",
    "1280×768\n",
    "1344×768\n",
    "1344×704\n",
    "1408×704\n",
    "1472×704\n",
    "1536×640\n",
    "1600×640\n",
    "1664×576\n",
    "1728×576"
   ]
  },
  {
   "cell_type": "markdown",
   "metadata": {},
   "source": [
    "Styles: None\n",
    "cinematic-default\n",
    "sai-3d-model\n",
    "sai-analog film\n",
    "sai-anime\n",
    "sai-cinematic\n",
    "sai-comic book\n",
    "sai-craft clay\n",
    "sai-digital art\n",
    "sai-enhance\n",
    "sai-fantasy art\n",
    "sai-isometric\n",
    "sai-line art\n",
    "sai-lowpoly\n",
    "sai-neonpunk\n",
    "sai-origami\n",
    "sai-photographic\n",
    "sai-pixel art\n",
    "sai-texture\n",
    "ads-advertising\n",
    "ads-automotive\n",
    "ads-corporate\n",
    "ads-fashion editorial\n",
    "ads-food photography\n",
    "ads-luxury\n",
    "ads-real estate\n",
    "ads-retail\n",
    "artstyle-abstract\n",
    "artstyle-abstract expressionism\n",
    "artstyle-art deco\n",
    "artstyle-art nouveau\n",
    "artstyle-constructivist\n",
    "artstyle-cubist\n",
    "artstyle-expressionist\n",
    "artstyle-graffiti\n",
    "artstyle-hyperrealism\n",
    "artstyle-impressionist\n",
    "artstyle-pointillism\n",
    "artstyle-pop art\n",
    "artstyle-psychedelic\n",
    "artstyle-renaissance\n",
    "artstyle-steampunk\n",
    "artstyle-surrealist\n",
    "artstyle-typography\n",
    "artstyle-watercolor\n",
    "futuristic-biomechanical\n",
    "futuristic-biomechanical cyberpunk\n",
    "futuristic-cybernetic\n",
    "futuristic-cybernetic robot\n",
    "futuristic-cyberpunk cityscape\n",
    "futuristic-futuristic\n",
    "futuristic-retro cyberpunk\n",
    "futuristic-retro futurism\n",
    "futuristic-sci-fi\n",
    "futuristic-vaporwave\n",
    "game-bubble bobble\n",
    "game-cyberpunk game\n",
    "game-fighting game\n",
    "game-gta\n",
    "game-mario\n",
    "game-minecraft\n",
    "game-pokemon\n",
    "game-retro arcade\n",
    "game-retro game\n",
    "game-rpg fantasy game\n",
    "game-strategy game\n",
    "game-streetfighter\n",
    "game-zelda\n",
    "misc-architectural\n",
    "misc-disco\n",
    "misc-dreamscape\n",
    "misc-dystopian\n",
    "misc-fairy tale\n",
    "misc-gothic\n",
    "misc-grunge\n",
    "misc-horror\n",
    "misc-kawaii\n",
    "misc-lovecraftian\n",
    "misc-macabre\n",
    "misc-manga\n",
    "misc-metropolis\n",
    "misc-minimalist\n",
    "misc-monochrome\n",
    "misc-nautical\n",
    "misc-space\n",
    "misc-stained glass\n",
    "misc-techwear fashion\n",
    "misc-tribal\n",
    "misc-zentangle\n",
    "papercraft-collage\n",
    "papercraft-flat papercut\n",
    "papercraft-kirigami\n",
    "papercraft-paper mache\n",
    "papercraft-paper quilling\n",
    "papercraft-papercut collage\n",
    "papercraft-papercut shadow box\n",
    "papercraft-stacked papercut\n",
    "papercraft-thick layered papercut\n",
    "photo-alien\n",
    "photo-film noir\n",
    "photo-hdr\n",
    "photo-long exposure\n",
    "photo-neon noir\n",
    "photo-silhouette\n",
    "photo-tilt-shift"
   ]
  },
  {
   "cell_type": "markdown",
   "metadata": {},
   "source": [
    "## Generate method"
   ]
  },
  {
   "cell_type": "code",
   "execution_count": 15,
   "metadata": {},
   "outputs": [],
   "source": [
    "import time\n",
    "def generate(prompt, negative_prompt=\"\", styles=[\"Fooocus V2\"], performance=\"Speed\", size=\"1024x1024\", nbimages=1, seed=42, sharpness=0,debug=False):\n",
    "\tjob = client.submit( #submit is non blocking\n",
    "\t\tprompt,\t\t\t\t# Prompt - str\n",
    "\t\tnegative_prompt,\t# Negative promt - str\n",
    "\t\tstyles,\t\t\t\t# Styles - [str]\n",
    "\t\tperformance,\t\t# Speed or Quality - str\n",
    "\t\tsize.replace(\"x\", \"×\"),\t\t# Size - str - (width × height)\n",
    "\t\tnbimages,\t\t\t# Nb Images to generate - int\n",
    "\t\tseed,\t\t\t# Seed - int\n",
    "\t\tsharpness,\t\t\t# Sharpness - int | float\n",
    "\t\t1,\t# Guidance Scale - int | float (numeric value between 1.0 and 30.0)\n",
    "\t\t\"sd_xl_base_1.0_0.9vae.safetensors\",\t# Base Model - \t\t['sd_xl_base_1.0_0.9vae.safetensors', 'sd_xl_refiner_1.0_0.9vae.safetensors']\n",
    "\t\t\"sd_xl_refiner_1.0_0.9vae.safetensors\",\t# Refiner - ['None', 'sd_xl_base_1.0_0.9vae.safetensors', 'sd_xl_refiner_1.0_0.9vae.safetensors']\n",
    "\t\t\"None\",\t# LoRA 1 - ['None', 'sd_xl_offset_example-lora_1.0.safetensors']\n",
    "\t\t-2,\t\t# LoRA 1 Weight - int | float (between -2 and 2)\n",
    "\t\t\"None\",\t# LoRA 2 - ['None', 'sd_xl_offset_example-lora_1.0.safetensors']\n",
    "\t\t-2,\t\t# LoRA 2 Weight - int | float (between -2 and 2)\n",
    "\t\t\"None\",\t# LoRA 3 - ['None', 'sd_xl_offset_example-lora_1.0.safetensors']\n",
    "\t\t-2,\t\t# LoRA 3 Weight - int | float (between -2 and 2)\n",
    "\t\t\"None\",\t# LoRA 4 - ['None', 'sd_xl_offset_example-lora_1.0.safetensors']\n",
    "\t\t-2,\t\t# LoRA 4 Weight - int | float (between -2 and 2)\n",
    "\t\t\"None\",\t# LoRA 5 - ['None', 'sd_xl_offset_example-lora_1.0.safetensors']\n",
    "\t\t-2,\t\t# LoRA 5 Weight - int | float (between -2 and 2)\n",
    "\t\t# upscale or variation\n",
    "\t\tFalse,\t# bool in 'Input Image' Checkbox component\n",
    "\t\t\"Howdy!\",\t# str in 'parameter_30' Textbox component ??\n",
    "\t\t\"Disabled\",\t# str in 'Upscale or Variation:' Radio component - Disabled, Vary (Subtle), Vary (Strong), Upscale (1.5x), Upscale (2x), Upscale (Fast 2x) \n",
    "\t\t\"\",\t# str (filepath or URL to image) in 'Drag above image to here' Image component\n",
    "\t\t# outpainting\n",
    "\t\t[\"Left\"],\t# List[str] in 'Outpaint' Checkboxgroup component - Left, Right, Top, Bottom\n",
    "\t\t\"\",\t# str (filepath or URL to image) in 'Drag above image to here' Image component\n",
    "\t\t# image prompts\n",
    "\t\t\"\",\t# str (filepath or URL to image) in 'Image' Image component\n",
    "\t\t0,\t# int | float (numeric value between 0.0 and 1.0) in 'Stop At' Slider component\n",
    "\t\t0,\t# int | float (numeric value between 0.0 and 2.0) in 'Weight' Slider component\n",
    "\t\t\"Image Prompt\",\t# str in 'Type' Radio component\n",
    "\t\t\"\",\t# str (filepath or URL to image) in 'Image' Image component\n",
    "\t\t0,\t# int | float (numeric value between 0.0 and 1.0) in 'Stop At' Slider component\n",
    "\t\t0,\t# int | float (numeric value between 0.0 and 2.0) in 'Weight' Slider component\n",
    "\t\t\"Image Prompt\",\t# str in 'Type' Radio component\n",
    "\t\t\"\",\t# str (filepath or URL to image) in 'Image' Image component\n",
    "\t\t0,\t# int | float (numeric value between 0.0 and 1.0) in 'Stop At' Slider component\n",
    "\t\t0,\t# int | float (numeric value between 0.0 and 2.0) in 'Weight' Slider component\n",
    "\t\t\"Image Prompt\",\t# str in 'Type' Radio component\n",
    "\t\t\"\",\t# str (filepath or URL to image) in 'Image' Image component\n",
    "\t\t0,\t# int | float (numeric value between 0.0 and 1.0) in 'Stop At' Slider component\n",
    "\t\t0,\t# int | float (numeric value between 0.0 and 2.0) in 'Weight' Slider component\n",
    "\t\t\"Image Prompt\",\t# str in 'Type' Radio component\n",
    "\t\tfn_index=23)\n",
    "\tif debug: print(job.status())\n",
    "\twhile not job.done():\n",
    "\t\ttime.sleep(1)#seconds\n",
    "\t\tif debug: print(job.status())\n",
    "\tres = job.status()\n",
    "\treturn res"
   ]
  },
  {
   "cell_type": "code",
   "execution_count": 16,
   "metadata": {},
   "outputs": [
    {
     "data": {
      "text/plain": [
       "StatusUpdate(code=<Status.FINISHED: 'FINISHED'>, rank=0, queue_size=None, eta=None, success=False, time=datetime.datetime(2023, 10, 15, 19, 18, 3, 730561), progress_data=None)"
      ]
     },
     "execution_count": 16,
     "metadata": {},
     "output_type": "execute_result"
    }
   ],
   "source": [
    "generate(\"An astronaut riding a horse on mars\")"
   ]
  },
  {
   "cell_type": "markdown",
   "metadata": {},
   "source": [
    "# Using utils"
   ]
  },
  {
   "cell_type": "code",
   "execution_count": 9,
   "metadata": {},
   "outputs": [
    {
     "name": "stdout",
     "output_type": "stream",
     "text": [
      "e:\\docs\\coding\\python\\stable-diffusion\n",
      "Loaded as API: http://127.0.0.1:7860/ ✔\n"
     ]
    },
    {
     "data": {
      "text/plain": [
       "StatusUpdate(code=<Status.FINISHED: 'FINISHED'>, rank=0, queue_size=None, eta=None, success=False, time=datetime.datetime(2023, 10, 15, 18, 58, 9, 363564), progress_data=None)"
      ]
     },
     "execution_count": 9,
     "metadata": {},
     "output_type": "execute_result"
    }
   ],
   "source": [
    "%cd ..\n",
    "from utils_fooocus import fooocusClient\n",
    "fc = fooocusClient()\n",
    "fc.generate(\"An astronaut riding a horse on mars\")"
   ]
  },
  {
   "cell_type": "code",
   "execution_count": 10,
   "metadata": {},
   "outputs": [
    {
     "ename": "AttributeError",
     "evalue": "'fooocusClient' object has no attribute 'style'",
     "output_type": "error",
     "traceback": [
      "\u001b[1;31m---------------------------------------------------------------------------\u001b[0m",
      "\u001b[1;31mAttributeError\u001b[0m                            Traceback (most recent call last)",
      "\u001b[1;32me:\\docs\\coding\\python\\stable-diffusion\\notebooks\\fooocus-api.ipynb Cell 21\u001b[0m line \u001b[0;36m4\n\u001b[0;32m      <a href='vscode-notebook-cell:/e%3A/docs/coding/python/stable-diffusion/notebooks/fooocus-api.ipynb#X26sZmlsZQ%3D%3D?line=1'>2</a>\u001b[0m fc\u001b[39m.\u001b[39mgenerate(\u001b[39m\"\u001b[39m\u001b[39mAn astronaut riding a horse on mars\u001b[39m\u001b[39m\"\u001b[39m, size\u001b[39m=\u001b[39m\u001b[39m\"\u001b[39m\u001b[39m1472x704\u001b[39m\u001b[39m\"\u001b[39m)\n\u001b[0;32m      <a href='vscode-notebook-cell:/e%3A/docs/coding/python/stable-diffusion/notebooks/fooocus-api.ipynb#X26sZmlsZQ%3D%3D?line=2'>3</a>\u001b[0m \u001b[39m# Generate all\u001b[39;00m\n\u001b[1;32m----> <a href='vscode-notebook-cell:/e%3A/docs/coding/python/stable-diffusion/notebooks/fooocus-api.ipynb#X26sZmlsZQ%3D%3D?line=3'>4</a>\u001b[0m fc\u001b[39m.\u001b[39;49mgenerate_all([\u001b[39m\"\u001b[39;49m\u001b[39mSunset\u001b[39;49m\u001b[39m\"\u001b[39;49m,\u001b[39m\"\u001b[39;49m\u001b[39mSunrise\u001b[39;49m\u001b[39m\"\u001b[39;49m], \u001b[39m*\u001b[39;49m\u001b[39m*\u001b[39;49m{\u001b[39m'\u001b[39;49m\u001b[39msize\u001b[39;49m\u001b[39m'\u001b[39;49m:\u001b[39m'\u001b[39;49m\u001b[39m1472x704\u001b[39;49m\u001b[39m'\u001b[39;49m})\n\u001b[0;32m      <a href='vscode-notebook-cell:/e%3A/docs/coding/python/stable-diffusion/notebooks/fooocus-api.ipynb#X26sZmlsZQ%3D%3D?line=4'>5</a>\u001b[0m \u001b[39m# Set setting\u001b[39;00m\n\u001b[0;32m      <a href='vscode-notebook-cell:/e%3A/docs/coding/python/stable-diffusion/notebooks/fooocus-api.ipynb#X26sZmlsZQ%3D%3D?line=5'>6</a>\u001b[0m fc\u001b[39m.\u001b[39mset_size(\u001b[39m\"\u001b[39m\u001b[39m1472x704\u001b[39m\u001b[39m\"\u001b[39m)\n",
      "File \u001b[1;32me:\\docs\\coding\\python\\stable-diffusion\\utils_fooocus.py:145\u001b[0m, in \u001b[0;36mfooocusClient.generate_all\u001b[1;34m(self, prompts, **generate_kwargs)\u001b[0m\n\u001b[0;32m    144\u001b[0m \u001b[39mdef\u001b[39;00m \u001b[39mgenerate_all\u001b[39m(\u001b[39mself\u001b[39m, prompts, \u001b[39m*\u001b[39m\u001b[39m*\u001b[39mgenerate_kwargs):\n\u001b[1;32m--> 145\u001b[0m     \u001b[39mprint\u001b[39m(\u001b[39mself\u001b[39;49m\u001b[39m.\u001b[39;49minfo())\n\u001b[0;32m    146\u001b[0m     \u001b[39mfor\u001b[39;00m p \u001b[39min\u001b[39;00m prompts:\n\u001b[0;32m    147\u001b[0m         \u001b[39mprint\u001b[39m(\u001b[39mf\u001b[39m\u001b[39m\"\u001b[39m\u001b[39mGenerating: \u001b[39m\u001b[39m{\u001b[39;00mp\u001b[39m}\u001b[39;00m\u001b[39m\"\u001b[39m)\n",
      "File \u001b[1;32me:\\docs\\coding\\python\\stable-diffusion\\utils_fooocus.py:40\u001b[0m, in \u001b[0;36mfooocusClient.info\u001b[1;34m(self)\u001b[0m\n\u001b[0;32m     39\u001b[0m \u001b[39mdef\u001b[39;00m \u001b[39minfo\u001b[39m(\u001b[39mself\u001b[39m):\n\u001b[1;32m---> 40\u001b[0m     info\u001b[39m=\u001b[39m\u001b[39mf\u001b[39m\u001b[39m\"\u001b[39m\u001b[39msize: \u001b[39m\u001b[39m{\u001b[39;00m\u001b[39mself\u001b[39m\u001b[39m.\u001b[39msize\u001b[39m}\u001b[39;00m\u001b[39m, style: \u001b[39m\u001b[39m{\u001b[39;00m\u001b[39mself\u001b[39;49m\u001b[39m.\u001b[39;49mstyle\u001b[39m}\u001b[39;00m\u001b[39m, performance: \u001b[39m\u001b[39m{\u001b[39;00m\u001b[39mself\u001b[39m\u001b[39m.\u001b[39mperformance\u001b[39m}\u001b[39;00m\u001b[39m, nbimages: \u001b[39m\u001b[39m{\u001b[39;00m\u001b[39mself\u001b[39m\u001b[39m.\u001b[39mnbimages\u001b[39m}\u001b[39;00m\u001b[39m, seed: \u001b[39m\u001b[39m{\u001b[39;00m\u001b[39mself\u001b[39m\u001b[39m.\u001b[39mseed\u001b[39m}\u001b[39;00m\u001b[39m, sharpness: \u001b[39m\u001b[39m{\u001b[39;00m\u001b[39mself\u001b[39m\u001b[39m.\u001b[39msharpness\u001b[39m}\u001b[39;00m\u001b[39m\"\u001b[39m\n\u001b[0;32m     41\u001b[0m     \u001b[39m# print(info)\u001b[39;00m\n\u001b[0;32m     42\u001b[0m     \u001b[39mreturn\u001b[39;00m info\n",
      "\u001b[1;31mAttributeError\u001b[0m: 'fooocusClient' object has no attribute 'style'"
     ]
    }
   ],
   "source": [
    "# Size variation\n",
    "fc.generate(\"An astronaut riding a horse on mars\", size=\"1472x704\")\n",
    "# Generate all\n",
    "fc.generate_all([\"Sunset\",\"Sunrise\"], **{'size':'1472x704'})\n",
    "# Set setting\n",
    "fc.set_size(\"1472x704\")"
   ]
  }
 ],
 "metadata": {
  "kernelspec": {
   "display_name": "Python 3",
   "language": "python",
   "name": "python3"
  },
  "language_info": {
   "codemirror_mode": {
    "name": "ipython",
    "version": 3
   },
   "file_extension": ".py",
   "mimetype": "text/x-python",
   "name": "python",
   "nbconvert_exporter": "python",
   "pygments_lexer": "ipython3",
   "version": "3.11.3"
  },
  "orig_nbformat": 4
 },
 "nbformat": 4,
 "nbformat_minor": 2
}
